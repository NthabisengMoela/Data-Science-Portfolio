{
 "cells": [
  {
   "cell_type": "markdown",
   "metadata": {},
   "source": [
    "## 1. Introduction\n",
    "\n",
    "In order to improve breast cancer outcomes and survival, early detection is critical.There are two early detection strategies for breast cancer: early diagnosis and screening.Limited resource settings with weak health systems where the majority of women are diagnosed in late stages should prioritize early diagnosis programs based on awareness of early signs and symptoms and prompt referral to diagnosis and treatment. Early diagnosis strategies focus on providing timely access to cancer treatment by reducing barriers to care and/or improving access to effective diagnosis services.\n",
    "\n",
    "The goal is to increase the proportion of breast cancers identified at an early stage, allowing for more effective treatment to be used and reducing the risks of death from breast cancer. Early detection of cancer is key to effective treatment of breast cancer we use various machine learning algorithms to predict if a tumor is benign or malignant, based on the features provided by the data."
   ]
  },
  {
   "cell_type": "markdown",
   "metadata": {},
   "source": [
    "### Problem Statement \n",
    "\n",
    "Perform exploratory data analysis and build a machine learning model that will predict the “stage” of cancer patients. "
   ]
  },
  {
   "cell_type": "markdown",
   "metadata": {},
   "source": [
    "## Import the Libraries"
   ]
  },
  {
   "cell_type": "code",
   "execution_count": 1,
   "metadata": {},
   "outputs": [],
   "source": [
    "import numpy as np #linear algebra\n",
    "import pandas as pd #data processing\n",
    "\n",
    "import matplotlib.pyplot as plt #data visualization\n",
    "import seaborn as sns #data visualization\n",
    "sns.set()\n",
    "%matplotlib inline\n",
    "\n",
    "import warnings\n",
    "warnings.filterwarnings(\"ignore\") #to ignore the warnings"
   ]
  },
  {
   "cell_type": "markdown",
   "metadata": {},
   "source": [
    "## Load the dataset"
   ]
  },
  {
   "cell_type": "code",
   "execution_count": 2,
   "metadata": {
    "scrolled": true
   },
   "outputs": [
    {
     "data": {
      "text/html": [
       "<div>\n",
       "<style scoped>\n",
       "    .dataframe tbody tr th:only-of-type {\n",
       "        vertical-align: middle;\n",
       "    }\n",
       "\n",
       "    .dataframe tbody tr th {\n",
       "        vertical-align: top;\n",
       "    }\n",
       "\n",
       "    .dataframe thead th {\n",
       "        text-align: right;\n",
       "    }\n",
       "</style>\n",
       "<table border=\"1\" class=\"dataframe\">\n",
       "  <thead>\n",
       "    <tr style=\"text-align: right;\">\n",
       "      <th></th>\n",
       "      <th>uuid</th>\n",
       "      <th>stage</th>\n",
       "      <th>peripheral radius</th>\n",
       "      <th>mild texture</th>\n",
       "      <th>anterior perimeter</th>\n",
       "      <th>mosaic area</th>\n",
       "      <th>smoothness -grade1</th>\n",
       "      <th>compactness - level1</th>\n",
       "      <th>anterior concavity</th>\n",
       "      <th>inner concave points</th>\n",
       "      <th>...</th>\n",
       "      <th>convoluted perimeter</th>\n",
       "      <th>wide area</th>\n",
       "      <th>smoothness -grade3</th>\n",
       "      <th>compactness - level3</th>\n",
       "      <th>meshed concavity</th>\n",
       "      <th>oval concave points</th>\n",
       "      <th>symmetry - trigonal</th>\n",
       "      <th>fractal dimension3</th>\n",
       "      <th>age-group</th>\n",
       "      <th>gender</th>\n",
       "    </tr>\n",
       "  </thead>\n",
       "  <tbody>\n",
       "    <tr>\n",
       "      <th>0</th>\n",
       "      <td>842302</td>\n",
       "      <td>M</td>\n",
       "      <td>17.99</td>\n",
       "      <td>10.38</td>\n",
       "      <td>122.80</td>\n",
       "      <td>1001.0</td>\n",
       "      <td>0.11840</td>\n",
       "      <td>0.27760</td>\n",
       "      <td>0.3001</td>\n",
       "      <td>0.14710</td>\n",
       "      <td>...</td>\n",
       "      <td>184.60</td>\n",
       "      <td>2019.0</td>\n",
       "      <td>0.1622</td>\n",
       "      <td>0.6656</td>\n",
       "      <td>0.7119</td>\n",
       "      <td>0.2654</td>\n",
       "      <td>0.4601</td>\n",
       "      <td>0.11890</td>\n",
       "      <td>31-40</td>\n",
       "      <td>M</td>\n",
       "    </tr>\n",
       "    <tr>\n",
       "      <th>1</th>\n",
       "      <td>842517</td>\n",
       "      <td>M</td>\n",
       "      <td>20.57</td>\n",
       "      <td>17.77</td>\n",
       "      <td>132.90</td>\n",
       "      <td>1326.0</td>\n",
       "      <td>0.08474</td>\n",
       "      <td>0.07864</td>\n",
       "      <td>0.0869</td>\n",
       "      <td>0.07017</td>\n",
       "      <td>...</td>\n",
       "      <td>158.80</td>\n",
       "      <td>1956.0</td>\n",
       "      <td>0.1238</td>\n",
       "      <td>0.1866</td>\n",
       "      <td>0.2416</td>\n",
       "      <td>0.1860</td>\n",
       "      <td>0.2750</td>\n",
       "      <td>0.08902</td>\n",
       "      <td>31-40</td>\n",
       "      <td>F</td>\n",
       "    </tr>\n",
       "    <tr>\n",
       "      <th>2</th>\n",
       "      <td>84300903</td>\n",
       "      <td>M</td>\n",
       "      <td>19.69</td>\n",
       "      <td>21.25</td>\n",
       "      <td>130.00</td>\n",
       "      <td>1203.0</td>\n",
       "      <td>0.10960</td>\n",
       "      <td>0.15990</td>\n",
       "      <td>0.1974</td>\n",
       "      <td>0.12790</td>\n",
       "      <td>...</td>\n",
       "      <td>152.50</td>\n",
       "      <td>1709.0</td>\n",
       "      <td>0.1444</td>\n",
       "      <td>0.4245</td>\n",
       "      <td>0.4504</td>\n",
       "      <td>0.2430</td>\n",
       "      <td>0.3613</td>\n",
       "      <td>0.08758</td>\n",
       "      <td>31-40</td>\n",
       "      <td>M</td>\n",
       "    </tr>\n",
       "    <tr>\n",
       "      <th>3</th>\n",
       "      <td>84348301</td>\n",
       "      <td>M</td>\n",
       "      <td>11.42</td>\n",
       "      <td>20.38</td>\n",
       "      <td>77.58</td>\n",
       "      <td>386.1</td>\n",
       "      <td>0.14250</td>\n",
       "      <td>0.28390</td>\n",
       "      <td>0.2414</td>\n",
       "      <td>0.10520</td>\n",
       "      <td>...</td>\n",
       "      <td>98.87</td>\n",
       "      <td>567.7</td>\n",
       "      <td>0.2098</td>\n",
       "      <td>0.8663</td>\n",
       "      <td>0.6869</td>\n",
       "      <td>0.2575</td>\n",
       "      <td>0.6638</td>\n",
       "      <td>0.17300</td>\n",
       "      <td>31-40</td>\n",
       "      <td>NaN</td>\n",
       "    </tr>\n",
       "    <tr>\n",
       "      <th>4</th>\n",
       "      <td>84358402</td>\n",
       "      <td>M</td>\n",
       "      <td>20.29</td>\n",
       "      <td>14.34</td>\n",
       "      <td>135.10</td>\n",
       "      <td>1297.0</td>\n",
       "      <td>0.10030</td>\n",
       "      <td>0.13280</td>\n",
       "      <td>0.1980</td>\n",
       "      <td>0.10430</td>\n",
       "      <td>...</td>\n",
       "      <td>152.20</td>\n",
       "      <td>1575.0</td>\n",
       "      <td>0.1374</td>\n",
       "      <td>0.2050</td>\n",
       "      <td>0.4000</td>\n",
       "      <td>0.1625</td>\n",
       "      <td>0.2364</td>\n",
       "      <td>0.07678</td>\n",
       "      <td>31-40</td>\n",
       "      <td>M</td>\n",
       "    </tr>\n",
       "  </tbody>\n",
       "</table>\n",
       "<p>5 rows × 34 columns</p>\n",
       "</div>"
      ],
      "text/plain": [
       "       uuid stage  peripheral radius  mild texture  anterior perimeter  \\\n",
       "0    842302     M              17.99         10.38              122.80   \n",
       "1    842517     M              20.57         17.77              132.90   \n",
       "2  84300903     M              19.69         21.25              130.00   \n",
       "3  84348301     M              11.42         20.38               77.58   \n",
       "4  84358402     M              20.29         14.34              135.10   \n",
       "\n",
       "   mosaic area  smoothness -grade1  compactness - level1  anterior concavity  \\\n",
       "0       1001.0             0.11840               0.27760              0.3001   \n",
       "1       1326.0             0.08474               0.07864              0.0869   \n",
       "2       1203.0             0.10960               0.15990              0.1974   \n",
       "3        386.1             0.14250               0.28390              0.2414   \n",
       "4       1297.0             0.10030               0.13280              0.1980   \n",
       "\n",
       "   inner concave points  ...  convoluted perimeter  wide area  \\\n",
       "0               0.14710  ...                184.60     2019.0   \n",
       "1               0.07017  ...                158.80     1956.0   \n",
       "2               0.12790  ...                152.50     1709.0   \n",
       "3               0.10520  ...                 98.87      567.7   \n",
       "4               0.10430  ...                152.20     1575.0   \n",
       "\n",
       "   smoothness -grade3  compactness - level3  meshed concavity  \\\n",
       "0              0.1622                0.6656            0.7119   \n",
       "1              0.1238                0.1866            0.2416   \n",
       "2              0.1444                0.4245            0.4504   \n",
       "3              0.2098                0.8663            0.6869   \n",
       "4              0.1374                0.2050            0.4000   \n",
       "\n",
       "   oval concave points  symmetry - trigonal  fractal dimension3  age-group  \\\n",
       "0               0.2654               0.4601             0.11890      31-40   \n",
       "1               0.1860               0.2750             0.08902      31-40   \n",
       "2               0.2430               0.3613             0.08758      31-40   \n",
       "3               0.2575               0.6638             0.17300      31-40   \n",
       "4               0.1625               0.2364             0.07678      31-40   \n",
       "\n",
       "   gender  \n",
       "0       M  \n",
       "1       F  \n",
       "2       M  \n",
       "3     NaN  \n",
       "4       M  \n",
       "\n",
       "[5 rows x 34 columns]"
      ]
     },
     "execution_count": 2,
     "metadata": {},
     "output_type": "execute_result"
    }
   ],
   "source": [
    "df = pd.read_csv('cancer_data_assessment.csv', sep=';')\n",
    "df.head()"
   ]
  },
  {
   "cell_type": "markdown",
   "metadata": {},
   "source": [
    "## 2 Exploratory Data Analysis\n",
    "\n",
    "The first step in solving any problem is understanding the problem.I performed exploratory data analysis on the cancer dataset inorder to understand the existing trends within the data that can inform the machine learning section of the project as well as the factors that inform the stage that breast cancer is at. "
   ]
  },
  {
   "cell_type": "code",
   "execution_count": 3,
   "metadata": {},
   "outputs": [],
   "source": [
    "#make a copy of the data\n",
    "df1 = df.copy()"
   ]
  },
  {
   "cell_type": "code",
   "execution_count": 4,
   "metadata": {},
   "outputs": [
    {
     "data": {
      "text/plain": [
       "(709, 34)"
      ]
     },
     "execution_count": 4,
     "metadata": {},
     "output_type": "execute_result"
    }
   ],
   "source": [
    "#understanding of the shape of the data\n",
    "df1.shape"
   ]
  },
  {
   "cell_type": "code",
   "execution_count": 5,
   "metadata": {},
   "outputs": [
    {
     "name": "stdout",
     "output_type": "stream",
     "text": [
      "<class 'pandas.core.frame.DataFrame'>\n",
      "RangeIndex: 709 entries, 0 to 708\n",
      "Data columns (total 34 columns):\n",
      " #   Column                Non-Null Count  Dtype  \n",
      "---  ------                --------------  -----  \n",
      " 0   uuid                  709 non-null    int64  \n",
      " 1   stage                 709 non-null    object \n",
      " 2   peripheral radius     709 non-null    float64\n",
      " 3   mild texture          709 non-null    float64\n",
      " 4   anterior perimeter    700 non-null    float64\n",
      " 5   mosaic area           700 non-null    float64\n",
      " 6   smoothness -grade1    703 non-null    float64\n",
      " 7   compactness - level1  703 non-null    float64\n",
      " 8   anterior concavity    709 non-null    float64\n",
      " 9   inner concave points  706 non-null    float64\n",
      " 10  symmetry -cubic       709 non-null    float64\n",
      " 11  fractal dimension1    709 non-null    float64\n",
      " 12  internal radius       707 non-null    float64\n",
      " 13  coerce texture        707 non-null    float64\n",
      " 14  posterior perimeter   707 non-null    float64\n",
      " 15  lipid area            707 non-null    float64\n",
      " 16  smoothness -grade2    709 non-null    float64\n",
      " 17  compactness - level2  709 non-null    float64\n",
      " 18  posterior concavity   704 non-null    float64\n",
      " 19  outer concave points  704 non-null    float64\n",
      " 20  symmetry - hexagonal  704 non-null    float64\n",
      " 21  fractal dimension2    709 non-null    float64\n",
      " 22  external radius       709 non-null    float64\n",
      " 23  granular texture      709 non-null    float64\n",
      " 24  convoluted perimeter  709 non-null    float64\n",
      " 25  wide area             709 non-null    float64\n",
      " 26  smoothness -grade3    709 non-null    float64\n",
      " 27  compactness - level3  709 non-null    float64\n",
      " 28  meshed concavity      709 non-null    float64\n",
      " 29  oval concave points   709 non-null    float64\n",
      " 30  symmetry - trigonal   709 non-null    float64\n",
      " 31  fractal dimension3    709 non-null    float64\n",
      " 32  age-group             701 non-null    object \n",
      " 33  gender                703 non-null    object \n",
      "dtypes: float64(30), int64(1), object(3)\n",
      "memory usage: 188.5+ KB\n"
     ]
    }
   ],
   "source": [
    "df1.info()"
   ]
  },
  {
   "cell_type": "code",
   "execution_count": 6,
   "metadata": {},
   "outputs": [
    {
     "data": {
      "text/html": [
       "<div>\n",
       "<style scoped>\n",
       "    .dataframe tbody tr th:only-of-type {\n",
       "        vertical-align: middle;\n",
       "    }\n",
       "\n",
       "    .dataframe tbody tr th {\n",
       "        vertical-align: top;\n",
       "    }\n",
       "\n",
       "    .dataframe thead th {\n",
       "        text-align: right;\n",
       "    }\n",
       "</style>\n",
       "<table border=\"1\" class=\"dataframe\">\n",
       "  <thead>\n",
       "    <tr style=\"text-align: right;\">\n",
       "      <th></th>\n",
       "      <th>uuid</th>\n",
       "      <th>peripheral radius</th>\n",
       "      <th>mild texture</th>\n",
       "      <th>anterior perimeter</th>\n",
       "      <th>mosaic area</th>\n",
       "      <th>smoothness -grade1</th>\n",
       "      <th>compactness - level1</th>\n",
       "      <th>anterior concavity</th>\n",
       "      <th>inner concave points</th>\n",
       "      <th>symmetry -cubic</th>\n",
       "      <th>...</th>\n",
       "      <th>external radius</th>\n",
       "      <th>granular texture</th>\n",
       "      <th>convoluted perimeter</th>\n",
       "      <th>wide area</th>\n",
       "      <th>smoothness -grade3</th>\n",
       "      <th>compactness - level3</th>\n",
       "      <th>meshed concavity</th>\n",
       "      <th>oval concave points</th>\n",
       "      <th>symmetry - trigonal</th>\n",
       "      <th>fractal dimension3</th>\n",
       "    </tr>\n",
       "  </thead>\n",
       "  <tbody>\n",
       "    <tr>\n",
       "      <th>count</th>\n",
       "      <td>7.090000e+02</td>\n",
       "      <td>709.000000</td>\n",
       "      <td>709.000000</td>\n",
       "      <td>700.000000</td>\n",
       "      <td>700.000000</td>\n",
       "      <td>703.000000</td>\n",
       "      <td>703.000000</td>\n",
       "      <td>709.000000</td>\n",
       "      <td>706.000000</td>\n",
       "      <td>709.000000</td>\n",
       "      <td>...</td>\n",
       "      <td>709.000000</td>\n",
       "      <td>709.000000</td>\n",
       "      <td>709.000000</td>\n",
       "      <td>709.000000</td>\n",
       "      <td>709.000000</td>\n",
       "      <td>709.000000</td>\n",
       "      <td>709.000000</td>\n",
       "      <td>709.000000</td>\n",
       "      <td>709.000000</td>\n",
       "      <td>709.000000</td>\n",
       "    </tr>\n",
       "    <tr>\n",
       "      <th>mean</th>\n",
       "      <td>2.439290e+07</td>\n",
       "      <td>14.162186</td>\n",
       "      <td>19.443216</td>\n",
       "      <td>92.138286</td>\n",
       "      <td>655.918143</td>\n",
       "      <td>0.096858</td>\n",
       "      <td>0.107027</td>\n",
       "      <td>0.090418</td>\n",
       "      <td>0.049505</td>\n",
       "      <td>0.181578</td>\n",
       "      <td>...</td>\n",
       "      <td>16.294017</td>\n",
       "      <td>25.853385</td>\n",
       "      <td>107.550113</td>\n",
       "      <td>881.861918</td>\n",
       "      <td>0.133164</td>\n",
       "      <td>0.262001</td>\n",
       "      <td>0.277985</td>\n",
       "      <td>0.116536</td>\n",
       "      <td>0.291375</td>\n",
       "      <td>0.085207</td>\n",
       "    </tr>\n",
       "    <tr>\n",
       "      <th>std</th>\n",
       "      <td>1.126274e+08</td>\n",
       "      <td>3.523636</td>\n",
       "      <td>4.356991</td>\n",
       "      <td>24.311926</td>\n",
       "      <td>350.025119</td>\n",
       "      <td>0.014697</td>\n",
       "      <td>0.054666</td>\n",
       "      <td>0.079522</td>\n",
       "      <td>0.038669</td>\n",
       "      <td>0.027531</td>\n",
       "      <td>...</td>\n",
       "      <td>4.794349</td>\n",
       "      <td>6.148132</td>\n",
       "      <td>33.440611</td>\n",
       "      <td>560.798231</td>\n",
       "      <td>0.023382</td>\n",
       "      <td>0.165899</td>\n",
       "      <td>0.211748</td>\n",
       "      <td>0.066065</td>\n",
       "      <td>0.064544</td>\n",
       "      <td>0.019848</td>\n",
       "    </tr>\n",
       "    <tr>\n",
       "      <th>min</th>\n",
       "      <td>8.670000e+03</td>\n",
       "      <td>6.981000</td>\n",
       "      <td>9.710000</td>\n",
       "      <td>43.790000</td>\n",
       "      <td>143.500000</td>\n",
       "      <td>0.052630</td>\n",
       "      <td>0.019380</td>\n",
       "      <td>0.000000</td>\n",
       "      <td>0.000000</td>\n",
       "      <td>0.106000</td>\n",
       "      <td>...</td>\n",
       "      <td>7.930000</td>\n",
       "      <td>12.020000</td>\n",
       "      <td>50.410000</td>\n",
       "      <td>185.200000</td>\n",
       "      <td>0.071170</td>\n",
       "      <td>0.027290</td>\n",
       "      <td>0.000000</td>\n",
       "      <td>0.000000</td>\n",
       "      <td>0.156500</td>\n",
       "      <td>0.055040</td>\n",
       "    </tr>\n",
       "    <tr>\n",
       "      <th>25%</th>\n",
       "      <td>9.288800e+04</td>\n",
       "      <td>11.690000</td>\n",
       "      <td>16.330000</td>\n",
       "      <td>75.267500</td>\n",
       "      <td>419.525000</td>\n",
       "      <td>0.086390</td>\n",
       "      <td>0.066525</td>\n",
       "      <td>0.030360</td>\n",
       "      <td>0.020710</td>\n",
       "      <td>0.162000</td>\n",
       "      <td>...</td>\n",
       "      <td>13.050000</td>\n",
       "      <td>21.400000</td>\n",
       "      <td>84.420000</td>\n",
       "      <td>515.900000</td>\n",
       "      <td>0.117000</td>\n",
       "      <td>0.150800</td>\n",
       "      <td>0.122600</td>\n",
       "      <td>0.065600</td>\n",
       "      <td>0.250000</td>\n",
       "      <td>0.072110</td>\n",
       "    </tr>\n",
       "    <tr>\n",
       "      <th>50%</th>\n",
       "      <td>8.926040e+05</td>\n",
       "      <td>13.450000</td>\n",
       "      <td>19.040000</td>\n",
       "      <td>86.890000</td>\n",
       "      <td>551.400000</td>\n",
       "      <td>0.095970</td>\n",
       "      <td>0.096610</td>\n",
       "      <td>0.061950</td>\n",
       "      <td>0.034605</td>\n",
       "      <td>0.179400</td>\n",
       "      <td>...</td>\n",
       "      <td>15.050000</td>\n",
       "      <td>25.500000</td>\n",
       "      <td>98.840000</td>\n",
       "      <td>697.700000</td>\n",
       "      <td>0.131600</td>\n",
       "      <td>0.217000</td>\n",
       "      <td>0.232200</td>\n",
       "      <td>0.101800</td>\n",
       "      <td>0.281800</td>\n",
       "      <td>0.080520</td>\n",
       "    </tr>\n",
       "    <tr>\n",
       "      <th>75%</th>\n",
       "      <td>8.610629e+06</td>\n",
       "      <td>16.020000</td>\n",
       "      <td>21.940000</td>\n",
       "      <td>104.150000</td>\n",
       "      <td>794.350000</td>\n",
       "      <td>0.106250</td>\n",
       "      <td>0.131650</td>\n",
       "      <td>0.134800</td>\n",
       "      <td>0.074030</td>\n",
       "      <td>0.196600</td>\n",
       "      <td>...</td>\n",
       "      <td>18.980000</td>\n",
       "      <td>30.040000</td>\n",
       "      <td>125.400000</td>\n",
       "      <td>1088.000000</td>\n",
       "      <td>0.146400</td>\n",
       "      <td>0.342900</td>\n",
       "      <td>0.386500</td>\n",
       "      <td>0.162800</td>\n",
       "      <td>0.318400</td>\n",
       "      <td>0.092610</td>\n",
       "    </tr>\n",
       "    <tr>\n",
       "      <th>max</th>\n",
       "      <td>9.113205e+08</td>\n",
       "      <td>28.110000</td>\n",
       "      <td>39.280000</td>\n",
       "      <td>188.500000</td>\n",
       "      <td>2501.000000</td>\n",
       "      <td>0.163400</td>\n",
       "      <td>0.345400</td>\n",
       "      <td>0.426800</td>\n",
       "      <td>0.201200</td>\n",
       "      <td>0.304000</td>\n",
       "      <td>...</td>\n",
       "      <td>36.040000</td>\n",
       "      <td>49.540000</td>\n",
       "      <td>251.200000</td>\n",
       "      <td>4254.000000</td>\n",
       "      <td>0.222600</td>\n",
       "      <td>1.058000</td>\n",
       "      <td>1.252000</td>\n",
       "      <td>0.291000</td>\n",
       "      <td>0.663800</td>\n",
       "      <td>0.207500</td>\n",
       "    </tr>\n",
       "  </tbody>\n",
       "</table>\n",
       "<p>8 rows × 31 columns</p>\n",
       "</div>"
      ],
      "text/plain": [
       "               uuid  peripheral radius  mild texture  anterior perimeter  \\\n",
       "count  7.090000e+02         709.000000    709.000000          700.000000   \n",
       "mean   2.439290e+07          14.162186     19.443216           92.138286   \n",
       "std    1.126274e+08           3.523636      4.356991           24.311926   \n",
       "min    8.670000e+03           6.981000      9.710000           43.790000   \n",
       "25%    9.288800e+04          11.690000     16.330000           75.267500   \n",
       "50%    8.926040e+05          13.450000     19.040000           86.890000   \n",
       "75%    8.610629e+06          16.020000     21.940000          104.150000   \n",
       "max    9.113205e+08          28.110000     39.280000          188.500000   \n",
       "\n",
       "       mosaic area  smoothness -grade1  compactness - level1  \\\n",
       "count   700.000000          703.000000            703.000000   \n",
       "mean    655.918143            0.096858              0.107027   \n",
       "std     350.025119            0.014697              0.054666   \n",
       "min     143.500000            0.052630              0.019380   \n",
       "25%     419.525000            0.086390              0.066525   \n",
       "50%     551.400000            0.095970              0.096610   \n",
       "75%     794.350000            0.106250              0.131650   \n",
       "max    2501.000000            0.163400              0.345400   \n",
       "\n",
       "       anterior concavity  inner concave points  symmetry -cubic  ...  \\\n",
       "count          709.000000            706.000000       709.000000  ...   \n",
       "mean             0.090418              0.049505         0.181578  ...   \n",
       "std              0.079522              0.038669         0.027531  ...   \n",
       "min              0.000000              0.000000         0.106000  ...   \n",
       "25%              0.030360              0.020710         0.162000  ...   \n",
       "50%              0.061950              0.034605         0.179400  ...   \n",
       "75%              0.134800              0.074030         0.196600  ...   \n",
       "max              0.426800              0.201200         0.304000  ...   \n",
       "\n",
       "       external radius  granular texture  convoluted perimeter    wide area  \\\n",
       "count       709.000000        709.000000            709.000000   709.000000   \n",
       "mean         16.294017         25.853385            107.550113   881.861918   \n",
       "std           4.794349          6.148132             33.440611   560.798231   \n",
       "min           7.930000         12.020000             50.410000   185.200000   \n",
       "25%          13.050000         21.400000             84.420000   515.900000   \n",
       "50%          15.050000         25.500000             98.840000   697.700000   \n",
       "75%          18.980000         30.040000            125.400000  1088.000000   \n",
       "max          36.040000         49.540000            251.200000  4254.000000   \n",
       "\n",
       "       smoothness -grade3  compactness - level3  meshed concavity  \\\n",
       "count          709.000000            709.000000        709.000000   \n",
       "mean             0.133164              0.262001          0.277985   \n",
       "std              0.023382              0.165899          0.211748   \n",
       "min              0.071170              0.027290          0.000000   \n",
       "25%              0.117000              0.150800          0.122600   \n",
       "50%              0.131600              0.217000          0.232200   \n",
       "75%              0.146400              0.342900          0.386500   \n",
       "max              0.222600              1.058000          1.252000   \n",
       "\n",
       "       oval concave points  symmetry - trigonal  fractal dimension3  \n",
       "count           709.000000           709.000000          709.000000  \n",
       "mean              0.116536             0.291375            0.085207  \n",
       "std               0.066065             0.064544            0.019848  \n",
       "min               0.000000             0.156500            0.055040  \n",
       "25%               0.065600             0.250000            0.072110  \n",
       "50%               0.101800             0.281800            0.080520  \n",
       "75%               0.162800             0.318400            0.092610  \n",
       "max               0.291000             0.663800            0.207500  \n",
       "\n",
       "[8 rows x 31 columns]"
      ]
     },
     "execution_count": 6,
     "metadata": {},
     "output_type": "execute_result"
    }
   ],
   "source": [
    "# summarize the dataset\n",
    "df1.describe()"
   ]
  },
  {
   "cell_type": "markdown",
   "metadata": {},
   "source": [
    "### 2.1 Checking for missing values"
   ]
  },
  {
   "cell_type": "code",
   "execution_count": 7,
   "metadata": {},
   "outputs": [
    {
     "data": {
      "text/plain": [
       "uuid                    0\n",
       "stage                   0\n",
       "peripheral radius       0\n",
       "mild texture            0\n",
       "anterior perimeter      9\n",
       "mosaic area             9\n",
       "smoothness -grade1      6\n",
       "compactness - level1    6\n",
       "anterior concavity      0\n",
       "inner concave points    3\n",
       "symmetry -cubic         0\n",
       "fractal dimension1      0\n",
       "internal radius         2\n",
       "coerce texture          2\n",
       "posterior perimeter     2\n",
       "lipid area              2\n",
       "smoothness -grade2      0\n",
       "compactness - level2    0\n",
       "posterior concavity     5\n",
       "outer concave points    5\n",
       "symmetry - hexagonal    5\n",
       "fractal dimension2      0\n",
       "external radius         0\n",
       "granular texture        0\n",
       "convoluted perimeter    0\n",
       "wide area               0\n",
       "smoothness -grade3      0\n",
       "compactness - level3    0\n",
       "meshed concavity        0\n",
       "oval concave points     0\n",
       "symmetry - trigonal     0\n",
       "fractal dimension3      0\n",
       "age-group               8\n",
       "gender                  6\n",
       "dtype: int64"
      ]
     },
     "execution_count": 7,
     "metadata": {},
     "output_type": "execute_result"
    }
   ],
   "source": [
    "df1.isnull().sum()"
   ]
  },
  {
   "cell_type": "markdown",
   "metadata": {},
   "source": [
    "### 2.1.1 mputation of Null Values"
   ]
  },
  {
   "cell_type": "markdown",
   "metadata": {},
   "source": [
    "As seen above that there are a few columns with missing values. The columns that have missing values have no more than 10 missing values within the dataset that has 709 row,These columns have enough data that is complete that we can fill in the missing values through imputation."
   ]
  },
  {
   "cell_type": "code",
   "execution_count": 8,
   "metadata": {},
   "outputs": [],
   "source": [
    "def imputer(df):\n",
    "    \n",
    "    \"\"\"\"\n",
    "    This function inputs a df that includes missing values and outputs df that \n",
    "    does not have any missing values using imputation \n",
    "    \n",
    "    \"\"\"\n",
    "\n",
    "    cateogry_columns=df.select_dtypes(include=['object','float64']).columns.tolist()\n",
    "\n",
    "\n",
    "    for column in df:\n",
    "        if df[column].isnull().any():\n",
    "            if(column in cateogry_columns):\n",
    "                df[column]=df[column].fillna(df[column].mode()[0])\n",
    "\n",
    "    integer_columns=df.select_dtypes(include=['int64']).columns.tolist()\n",
    "    for column in df:\n",
    "        if df[column].isnull().any():\n",
    "            if(column in integer_columns):\n",
    "                df[column]=df[column].fillna(df[column].mean()[0])\n",
    "    return df"
   ]
  },
  {
   "cell_type": "code",
   "execution_count": 9,
   "metadata": {},
   "outputs": [
    {
     "data": {
      "text/plain": [
       "uuid                    0\n",
       "stage                   0\n",
       "peripheral radius       0\n",
       "mild texture            0\n",
       "anterior perimeter      0\n",
       "mosaic area             0\n",
       "smoothness -grade1      0\n",
       "compactness - level1    0\n",
       "anterior concavity      0\n",
       "inner concave points    0\n",
       "symmetry -cubic         0\n",
       "fractal dimension1      0\n",
       "internal radius         0\n",
       "coerce texture          0\n",
       "posterior perimeter     0\n",
       "lipid area              0\n",
       "smoothness -grade2      0\n",
       "compactness - level2    0\n",
       "posterior concavity     0\n",
       "outer concave points    0\n",
       "symmetry - hexagonal    0\n",
       "fractal dimension2      0\n",
       "external radius         0\n",
       "granular texture        0\n",
       "convoluted perimeter    0\n",
       "wide area               0\n",
       "smoothness -grade3      0\n",
       "compactness - level3    0\n",
       "meshed concavity        0\n",
       "oval concave points     0\n",
       "symmetry - trigonal     0\n",
       "fractal dimension3      0\n",
       "age-group               0\n",
       "gender                  0\n",
       "dtype: int64"
      ]
     },
     "execution_count": 9,
     "metadata": {},
     "output_type": "execute_result"
    }
   ],
   "source": [
    "df1 = imputer(df1)\n",
    "#check wether the imputer function worked\n",
    "df1.isnull().sum()"
   ]
  },
  {
   "cell_type": "code",
   "execution_count": 10,
   "metadata": {
    "scrolled": true
   },
   "outputs": [
    {
     "data": {
      "text/html": [
       "<div>\n",
       "<style scoped>\n",
       "    .dataframe tbody tr th:only-of-type {\n",
       "        vertical-align: middle;\n",
       "    }\n",
       "\n",
       "    .dataframe tbody tr th {\n",
       "        vertical-align: top;\n",
       "    }\n",
       "\n",
       "    .dataframe thead th {\n",
       "        text-align: right;\n",
       "    }\n",
       "</style>\n",
       "<table border=\"1\" class=\"dataframe\">\n",
       "  <thead>\n",
       "    <tr style=\"text-align: right;\">\n",
       "      <th></th>\n",
       "      <th>stage</th>\n",
       "      <th>peripheral radius</th>\n",
       "      <th>mild texture</th>\n",
       "      <th>anterior perimeter</th>\n",
       "      <th>mosaic area</th>\n",
       "      <th>smoothness -grade1</th>\n",
       "      <th>compactness - level1</th>\n",
       "      <th>anterior concavity</th>\n",
       "      <th>inner concave points</th>\n",
       "      <th>symmetry -cubic</th>\n",
       "      <th>...</th>\n",
       "      <th>convoluted perimeter</th>\n",
       "      <th>wide area</th>\n",
       "      <th>smoothness -grade3</th>\n",
       "      <th>compactness - level3</th>\n",
       "      <th>meshed concavity</th>\n",
       "      <th>oval concave points</th>\n",
       "      <th>symmetry - trigonal</th>\n",
       "      <th>fractal dimension3</th>\n",
       "      <th>age-group</th>\n",
       "      <th>gender</th>\n",
       "    </tr>\n",
       "  </thead>\n",
       "  <tbody>\n",
       "    <tr>\n",
       "      <th>0</th>\n",
       "      <td>M</td>\n",
       "      <td>17.99</td>\n",
       "      <td>10.38</td>\n",
       "      <td>122.80</td>\n",
       "      <td>1001.0</td>\n",
       "      <td>0.11840</td>\n",
       "      <td>0.27760</td>\n",
       "      <td>0.3001</td>\n",
       "      <td>0.14710</td>\n",
       "      <td>0.2419</td>\n",
       "      <td>...</td>\n",
       "      <td>184.60</td>\n",
       "      <td>2019.0</td>\n",
       "      <td>0.1622</td>\n",
       "      <td>0.6656</td>\n",
       "      <td>0.7119</td>\n",
       "      <td>0.2654</td>\n",
       "      <td>0.4601</td>\n",
       "      <td>0.11890</td>\n",
       "      <td>31-40</td>\n",
       "      <td>M</td>\n",
       "    </tr>\n",
       "    <tr>\n",
       "      <th>1</th>\n",
       "      <td>M</td>\n",
       "      <td>20.57</td>\n",
       "      <td>17.77</td>\n",
       "      <td>132.90</td>\n",
       "      <td>1326.0</td>\n",
       "      <td>0.08474</td>\n",
       "      <td>0.07864</td>\n",
       "      <td>0.0869</td>\n",
       "      <td>0.07017</td>\n",
       "      <td>0.1812</td>\n",
       "      <td>...</td>\n",
       "      <td>158.80</td>\n",
       "      <td>1956.0</td>\n",
       "      <td>0.1238</td>\n",
       "      <td>0.1866</td>\n",
       "      <td>0.2416</td>\n",
       "      <td>0.1860</td>\n",
       "      <td>0.2750</td>\n",
       "      <td>0.08902</td>\n",
       "      <td>31-40</td>\n",
       "      <td>F</td>\n",
       "    </tr>\n",
       "    <tr>\n",
       "      <th>2</th>\n",
       "      <td>M</td>\n",
       "      <td>19.69</td>\n",
       "      <td>21.25</td>\n",
       "      <td>130.00</td>\n",
       "      <td>1203.0</td>\n",
       "      <td>0.10960</td>\n",
       "      <td>0.15990</td>\n",
       "      <td>0.1974</td>\n",
       "      <td>0.12790</td>\n",
       "      <td>0.2069</td>\n",
       "      <td>...</td>\n",
       "      <td>152.50</td>\n",
       "      <td>1709.0</td>\n",
       "      <td>0.1444</td>\n",
       "      <td>0.4245</td>\n",
       "      <td>0.4504</td>\n",
       "      <td>0.2430</td>\n",
       "      <td>0.3613</td>\n",
       "      <td>0.08758</td>\n",
       "      <td>31-40</td>\n",
       "      <td>M</td>\n",
       "    </tr>\n",
       "    <tr>\n",
       "      <th>3</th>\n",
       "      <td>M</td>\n",
       "      <td>11.42</td>\n",
       "      <td>20.38</td>\n",
       "      <td>77.58</td>\n",
       "      <td>386.1</td>\n",
       "      <td>0.14250</td>\n",
       "      <td>0.28390</td>\n",
       "      <td>0.2414</td>\n",
       "      <td>0.10520</td>\n",
       "      <td>0.2597</td>\n",
       "      <td>...</td>\n",
       "      <td>98.87</td>\n",
       "      <td>567.7</td>\n",
       "      <td>0.2098</td>\n",
       "      <td>0.8663</td>\n",
       "      <td>0.6869</td>\n",
       "      <td>0.2575</td>\n",
       "      <td>0.6638</td>\n",
       "      <td>0.17300</td>\n",
       "      <td>31-40</td>\n",
       "      <td>M</td>\n",
       "    </tr>\n",
       "    <tr>\n",
       "      <th>4</th>\n",
       "      <td>M</td>\n",
       "      <td>20.29</td>\n",
       "      <td>14.34</td>\n",
       "      <td>135.10</td>\n",
       "      <td>1297.0</td>\n",
       "      <td>0.10030</td>\n",
       "      <td>0.13280</td>\n",
       "      <td>0.1980</td>\n",
       "      <td>0.10430</td>\n",
       "      <td>0.1809</td>\n",
       "      <td>...</td>\n",
       "      <td>152.20</td>\n",
       "      <td>1575.0</td>\n",
       "      <td>0.1374</td>\n",
       "      <td>0.2050</td>\n",
       "      <td>0.4000</td>\n",
       "      <td>0.1625</td>\n",
       "      <td>0.2364</td>\n",
       "      <td>0.07678</td>\n",
       "      <td>31-40</td>\n",
       "      <td>M</td>\n",
       "    </tr>\n",
       "  </tbody>\n",
       "</table>\n",
       "<p>5 rows × 33 columns</p>\n",
       "</div>"
      ],
      "text/plain": [
       "  stage  peripheral radius  mild texture  anterior perimeter  mosaic area  \\\n",
       "0     M              17.99         10.38              122.80       1001.0   \n",
       "1     M              20.57         17.77              132.90       1326.0   \n",
       "2     M              19.69         21.25              130.00       1203.0   \n",
       "3     M              11.42         20.38               77.58        386.1   \n",
       "4     M              20.29         14.34              135.10       1297.0   \n",
       "\n",
       "   smoothness -grade1  compactness - level1  anterior concavity  \\\n",
       "0             0.11840               0.27760              0.3001   \n",
       "1             0.08474               0.07864              0.0869   \n",
       "2             0.10960               0.15990              0.1974   \n",
       "3             0.14250               0.28390              0.2414   \n",
       "4             0.10030               0.13280              0.1980   \n",
       "\n",
       "   inner concave points  symmetry -cubic  ...  convoluted perimeter  \\\n",
       "0               0.14710           0.2419  ...                184.60   \n",
       "1               0.07017           0.1812  ...                158.80   \n",
       "2               0.12790           0.2069  ...                152.50   \n",
       "3               0.10520           0.2597  ...                 98.87   \n",
       "4               0.10430           0.1809  ...                152.20   \n",
       "\n",
       "   wide area  smoothness -grade3  compactness - level3  meshed concavity  \\\n",
       "0     2019.0              0.1622                0.6656            0.7119   \n",
       "1     1956.0              0.1238                0.1866            0.2416   \n",
       "2     1709.0              0.1444                0.4245            0.4504   \n",
       "3      567.7              0.2098                0.8663            0.6869   \n",
       "4     1575.0              0.1374                0.2050            0.4000   \n",
       "\n",
       "   oval concave points  symmetry - trigonal  fractal dimension3  age-group  \\\n",
       "0               0.2654               0.4601             0.11890      31-40   \n",
       "1               0.1860               0.2750             0.08902      31-40   \n",
       "2               0.2430               0.3613             0.08758      31-40   \n",
       "3               0.2575               0.6638             0.17300      31-40   \n",
       "4               0.1625               0.2364             0.07678      31-40   \n",
       "\n",
       "   gender  \n",
       "0       M  \n",
       "1       F  \n",
       "2       M  \n",
       "3       M  \n",
       "4       M  \n",
       "\n",
       "[5 rows x 33 columns]"
      ]
     },
     "execution_count": 10,
     "metadata": {},
     "output_type": "execute_result"
    }
   ],
   "source": [
    "#drop uuid column as it is not useful for understanding trends within the data\n",
    "df1 = df1.drop('uuid',axis=1)\n",
    "df1.head()"
   ]
  },
  {
   "cell_type": "code",
   "execution_count": 11,
   "metadata": {
    "scrolled": true
   },
   "outputs": [
    {
     "data": {
      "text/html": [
       "<div>\n",
       "<style scoped>\n",
       "    .dataframe tbody tr th:only-of-type {\n",
       "        vertical-align: middle;\n",
       "    }\n",
       "\n",
       "    .dataframe tbody tr th {\n",
       "        vertical-align: top;\n",
       "    }\n",
       "\n",
       "    .dataframe thead th {\n",
       "        text-align: right;\n",
       "    }\n",
       "</style>\n",
       "<table border=\"1\" class=\"dataframe\">\n",
       "  <thead>\n",
       "    <tr style=\"text-align: right;\">\n",
       "      <th></th>\n",
       "      <th>stage</th>\n",
       "      <th>peripheral radius</th>\n",
       "      <th>mild texture</th>\n",
       "      <th>anterior perimeter</th>\n",
       "      <th>mosaic area</th>\n",
       "      <th>smoothness -grade1</th>\n",
       "      <th>compactness - level1</th>\n",
       "      <th>anterior concavity</th>\n",
       "      <th>inner concave points</th>\n",
       "      <th>symmetry -cubic</th>\n",
       "      <th>...</th>\n",
       "      <th>convoluted perimeter</th>\n",
       "      <th>wide area</th>\n",
       "      <th>smoothness -grade3</th>\n",
       "      <th>compactness - level3</th>\n",
       "      <th>meshed concavity</th>\n",
       "      <th>oval concave points</th>\n",
       "      <th>symmetry - trigonal</th>\n",
       "      <th>fractal dimension3</th>\n",
       "      <th>age-group</th>\n",
       "      <th>gender</th>\n",
       "    </tr>\n",
       "  </thead>\n",
       "  <tbody>\n",
       "    <tr>\n",
       "      <th>0</th>\n",
       "      <td>1</td>\n",
       "      <td>17.99</td>\n",
       "      <td>10.38</td>\n",
       "      <td>122.80</td>\n",
       "      <td>1001.0</td>\n",
       "      <td>0.11840</td>\n",
       "      <td>0.27760</td>\n",
       "      <td>0.3001</td>\n",
       "      <td>0.14710</td>\n",
       "      <td>0.2419</td>\n",
       "      <td>...</td>\n",
       "      <td>184.60</td>\n",
       "      <td>2019.0</td>\n",
       "      <td>0.1622</td>\n",
       "      <td>0.6656</td>\n",
       "      <td>0.7119</td>\n",
       "      <td>0.2654</td>\n",
       "      <td>0.4601</td>\n",
       "      <td>0.11890</td>\n",
       "      <td>31-40</td>\n",
       "      <td>M</td>\n",
       "    </tr>\n",
       "    <tr>\n",
       "      <th>1</th>\n",
       "      <td>1</td>\n",
       "      <td>20.57</td>\n",
       "      <td>17.77</td>\n",
       "      <td>132.90</td>\n",
       "      <td>1326.0</td>\n",
       "      <td>0.08474</td>\n",
       "      <td>0.07864</td>\n",
       "      <td>0.0869</td>\n",
       "      <td>0.07017</td>\n",
       "      <td>0.1812</td>\n",
       "      <td>...</td>\n",
       "      <td>158.80</td>\n",
       "      <td>1956.0</td>\n",
       "      <td>0.1238</td>\n",
       "      <td>0.1866</td>\n",
       "      <td>0.2416</td>\n",
       "      <td>0.1860</td>\n",
       "      <td>0.2750</td>\n",
       "      <td>0.08902</td>\n",
       "      <td>31-40</td>\n",
       "      <td>F</td>\n",
       "    </tr>\n",
       "    <tr>\n",
       "      <th>2</th>\n",
       "      <td>1</td>\n",
       "      <td>19.69</td>\n",
       "      <td>21.25</td>\n",
       "      <td>130.00</td>\n",
       "      <td>1203.0</td>\n",
       "      <td>0.10960</td>\n",
       "      <td>0.15990</td>\n",
       "      <td>0.1974</td>\n",
       "      <td>0.12790</td>\n",
       "      <td>0.2069</td>\n",
       "      <td>...</td>\n",
       "      <td>152.50</td>\n",
       "      <td>1709.0</td>\n",
       "      <td>0.1444</td>\n",
       "      <td>0.4245</td>\n",
       "      <td>0.4504</td>\n",
       "      <td>0.2430</td>\n",
       "      <td>0.3613</td>\n",
       "      <td>0.08758</td>\n",
       "      <td>31-40</td>\n",
       "      <td>M</td>\n",
       "    </tr>\n",
       "    <tr>\n",
       "      <th>3</th>\n",
       "      <td>1</td>\n",
       "      <td>11.42</td>\n",
       "      <td>20.38</td>\n",
       "      <td>77.58</td>\n",
       "      <td>386.1</td>\n",
       "      <td>0.14250</td>\n",
       "      <td>0.28390</td>\n",
       "      <td>0.2414</td>\n",
       "      <td>0.10520</td>\n",
       "      <td>0.2597</td>\n",
       "      <td>...</td>\n",
       "      <td>98.87</td>\n",
       "      <td>567.7</td>\n",
       "      <td>0.2098</td>\n",
       "      <td>0.8663</td>\n",
       "      <td>0.6869</td>\n",
       "      <td>0.2575</td>\n",
       "      <td>0.6638</td>\n",
       "      <td>0.17300</td>\n",
       "      <td>31-40</td>\n",
       "      <td>M</td>\n",
       "    </tr>\n",
       "    <tr>\n",
       "      <th>4</th>\n",
       "      <td>1</td>\n",
       "      <td>20.29</td>\n",
       "      <td>14.34</td>\n",
       "      <td>135.10</td>\n",
       "      <td>1297.0</td>\n",
       "      <td>0.10030</td>\n",
       "      <td>0.13280</td>\n",
       "      <td>0.1980</td>\n",
       "      <td>0.10430</td>\n",
       "      <td>0.1809</td>\n",
       "      <td>...</td>\n",
       "      <td>152.20</td>\n",
       "      <td>1575.0</td>\n",
       "      <td>0.1374</td>\n",
       "      <td>0.2050</td>\n",
       "      <td>0.4000</td>\n",
       "      <td>0.1625</td>\n",
       "      <td>0.2364</td>\n",
       "      <td>0.07678</td>\n",
       "      <td>31-40</td>\n",
       "      <td>M</td>\n",
       "    </tr>\n",
       "  </tbody>\n",
       "</table>\n",
       "<p>5 rows × 33 columns</p>\n",
       "</div>"
      ],
      "text/plain": [
       "   stage  peripheral radius  mild texture  anterior perimeter  mosaic area  \\\n",
       "0      1              17.99         10.38              122.80       1001.0   \n",
       "1      1              20.57         17.77              132.90       1326.0   \n",
       "2      1              19.69         21.25              130.00       1203.0   \n",
       "3      1              11.42         20.38               77.58        386.1   \n",
       "4      1              20.29         14.34              135.10       1297.0   \n",
       "\n",
       "   smoothness -grade1  compactness - level1  anterior concavity  \\\n",
       "0             0.11840               0.27760              0.3001   \n",
       "1             0.08474               0.07864              0.0869   \n",
       "2             0.10960               0.15990              0.1974   \n",
       "3             0.14250               0.28390              0.2414   \n",
       "4             0.10030               0.13280              0.1980   \n",
       "\n",
       "   inner concave points  symmetry -cubic  ...  convoluted perimeter  \\\n",
       "0               0.14710           0.2419  ...                184.60   \n",
       "1               0.07017           0.1812  ...                158.80   \n",
       "2               0.12790           0.2069  ...                152.50   \n",
       "3               0.10520           0.2597  ...                 98.87   \n",
       "4               0.10430           0.1809  ...                152.20   \n",
       "\n",
       "   wide area  smoothness -grade3  compactness - level3  meshed concavity  \\\n",
       "0     2019.0              0.1622                0.6656            0.7119   \n",
       "1     1956.0              0.1238                0.1866            0.2416   \n",
       "2     1709.0              0.1444                0.4245            0.4504   \n",
       "3      567.7              0.2098                0.8663            0.6869   \n",
       "4     1575.0              0.1374                0.2050            0.4000   \n",
       "\n",
       "   oval concave points  symmetry - trigonal  fractal dimension3  age-group  \\\n",
       "0               0.2654               0.4601             0.11890      31-40   \n",
       "1               0.1860               0.2750             0.08902      31-40   \n",
       "2               0.2430               0.3613             0.08758      31-40   \n",
       "3               0.2575               0.6638             0.17300      31-40   \n",
       "4               0.1625               0.2364             0.07678      31-40   \n",
       "\n",
       "   gender  \n",
       "0       M  \n",
       "1       F  \n",
       "2       M  \n",
       "3       M  \n",
       "4       M  \n",
       "\n",
       "[5 rows x 33 columns]"
      ]
     },
     "execution_count": 11,
     "metadata": {},
     "output_type": "execute_result"
    }
   ],
   "source": [
    "df_clean = df1.copy()\n",
    "#convert the stage column into a numerical category\n",
    "df_clean['stage'] = df_clean['stage'].map({'M':1,'B':0})\n",
    "df_clean.head()"
   ]
  },
  {
   "cell_type": "markdown",
   "metadata": {},
   "source": [
    "## 2.2 The number of patients in breast cancer stage"
   ]
  },
  {
   "cell_type": "code",
   "execution_count": 12,
   "metadata": {},
   "outputs": [
    {
     "data": {
      "image/png": "[encoded data removed]",
      "text/plain": [
       "<Figure size 432x288 with 1 Axes>"
      ]
     },
     "metadata": {
      "needs_background": "light"
     },
     "output_type": "display_data"
    }
   ],
   "source": [
    "\n",
    "plt.title('Count of cancer type M=1 B=0')\n",
    "sns.countplot(df_clean['stage'],palette = \"Accent_r\")\n",
    "plt.xlabel('Cancer lethality')\n",
    "plt.ylabel('Count')\n",
    "plt.show()"
   ]
  },
  {
   "cell_type": "code",
   "execution_count": 13,
   "metadata": {},
   "outputs": [
    {
     "data": {
      "text/plain": [
       "B    438\n",
       "M    271\n",
       "Name: stage, dtype: int64"
      ]
     },
     "execution_count": 13,
     "metadata": {},
     "output_type": "execute_result"
    }
   ],
   "source": [
    "df1.stage.value_counts()"
   ]
  },
  {
   "cell_type": "markdown",
   "metadata": {},
   "source": [
    "There are 438 patients who have a benign cancer lump and there are 271 patients whose cance lump is malignant.Majorit of the patients have a benign cancer lump within the dataset."
   ]
  },
  {
   "cell_type": "markdown",
   "metadata": {},
   "source": [
    "## 2.3 The relationsip between demography and the breast cancer stage"
   ]
  },
  {
   "cell_type": "markdown",
   "metadata": {},
   "source": [
    "### 2.3.1 Age - Cancer Stage"
   ]
  },
  {
   "cell_type": "code",
   "execution_count": 14,
   "metadata": {},
   "outputs": [
    {
     "data": {
      "image/png": "[encoded data removed]",
      "text/plain": [
       "<Figure size 432x288 with 1 Axes>"
      ]
     },
     "metadata": {
      "needs_background": "light"
     },
     "output_type": "display_data"
    }
   ],
   "source": [
    "#number of patients in each age-group\n",
    "plt.title('Count of Age Groups')\n",
    "sns.countplot(df_clean['age-group'], palette = \"Accent_r\")\n",
    "plt.xlabel('Age group')\n",
    "plt.ylabel('Count')\n",
    "plt.show()"
   ]
  },
  {
   "cell_type": "code",
   "execution_count": 15,
   "metadata": {},
   "outputs": [
    {
     "data": {
      "image/png": "[encoded data removed]",
      "text/plain": [
       "<Figure size 432x288 with 1 Axes>"
      ]
     },
     "metadata": {
      "needs_background": "light"
     },
     "output_type": "display_data"
    }
   ],
   "source": [
    "#the cancer stage in each age group\n",
    "sns.countplot(x ='age-group', hue = \"stage\", data = df_clean, palette = \"Accent_r\")\n",
    "plt.xlabel('Age-group')\n",
    "plt.ylabel('Count')\n",
    "plt.show()"
   ]
  },
  {
   "cell_type": "markdown",
   "metadata": {},
   "source": [
    "Based on the visualization on the relationship between the age and the stage of breast cancer,majorit of the patients are part of the 50-70 age-group.The 50-70 age-group has the highest number of malignant breast cancer tumors among all the age groups. This communicates that patients who are within the 50-70 are being tested the most for signs of breast cancer.Among the age groups the patients that are between the ages of 31-40 and 21-30,patients that have a malignant breast cancer tumor are more than those who have a benign tumor. "
   ]
  },
  {
   "cell_type": "markdown",
   "metadata": {},
   "source": [
    "### 2.3.2 Gender - Cancer Stage"
   ]
  },
  {
   "cell_type": "code",
   "execution_count": 16,
   "metadata": {},
   "outputs": [
    {
     "data": {
      "text/plain": [
       "B    62.307692\n",
       "M    37.692308\n",
       "Name: stage, dtype: float64"
      ]
     },
     "execution_count": 16,
     "metadata": {},
     "output_type": "execute_result"
    }
   ],
   "source": [
    "#percentage of cancer stages among males\n",
    "df_males = df[df.gender == 'M']\n",
    "df_males.stage.value_counts(normalize=True)*100"
   ]
  },
  {
   "cell_type": "code",
   "execution_count": 17,
   "metadata": {},
   "outputs": [
    {
     "data": {
      "text/plain": [
       "B    58.365759\n",
       "M    41.634241\n",
       "Name: stage, dtype: float64"
      ]
     },
     "execution_count": 17,
     "metadata": {},
     "output_type": "execute_result"
    }
   ],
   "source": [
    "##percentage of cancer stages among females\n",
    "df_females = df[df.gender == 'F']\n",
    "df_females.stage.value_counts(normalize=True)*100"
   ]
  },
  {
   "cell_type": "code",
   "execution_count": 18,
   "metadata": {},
   "outputs": [
    {
     "data": {
      "image/png": "[encoded data removed]",
      "text/plain": [
       "<Figure size 432x288 with 1 Axes>"
      ]
     },
     "metadata": {
      "needs_background": "light"
     },
     "output_type": "display_data"
    }
   ],
   "source": [
    "plt.title('Count of Genders')\n",
    "sns.countplot(df_clean['gender'], palette = \"Accent_r\")\n",
    "plt.xlabel('Gender')\n",
    "plt.ylabel('Count')\n",
    "plt.show()"
   ]
  },
  {
   "cell_type": "code",
   "execution_count": 19,
   "metadata": {},
   "outputs": [
    {
     "data": {
      "image/png": "[encoded data removed]",
      "text/plain": [
       "<Figure size 432x288 with 1 Axes>"
      ]
     },
     "metadata": {
      "needs_background": "light"
     },
     "output_type": "display_data"
    }
   ],
   "source": [
    "#cancer stages per gender category\n",
    "sns.countplot(x ='gender', hue = \"stage\", data = df_clean, palette = \"Accent_r\")\n",
    "plt.xlabel('Gender')\n",
    "plt.ylabel('Count')\n",
    "plt.show()"
   ]
  },
  {
   "cell_type": "markdown",
   "metadata": {},
   "source": [
    "According to the data Males are the largest group of patients and they have the largest number of Benign breast cancer tumors and 37% of the Males within the data have a malignant breast cancer tumor.Within the data 58% of the women have a Malignant breat cancer tumor. "
   ]
  },
  {
   "cell_type": "markdown",
   "metadata": {},
   "source": [
    "## 2.4 Understanding the relationship between the cancer stage and the characteristics of the tumor"
   ]
  },
  {
   "cell_type": "markdown",
   "metadata": {},
   "source": [
    "### 2.4.1 Overview of the correlations between the tumor characteristic and the breast cancer stage"
   ]
  },
  {
   "cell_type": "code",
   "execution_count": 23,
   "metadata": {
    "scrolled": true
   },
   "outputs": [
    {
     "data": {
      "image/png": "[encoded data removed]",
      "text/plain": [
       "<Figure size 576x864 with 2 Axes>"
      ]
     },
     "metadata": {
      "needs_background": "light"
     },
     "output_type": "display_data"
    }
   ],
   "source": [
    "#heatmap of correlation to stage column\n",
    "plt.figure(figsize=(8, 12))\n",
    "heatmap = sns.heatmap(df_clean.corr()[['stage']].sort_values(by='stage', ascending=False), vmin=-1, vmax=1, annot=True, cmap='BrBG')\n",
    "heatmap.set_title('Features Correlating with Breast Cancer Stage', fontdict={'fontsize':18}, pad=16);"
   ]
  },
  {
   "cell_type": "code",
   "execution_count": 29,
   "metadata": {},
   "outputs": [
    {
     "data": {
      "text/plain": [
       "Index(['stage', 'inner concave points', 'external radius',\n",
       "       'convoluted perimeter', 'oval concave points'],\n",
       "      dtype='object')"
      ]
     },
     "execution_count": 29,
     "metadata": {},
     "output_type": "execute_result"
    }
   ],
   "source": [
    "#list of highly correlated featurs to the stage column\n",
    "corr_matrix = df_clean.corr()\n",
    "corr_matrix[abs(corr_matrix['stage']) > 0.59].index"
   ]
  },
  {
   "cell_type": "markdown",
   "metadata": {},
   "source": [
    "The visual illustrated the correlations that exist between the stage column. More than 50% of the features are postively correlated to the 'stage' column.The highly correlated features play a crucial role in the stage of breast cancer in patients as these characteristics of the tumor can be used as an indicator of the stage that a patient is in."
   ]
  },
  {
   "cell_type": "code",
   "execution_count": 30,
   "metadata": {},
   "outputs": [
    {
     "data": {
      "image/png": "[encoded data removed]",
      "text/plain": [
       "<Figure size 720x720 with 4 Axes>"
      ]
     },
     "metadata": {
      "needs_background": "light"
     },
     "output_type": "display_data"
    }
   ],
   "source": [
    "#correlation between the top features correlated to the stage column\n",
    "threshold = 0.69 \n",
    "filtre = np.abs(corr_matrix[\"stage\"]) > threshold\n",
    "corr_features = corr_matrix.columns[filtre].tolist()\n",
    "sns.clustermap(df_clean[corr_features].corr(), annot = True, fmt = \".2f\")\n",
    "plt.title(\"Correlation Between Features w Corr Theshold 0.75\")\n",
    "plt.show()"
   ]
  },
  {
   "cell_type": "code",
   "execution_count": 31,
   "metadata": {},
   "outputs": [
    {
     "data": {
      "image/png": "[encoded data removed]",
      "text/plain": [
       "<Figure size 432x288 with 2 Axes>"
      ]
     },
     "metadata": {
      "needs_background": "light"
     },
     "output_type": "display_data"
    }
   ],
   "source": [
    "#relationship between top2 features correlated to the stage column\n",
    "plt.scatter(df_clean['oval concave points'], df_clean['convoluted perimeter'], c=df_clean['stage'], cmap=plt.cm.Spectral)\n",
    "plt.colorbar()\n",
    "plt.xlabel('oval concave points')\n",
    "plt.ylabel('convoluted perimeter')\n",
    "plt.title('concave points x convoluted perimeter')\n",
    "plt.show()"
   ]
  },
  {
   "cell_type": "markdown",
   "metadata": {},
   "source": [
    "The oval concave points and the convulated perimeter have the highest correlation to the stage of cancer. This scatter plot illustrates that the higher the convulated perimeter and the oval concave point the higher the probaility that the tumor is Malignant.As well as the lower the convulated parimeter and the oval concave points the higher the probability that the tumor is Benign."
   ]
  },
  {
   "cell_type": "code",
   "execution_count": 32,
   "metadata": {
    "scrolled": true
   },
   "outputs": [
    {
     "data": {
      "image/png": "[encoded data removed]",
      "text/plain": [
       "<Figure size 1080x720 with 1 Axes>"
      ]
     },
     "metadata": {
      "needs_background": "light"
     },
     "output_type": "display_data"
    }
   ],
   "source": [
    "melted_data = pd.melt(df,id_vars = \"stage\",value_vars = ['peripheral radius', 'internal radius', 'external radius'])\n",
    "plt.figure(figsize = (15,10))\n",
    "sns.boxplot(x = \"variable\", y = \"value\", hue=\"stage\",data= melted_data, palette = \"Accent_r\")\n",
    "plt.show()"
   ]
  },
  {
   "cell_type": "markdown",
   "metadata": {},
   "source": [
    "The boxplot illustrates the radius of the tumors the patients in the dataset have.Based on the visualization of the data a malignant breast cancer tumor is larger than a malignant tumor based on the peripherial radius,internal radius and the external radius.This insight can play a role in informing the detection of a malignant tumor.This insight does acknowledge the presence of benign tumors that are the same size as malignant tumors these form part of the outliers within the data."
   ]
  },
  {
   "cell_type": "markdown",
   "metadata": {},
   "source": [
    "## 2.5 Key  Insights from the Exploratory Data Analysis"
   ]
  },
  {
   "cell_type": "markdown",
   "metadata": {},
   "source": [
    "* Women have a higher probability of getting breast cancer,however within the dataset more men were tested from breast cancer   and a large majorit of men had a benign breast cancer tumor\n",
    "* People within the ages of 31-40 and 21-30 are not being tested for breast cancer as much as people within the 50-70 age group.According to the data out of the people that were tested in the 31-40 and 21-30 there were more malignant breast cancer tumors than benign tumors \n",
    "* The characteristics of the tumor does play are role in determining the breast cancer stage."
   ]
  },
  {
   "cell_type": "markdown",
   "metadata": {},
   "source": [
    "## 3 Preprocessing "
   ]
  },
  {
   "cell_type": "code",
   "execution_count": 36,
   "metadata": {},
   "outputs": [],
   "source": [
    "from sklearn.preprocessing import StandardScaler\n",
    "from sklearn.preprocessing import LabelEncoder"
   ]
  },
  {
   "cell_type": "markdown",
   "metadata": {},
   "source": [
    "* Categorical Vairables"
   ]
  },
  {
   "cell_type": "code",
   "execution_count": 37,
   "metadata": {},
   "outputs": [],
   "source": [
    "#Encoding Categorical Data\n",
    "def encoder(df):\n",
    "\n",
    "    features=[x for x in df.columns if df[x].dtype==\"object\"]\n",
    "\n",
    "\n",
    "    le=LabelEncoder()\n",
    "\n",
    "    df[features] = df[features].apply(lambda col:\n",
    "                                      le.fit_transform(col.astype(str)),\n",
    "                                      axis=0, result_type='expand')\n",
    "    return df"
   ]
  },
  {
   "cell_type": "code",
   "execution_count": 39,
   "metadata": {},
   "outputs": [
    {
     "name": "stdout",
     "output_type": "stream",
     "text": [
      "<class 'pandas.core.frame.DataFrame'>\n",
      "RangeIndex: 709 entries, 0 to 708\n",
      "Data columns (total 33 columns):\n",
      " #   Column                Non-Null Count  Dtype  \n",
      "---  ------                --------------  -----  \n",
      " 0   stage                 709 non-null    int64  \n",
      " 1   peripheral radius     709 non-null    float64\n",
      " 2   mild texture          709 non-null    float64\n",
      " 3   anterior perimeter    709 non-null    float64\n",
      " 4   mosaic area           709 non-null    float64\n",
      " 5   smoothness -grade1    709 non-null    float64\n",
      " 6   compactness - level1  709 non-null    float64\n",
      " 7   anterior concavity    709 non-null    float64\n",
      " 8   inner concave points  709 non-null    float64\n",
      " 9   symmetry -cubic       709 non-null    float64\n",
      " 10  fractal dimension1    709 non-null    float64\n",
      " 11  internal radius       709 non-null    float64\n",
      " 12  coerce texture        709 non-null    float64\n",
      " 13  posterior perimeter   709 non-null    float64\n",
      " 14  lipid area            709 non-null    float64\n",
      " 15  smoothness -grade2    709 non-null    float64\n",
      " 16  compactness - level2  709 non-null    float64\n",
      " 17  posterior concavity   709 non-null    float64\n",
      " 18  outer concave points  709 non-null    float64\n",
      " 19  symmetry - hexagonal  709 non-null    float64\n",
      " 20  fractal dimension2    709 non-null    float64\n",
      " 21  external radius       709 non-null    float64\n",
      " 22  granular texture      709 non-null    float64\n",
      " 23  convoluted perimeter  709 non-null    float64\n",
      " 24  wide area             709 non-null    float64\n",
      " 25  smoothness -grade3    709 non-null    float64\n",
      " 26  compactness - level3  709 non-null    float64\n",
      " 27  meshed concavity      709 non-null    float64\n",
      " 28  oval concave points   709 non-null    float64\n",
      " 29  symmetry - trigonal   709 non-null    float64\n",
      " 30  fractal dimension3    709 non-null    float64\n",
      " 31  age-group             709 non-null    int32  \n",
      " 32  gender                709 non-null    int32  \n",
      "dtypes: float64(30), int32(2), int64(1)\n",
      "memory usage: 177.4 KB\n"
     ]
    }
   ],
   "source": [
    "df_enc = encoder(df_clean)\n",
    "#check wether all columns are numerical data type\n",
    "df_enc.info()"
   ]
  },
  {
   "cell_type": "code",
   "execution_count": 40,
   "metadata": {
    "scrolled": true
   },
   "outputs": [
    {
     "data": {
      "text/html": [
       "<div>\n",
       "<style scoped>\n",
       "    .dataframe tbody tr th:only-of-type {\n",
       "        vertical-align: middle;\n",
       "    }\n",
       "\n",
       "    .dataframe tbody tr th {\n",
       "        vertical-align: top;\n",
       "    }\n",
       "\n",
       "    .dataframe thead th {\n",
       "        text-align: right;\n",
       "    }\n",
       "</style>\n",
       "<table border=\"1\" class=\"dataframe\">\n",
       "  <thead>\n",
       "    <tr style=\"text-align: right;\">\n",
       "      <th></th>\n",
       "      <th>stage</th>\n",
       "      <th>peripheral radius</th>\n",
       "      <th>mild texture</th>\n",
       "      <th>anterior perimeter</th>\n",
       "      <th>mosaic area</th>\n",
       "      <th>smoothness -grade1</th>\n",
       "      <th>compactness - level1</th>\n",
       "      <th>anterior concavity</th>\n",
       "      <th>inner concave points</th>\n",
       "      <th>symmetry -cubic</th>\n",
       "      <th>...</th>\n",
       "      <th>convoluted perimeter</th>\n",
       "      <th>wide area</th>\n",
       "      <th>smoothness -grade3</th>\n",
       "      <th>compactness - level3</th>\n",
       "      <th>meshed concavity</th>\n",
       "      <th>oval concave points</th>\n",
       "      <th>symmetry - trigonal</th>\n",
       "      <th>fractal dimension3</th>\n",
       "      <th>age-group</th>\n",
       "      <th>gender</th>\n",
       "    </tr>\n",
       "  </thead>\n",
       "  <tbody>\n",
       "    <tr>\n",
       "      <th>0</th>\n",
       "      <td>1</td>\n",
       "      <td>17.99</td>\n",
       "      <td>10.38</td>\n",
       "      <td>122.80</td>\n",
       "      <td>1001.0</td>\n",
       "      <td>0.11840</td>\n",
       "      <td>0.27760</td>\n",
       "      <td>0.3001</td>\n",
       "      <td>0.14710</td>\n",
       "      <td>0.2419</td>\n",
       "      <td>...</td>\n",
       "      <td>184.60</td>\n",
       "      <td>2019.0</td>\n",
       "      <td>0.1622</td>\n",
       "      <td>0.6656</td>\n",
       "      <td>0.7119</td>\n",
       "      <td>0.2654</td>\n",
       "      <td>0.4601</td>\n",
       "      <td>0.11890</td>\n",
       "      <td>2</td>\n",
       "      <td>1</td>\n",
       "    </tr>\n",
       "    <tr>\n",
       "      <th>1</th>\n",
       "      <td>1</td>\n",
       "      <td>20.57</td>\n",
       "      <td>17.77</td>\n",
       "      <td>132.90</td>\n",
       "      <td>1326.0</td>\n",
       "      <td>0.08474</td>\n",
       "      <td>0.07864</td>\n",
       "      <td>0.0869</td>\n",
       "      <td>0.07017</td>\n",
       "      <td>0.1812</td>\n",
       "      <td>...</td>\n",
       "      <td>158.80</td>\n",
       "      <td>1956.0</td>\n",
       "      <td>0.1238</td>\n",
       "      <td>0.1866</td>\n",
       "      <td>0.2416</td>\n",
       "      <td>0.1860</td>\n",
       "      <td>0.2750</td>\n",
       "      <td>0.08902</td>\n",
       "      <td>2</td>\n",
       "      <td>0</td>\n",
       "    </tr>\n",
       "    <tr>\n",
       "      <th>2</th>\n",
       "      <td>1</td>\n",
       "      <td>19.69</td>\n",
       "      <td>21.25</td>\n",
       "      <td>130.00</td>\n",
       "      <td>1203.0</td>\n",
       "      <td>0.10960</td>\n",
       "      <td>0.15990</td>\n",
       "      <td>0.1974</td>\n",
       "      <td>0.12790</td>\n",
       "      <td>0.2069</td>\n",
       "      <td>...</td>\n",
       "      <td>152.50</td>\n",
       "      <td>1709.0</td>\n",
       "      <td>0.1444</td>\n",
       "      <td>0.4245</td>\n",
       "      <td>0.4504</td>\n",
       "      <td>0.2430</td>\n",
       "      <td>0.3613</td>\n",
       "      <td>0.08758</td>\n",
       "      <td>2</td>\n",
       "      <td>1</td>\n",
       "    </tr>\n",
       "    <tr>\n",
       "      <th>3</th>\n",
       "      <td>1</td>\n",
       "      <td>11.42</td>\n",
       "      <td>20.38</td>\n",
       "      <td>77.58</td>\n",
       "      <td>386.1</td>\n",
       "      <td>0.14250</td>\n",
       "      <td>0.28390</td>\n",
       "      <td>0.2414</td>\n",
       "      <td>0.10520</td>\n",
       "      <td>0.2597</td>\n",
       "      <td>...</td>\n",
       "      <td>98.87</td>\n",
       "      <td>567.7</td>\n",
       "      <td>0.2098</td>\n",
       "      <td>0.8663</td>\n",
       "      <td>0.6869</td>\n",
       "      <td>0.2575</td>\n",
       "      <td>0.6638</td>\n",
       "      <td>0.17300</td>\n",
       "      <td>2</td>\n",
       "      <td>1</td>\n",
       "    </tr>\n",
       "    <tr>\n",
       "      <th>4</th>\n",
       "      <td>1</td>\n",
       "      <td>20.29</td>\n",
       "      <td>14.34</td>\n",
       "      <td>135.10</td>\n",
       "      <td>1297.0</td>\n",
       "      <td>0.10030</td>\n",
       "      <td>0.13280</td>\n",
       "      <td>0.1980</td>\n",
       "      <td>0.10430</td>\n",
       "      <td>0.1809</td>\n",
       "      <td>...</td>\n",
       "      <td>152.20</td>\n",
       "      <td>1575.0</td>\n",
       "      <td>0.1374</td>\n",
       "      <td>0.2050</td>\n",
       "      <td>0.4000</td>\n",
       "      <td>0.1625</td>\n",
       "      <td>0.2364</td>\n",
       "      <td>0.07678</td>\n",
       "      <td>2</td>\n",
       "      <td>1</td>\n",
       "    </tr>\n",
       "  </tbody>\n",
       "</table>\n",
       "<p>5 rows × 33 columns</p>\n",
       "</div>"
      ],
      "text/plain": [
       "   stage  peripheral radius  mild texture  anterior perimeter  mosaic area  \\\n",
       "0      1              17.99         10.38              122.80       1001.0   \n",
       "1      1              20.57         17.77              132.90       1326.0   \n",
       "2      1              19.69         21.25              130.00       1203.0   \n",
       "3      1              11.42         20.38               77.58        386.1   \n",
       "4      1              20.29         14.34              135.10       1297.0   \n",
       "\n",
       "   smoothness -grade1  compactness - level1  anterior concavity  \\\n",
       "0             0.11840               0.27760              0.3001   \n",
       "1             0.08474               0.07864              0.0869   \n",
       "2             0.10960               0.15990              0.1974   \n",
       "3             0.14250               0.28390              0.2414   \n",
       "4             0.10030               0.13280              0.1980   \n",
       "\n",
       "   inner concave points  symmetry -cubic  ...  convoluted perimeter  \\\n",
       "0               0.14710           0.2419  ...                184.60   \n",
       "1               0.07017           0.1812  ...                158.80   \n",
       "2               0.12790           0.2069  ...                152.50   \n",
       "3               0.10520           0.2597  ...                 98.87   \n",
       "4               0.10430           0.1809  ...                152.20   \n",
       "\n",
       "   wide area  smoothness -grade3  compactness - level3  meshed concavity  \\\n",
       "0     2019.0              0.1622                0.6656            0.7119   \n",
       "1     1956.0              0.1238                0.1866            0.2416   \n",
       "2     1709.0              0.1444                0.4245            0.4504   \n",
       "3      567.7              0.2098                0.8663            0.6869   \n",
       "4     1575.0              0.1374                0.2050            0.4000   \n",
       "\n",
       "   oval concave points  symmetry - trigonal  fractal dimension3  age-group  \\\n",
       "0               0.2654               0.4601             0.11890          2   \n",
       "1               0.1860               0.2750             0.08902          2   \n",
       "2               0.2430               0.3613             0.08758          2   \n",
       "3               0.2575               0.6638             0.17300          2   \n",
       "4               0.1625               0.2364             0.07678          2   \n",
       "\n",
       "   gender  \n",
       "0       1  \n",
       "1       0  \n",
       "2       1  \n",
       "3       1  \n",
       "4       1  \n",
       "\n",
       "[5 rows x 33 columns]"
      ]
     },
     "execution_count": 40,
     "metadata": {},
     "output_type": "execute_result"
    }
   ],
   "source": [
    "df_enc.head()"
   ]
  },
  {
   "cell_type": "markdown",
   "metadata": {},
   "source": [
    "## Standerdization "
   ]
  },
  {
   "cell_type": "code",
   "execution_count": null,
   "metadata": {},
   "outputs": [],
   "source": []
  },
  {
   "cell_type": "code",
   "execution_count": null,
   "metadata": {},
   "outputs": [],
   "source": []
  },
  {
   "cell_type": "code",
   "execution_count": null,
   "metadata": {},
   "outputs": [],
   "source": []
  },
  {
   "cell_type": "code",
   "execution_count": null,
   "metadata": {},
   "outputs": [],
   "source": []
  },
  {
   "cell_type": "code",
   "execution_count": null,
   "metadata": {},
   "outputs": [],
   "source": []
  }
 ],
 "metadata": {
  "kernelspec": {
   "display_name": "Python 3",
   "language": "python",
   "name": "python3"
  },
  "language_info": {
   "codemirror_mode": {
    "name": "ipython",
    "version": 3
   },
   "file_extension": ".py",
   "mimetype": "text/x-python",
   "name": "python",
   "nbconvert_exporter": "python",
   "pygments_lexer": "ipython3",
   "version": "3.7.6"
  }
 },
 "nbformat": 4,
 "nbformat_minor": 4
}
