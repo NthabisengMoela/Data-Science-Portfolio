{
  "nbformat": 4,
  "nbformat_minor": 0,
  "metadata": {
    "colab": {
      "name": "Copy of Climate Change Belief Analysis.ipynb",
      "provenance": [],
      "collapsed_sections": [
        "L0BYFdwO6GjV",
        "sUrv387h5JqQ",
        "2Nq3QeodvHfF",
        "UdD8_ToUvHf9",
        "loUn8UWSvHgD",
        "rfxK90-xvHgN",
        "Re7Ki9-1vHgW",
        "5-SxUovZvHgu",
        "9zhYv63LvHg2",
        "kJFygv9avHhM",
        "3MvNAQG8vHhV",
        "L34s06k7vHhb",
        "2qkdIitoDxgb",
        "2teDtt2nfQza",
        "dSi6Jnw5fuoI",
        "6RN8A-uVf9eP",
        "DYYmLiSGgKt0",
        "IMr9VW8LgYRU",
        "rAaqzjLUgn2M",
        "GjCY_NmFg2L-",
        "K9fQUv4ahDrO",
        "e5eyGSOvhOEC",
        "2kXSq6IAkiBb",
        "QXzoixLCrBah"
      ],
      "toc_visible": true
    },
    "kernelspec": {
      "display_name": "Python 3",
      "language": "python",
      "name": "python3"
    },
    "language_info": {
      "codemirror_mode": {
        "name": "ipython",
        "version": 3
      },
      "file_extension": ".py",
      "mimetype": "text/x-python",
      "name": "python",
      "nbconvert_exporter": "python",
      "pygments_lexer": "ipython3",
      "version": "3.7.6"
    }
  },
  "cells": [
    {
      "cell_type": "markdown",
      "metadata": {
        "id": "znLZCkTmvHch"
      },
      "source": [
        "# Climate Change Belief Analysis\n",
        "**Team 2 JHB July 2020**\n",
        "\n"
      ]
    },
    {
      "cell_type": "markdown",
      "metadata": {
        "id": "i1dyfTZcvHcj"
      },
      "source": [
        "# Introduction"
      ]
    },
    {
      "cell_type": "markdown",
      "metadata": {
        "id": "kxmG-18jrpvq"
      },
      "source": [
        "### Background  \n",
        "\n",
        "In a [research article](https://www.barrons.com/articles/two-thirds-of-north-americans-prefer-eco-friendly-brands-study-finds-51578661728) conducted, 19,000 customers from 28 countries where given a poll to find out how individual shopping decisions are changing. Nearly 70% of consumers in the U.S. and Canada find that it is important for a company or brand to be sustainable or eco-friendly. More than a third (40%) of the respondents globally said that they are purpose-driven consumers, who select brands based on how well they align with their personal beliefs.\n",
        "\n",
        "Many companies are built around lessening their environmental impact or carbon footprint. They offer products and services that are environmentally friendly and sustainable, in line with their values and ideals. They would like to determine how people perceive climate change and whether or not they believe it is a real threat. This would add to their market research efforts in gauging how their product/service may be received.  \n",
        "\n",
        "The goal of this challenge is to build a Classification Machine Learning model that will determine whether a person believes in Climate Change using tweet data. This model will provide insights of public opinion of Climate Change & consumer sentiment to companies looking to market their new or improved products or services to consumers, in response to CER.\n",
        "\n",
        "As the demand for sustainable, eco-friendly products and services by consumers increases, a sentiment classification model that identifies these potential customers is key and could be used any business or organisation committed to carbon neutrality & wanting to inform marketing strategies. This includes, but is not limited to companies in the retail, automotive, government, agriculture & food, pharmaceutical spheres. The model could also be used by sectors in government wanting to identify the various belief sentiments in order to better direct environmental awareness and education campaigns in alignment with their legislative directives and climate change response plans.\n",
        "\n",
        "\n",
        "### Problem statement  \n",
        "\n",
        "Build a machine learning model that is able to classify whether or not an individual believes in man-made climate change based on historical tweet data to increase insights about customers and inform future marketing strategies.\n",
        "\n",
        "You can find the project overview [here](https://www.kaggle.com/c/climate-change-edsa2020-21)."
      ]
    },
    {
      "cell_type": "markdown",
      "metadata": {
        "id": "WKtHPSg8vHcl"
      },
      "source": [
        "# Notebook outline"
      ]
    },
    {
      "cell_type": "markdown",
      "metadata": {
        "id": "blljOeqivHcm"
      },
      "source": [
        "1. Installations and Imports\n",
        "2. Explore Data Analysis\n",
        "3. Data Preprocessing\n",
        "4. Model Building\n",
        "5. Model Evaluation\n",
        "6. Submition\n",
        "7. Conclusion\n",
        "8. References"
      ]
    },
    {
      "cell_type": "markdown",
      "metadata": {
        "id": "G3FarnDBvHco"
      },
      "source": [
        "# 1. Installations and Imports"
      ]
    },
    {
      "cell_type": "markdown",
      "metadata": {
        "id": "cafBUg5YvHcq"
      },
      "source": [
        "### 1.1 Installations"
      ]
    },
    {
      "cell_type": "code",
      "metadata": {
        "id": "W10-CT50vHcr",
        "colab": {
          "base_uri": "https://localhost:8080/"
        },
        "outputId": "92730d65-3090-4e8e-b488-32661e3ad166"
      },
      "source": [
        "pip install comet_ml"
      ],
      "execution_count": null,
      "outputs": [
        {
          "output_type": "stream",
          "text": [
            "Collecting comet_ml\n",
            "\u001b[?25l  Downloading https://files.pythonhosted.org/packages/b8/69/00e1ba86bccb52fda00f8f806bf7cdbc41f8461277e0dca5ff9e649541c3/comet_ml-3.2.5-py2.py3-none-any.whl (227kB)\n",
            "\r\u001b[K     |█▍                              | 10kB 14.3MB/s eta 0:00:01\r\u001b[K     |██▉                             | 20kB 19.2MB/s eta 0:00:01\r\u001b[K     |████▎                           | 30kB 16.1MB/s eta 0:00:01\r\u001b[K     |█████▊                          | 40kB 9.7MB/s eta 0:00:01\r\u001b[K     |███████▏                        | 51kB 5.3MB/s eta 0:00:01\r\u001b[K     |████████▋                       | 61kB 5.9MB/s eta 0:00:01\r\u001b[K     |██████████                      | 71kB 6.0MB/s eta 0:00:01\r\u001b[K     |███████████▌                    | 81kB 6.2MB/s eta 0:00:01\r\u001b[K     |█████████████                   | 92kB 6.3MB/s eta 0:00:01\r\u001b[K     |██████████████▍                 | 102kB 5.2MB/s eta 0:00:01\r\u001b[K     |███████████████▉                | 112kB 5.2MB/s eta 0:00:01\r\u001b[K     |█████████████████▎              | 122kB 5.2MB/s eta 0:00:01\r\u001b[K     |██████████████████▊             | 133kB 5.2MB/s eta 0:00:01\r\u001b[K     |████████████████████▏           | 143kB 5.2MB/s eta 0:00:01\r\u001b[K     |█████████████████████▋          | 153kB 5.2MB/s eta 0:00:01\r\u001b[K     |███████████████████████         | 163kB 5.2MB/s eta 0:00:01\r\u001b[K     |████████████████████████▌       | 174kB 5.2MB/s eta 0:00:01\r\u001b[K     |██████████████████████████      | 184kB 5.2MB/s eta 0:00:01\r\u001b[K     |███████████████████████████▍    | 194kB 5.2MB/s eta 0:00:01\r\u001b[K     |████████████████████████████▉   | 204kB 5.2MB/s eta 0:00:01\r\u001b[K     |██████████████████████████████▎ | 215kB 5.2MB/s eta 0:00:01\r\u001b[K     |███████████████████████████████▊| 225kB 5.2MB/s eta 0:00:01\r\u001b[K     |████████████████████████████████| 235kB 5.2MB/s \n",
            "\u001b[?25hCollecting netifaces>=0.10.7\n",
            "  Downloading https://files.pythonhosted.org/packages/0c/9b/c4c7eb09189548d45939a3d3a6b3d53979c67d124459b27a094c365c347f/netifaces-0.10.9-cp36-cp36m-manylinux1_x86_64.whl\n",
            "Requirement already satisfied: six in /usr/local/lib/python3.6/dist-packages (from comet_ml) (1.15.0)\n",
            "Requirement already satisfied: wrapt>=1.11.2 in /usr/local/lib/python3.6/dist-packages (from comet_ml) (1.12.1)\n",
            "Collecting dulwich>=0.20.6; python_version >= \"3.0\"\n",
            "\u001b[?25l  Downloading https://files.pythonhosted.org/packages/c8/b9/5852d47227bb95b495ef6c21b366c119a3275181fa46006a6ba2f50ba79d/dulwich-0.20.11-cp36-cp36m-manylinux2010_x86_64.whl (501kB)\n",
            "\u001b[K     |████████████████████████████████| 501kB 9.3MB/s \n",
            "\u001b[?25hRequirement already satisfied: requests>=2.18.4 in /usr/local/lib/python3.6/dist-packages (from comet_ml) (2.23.0)\n",
            "Collecting wurlitzer>=1.0.2\n",
            "  Downloading https://files.pythonhosted.org/packages/0c/1e/52f4effa64a447c4ec0fb71222799e2ac32c55b4b6c1725fccdf6123146e/wurlitzer-2.0.1-py2.py3-none-any.whl\n",
            "Collecting websocket-client>=0.55.0\n",
            "\u001b[?25l  Downloading https://files.pythonhosted.org/packages/4c/5f/f61b420143ed1c8dc69f9eaec5ff1ac36109d52c80de49d66e0c36c3dfdf/websocket_client-0.57.0-py2.py3-none-any.whl (200kB)\n",
            "\u001b[K     |████████████████████████████████| 204kB 10.7MB/s \n",
            "\u001b[?25hRequirement already satisfied: nvidia-ml-py3>=7.352.0 in /usr/local/lib/python3.6/dist-packages (from comet_ml) (7.352.0)\n",
            "Collecting everett[ini]>=1.0.1; python_version >= \"3.0\"\n",
            "  Downloading https://files.pythonhosted.org/packages/fe/dc/38593280ec30fe1cb2611ec65554b76b68d13582bf490113e3332cdd85ea/everett-1.0.3-py2.py3-none-any.whl\n",
            "Requirement already satisfied: jsonschema!=3.1.0,>=2.6.0 in /usr/local/lib/python3.6/dist-packages (from comet_ml) (2.6.0)\n",
            "Requirement already satisfied: urllib3>=1.24.1 in /usr/local/lib/python3.6/dist-packages (from dulwich>=0.20.6; python_version >= \"3.0\"->comet_ml) (1.24.3)\n",
            "Requirement already satisfied: certifi in /usr/local/lib/python3.6/dist-packages (from dulwich>=0.20.6; python_version >= \"3.0\"->comet_ml) (2020.6.20)\n",
            "Requirement already satisfied: chardet<4,>=3.0.2 in /usr/local/lib/python3.6/dist-packages (from requests>=2.18.4->comet_ml) (3.0.4)\n",
            "Requirement already satisfied: idna<3,>=2.5 in /usr/local/lib/python3.6/dist-packages (from requests>=2.18.4->comet_ml) (2.10)\n",
            "Collecting configobj; extra == \"ini\"\n",
            "  Downloading https://files.pythonhosted.org/packages/64/61/079eb60459c44929e684fa7d9e2fdca403f67d64dd9dbac27296be2e0fab/configobj-5.0.6.tar.gz\n",
            "Building wheels for collected packages: configobj\n",
            "  Building wheel for configobj (setup.py) ... \u001b[?25l\u001b[?25hdone\n",
            "  Created wheel for configobj: filename=configobj-5.0.6-cp36-none-any.whl size=34547 sha256=63ea1eb7902a376af1dc68253a0bd1691559ef01be9ed57bcf317b4381009e86\n",
            "  Stored in directory: /root/.cache/pip/wheels/f1/e4/16/4981ca97c2d65106b49861e0b35e2660695be7219a2d351ee0\n",
            "Successfully built configobj\n",
            "Installing collected packages: netifaces, dulwich, wurlitzer, websocket-client, configobj, everett, comet-ml\n",
            "Successfully installed comet-ml-3.2.5 configobj-5.0.6 dulwich-0.20.11 everett-1.0.3 netifaces-0.10.9 websocket-client-0.57.0 wurlitzer-2.0.1\n"
          ],
          "name": "stdout"
        }
      ]
    },
    {
      "cell_type": "markdown",
      "metadata": {
        "id": "1isR9t1hvHc3"
      },
      "source": [
        "### 1.2 Imports"
      ]
    },
    {
      "cell_type": "code",
      "metadata": {
        "id": "zBJjh1MkvHdB"
      },
      "source": [
        "from comet_ml import Experiment"
      ],
      "execution_count": null,
      "outputs": []
    },
    {
      "cell_type": "code",
      "metadata": {
        "id": "lrKcOfw5gfZW",
        "colab": {
          "base_uri": "https://localhost:8080/"
        },
        "outputId": "95abfbf4-cd97-4a55-9d21-646493a1fe9b"
      },
      "source": [
        "# Create an experiment with your api key:\n",
        "experiment = Experiment(\n",
        "    api_key=\"06V8ejxSIh2dFMs9ne4vusQXq\",\n",
        "    project_name=\"climate-change-belief-analysis\",\n",
        "    workspace=\"bmqhamane\",\n",
        ")"
      ],
      "execution_count": null,
      "outputs": [
        {
          "output_type": "stream",
          "text": [
            "COMET INFO: Experiment is live on comet.ml https://www.comet.ml/bmqhamane/climate-change-belief-analysis/b3dd63c53d0f412f89d83f8f5dc4e58f\n",
            "\n"
          ],
          "name": "stderr"
        }
      ]
    },
    {
      "cell_type": "markdown",
      "metadata": {
        "id": "eo9ZVnqevHdM"
      },
      "source": [
        "Import python libraries"
      ]
    },
    {
      "cell_type": "code",
      "metadata": {
        "id": "nfA8EUi5vHdO"
      },
      "source": [
        "\n",
        "# Loading Data\n",
        "import pandas as pd\n",
        "import numpy as np\n",
        "import nltk\n",
        "import string\n",
        "import re\n",
        "import time\n",
        "\n",
        "# Data Preprocessing\n",
        "from sklearn.feature_extraction.text import TfidfVectorizer\n",
        "from nltk.stem import WordNetLemmatizer\n",
        "from nltk.corpus import stopwords\n",
        "from sklearn.utils import resample\n",
        "from nltk.tokenize import word_tokenize, TreebankWordTokenizer\n",
        "from nltk.stem import WordNetLemmatizer\n",
        "\n",
        "# Model Building\n",
        "from sklearn.linear_model import LogisticRegression\n",
        "from sklearn.naive_bayes import MultinomialNB\n",
        "from sklearn.ensemble import RandomForestClassifier, AdaBoostClassifier\n",
        "from sklearn.svm import LinearSVC\n",
        "from sklearn.model_selection import train_test_split\n",
        "from sklearn.naive_bayes import MultinomialNB\n",
        "from sklearn.tree import DecisionTreeClassifier\n",
        "from sklearn.svm import SVC\n",
        "from sklearn.linear_model import LogisticRegression\n",
        "from sklearn.model_selection import GridSearchCV, cross_val_score\n",
        "\n",
        "# Model Evaluation\n",
        "from sklearn.metrics import f1_score\n",
        "from sklearn.metrics import accuracy_score, classification_report, confusion_matrix\n",
        "from sklearn.metrics import recall_score\n",
        "from sklearn.metrics import precision_score\n",
        "from sklearn.model_selection import GridSearchCV, cross_val_score\n",
        "from sklearn.multiclass import OneVsRestClassifier, OneVsOneClassifier\n",
        "#from scikitplot.metrics import plot_roc, plot_confusion_matrix\n",
        "\n",
        "# Explore Data Analysis\n",
        "import seaborn as sns\n",
        "import matplotlib.pyplot as plt\n",
        "%matplotlib inline\n",
        "\n",
        "from wordcloud import WordCloud, STOPWORDS\n",
        "from matplotlib.pyplot import rcParams\n",
        "\n",
        "from sklearn.feature_extraction.text import CountVectorizer\n",
        "\n",
        "\n"
      ],
      "execution_count": null,
      "outputs": []
    },
    {
      "cell_type": "code",
      "metadata": {
        "id": "EvnQWABfqaqM",
        "colab": {
          "base_uri": "https://localhost:8080/"
        },
        "outputId": "8512ec75-e9f3-41f8-b229-2ac51b5c6410"
      },
      "source": [
        "#download libraries\n",
        "nltk.download('stopwords')\n",
        "nltk.download('wordnet')\n",
        "stop_words = set(stopwords.words('english'))\n",
        "sns.set_style('whitegrid')"
      ],
      "execution_count": null,
      "outputs": [
        {
          "output_type": "stream",
          "text": [
            "[nltk_data] Downloading package stopwords to /root/nltk_data...\n",
            "[nltk_data]   Unzipping corpora/stopwords.zip.\n",
            "[nltk_data] Downloading package wordnet to /root/nltk_data...\n",
            "[nltk_data]   Unzipping corpora/wordnet.zip.\n"
          ],
          "name": "stdout"
        }
      ]
    },
    {
      "cell_type": "markdown",
      "metadata": {
        "id": "YQR2y7-SvHdU"
      },
      "source": [
        "### 1.3 Import Data"
      ]
    },
    {
      "cell_type": "code",
      "metadata": {
        "id": "b6oGh1TItPIl",
        "colab": {
          "resources": {
            "http://localhost:8080/nbextensions/google.colab/files.js": {
              "data": "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",
              "headers": [
                [
                  "content-type",
                  "application/javascript"
                ]
              ],
              "ok": true,
              "status": 200,
              "status_text": ""
            }
          },
          "base_uri": "https://localhost:8080/",
          "height": 72
        },
        "outputId": "206e1a2a-c944-4e43-9bd0-f1ac7717e980"
      },
      "source": [
        "from google.colab import files \n",
        "  \n",
        "  \n",
        "uploaded = files.upload()"
      ],
      "execution_count": null,
      "outputs": [
        {
          "output_type": "display_data",
          "data": {
            "text/html": [
              "\n",
              "     <input type=\"file\" id=\"files-14c03822-1ebf-4a79-b1ed-1e229f1b31fa\" name=\"files[]\" multiple disabled\n",
              "        style=\"border:none\" />\n",
              "     <output id=\"result-14c03822-1ebf-4a79-b1ed-1e229f1b31fa\">\n",
              "      Upload widget is only available when the cell has been executed in the\n",
              "      current browser session. Please rerun this cell to enable.\n",
              "      </output>\n",
              "      <script src=\"/nbextensions/google.colab/files.js\"></script> "
            ],
            "text/plain": [
              "<IPython.core.display.HTML object>"
            ]
          },
          "metadata": {
            "tags": []
          }
        },
        {
          "output_type": "stream",
          "text": [
            "Saving resampling.png to resampling.png\n"
          ],
          "name": "stdout"
        }
      ]
    },
    {
      "cell_type": "markdown",
      "metadata": {
        "id": "IrWLDcn4vHdV"
      },
      "source": [
        "We will load our data as a Pandas DataFrame"
      ]
    },
    {
      "cell_type": "code",
      "metadata": {
        "id": "frFngyXDvHdW"
      },
      "source": [
        "train = pd.read_csv('/train.csv')\n",
        "test = pd.read_csv('/test.csv')"
      ],
      "execution_count": null,
      "outputs": []
    },
    {
      "cell_type": "markdown",
      "metadata": {
        "id": "FHc4KP78vHey"
      },
      "source": [
        "# 2. Exploratory Data Analysis (EDA)\n",
        "\n",
        "The section is an exploration of the data through an analysis of the different Climate Change sentiments that people have on Twitter.\n",
        "\n",
        "**Techniques that we are going to use to analyse our data**\n",
        "\n",
        "- Understanding the distribution of sentiments\n",
        "- An analysis of the Tweets statistics\n",
        "- Understanding the length of our tweets\n",
        "- The main topics on climate change"
      ]
    },
    {
      "cell_type": "code",
      "metadata": {
        "id": "2RH-wLi8Lhy2"
      },
      "source": [
        "#create a copy of the origional data\n",
        "ftrain = train.copy()\n",
        "ftest = test.copy()"
      ],
      "execution_count": null,
      "outputs": []
    },
    {
      "cell_type": "code",
      "metadata": {
        "id": "Naw5xvnDlvbu",
        "colab": {
          "base_uri": "https://localhost:8080/"
        },
        "outputId": "9eb7b83b-e3cc-46a7-f893-a4db840b1adc"
      },
      "source": [
        "print('There are', len(ftrain), 'rows and',ftrain.shape[1], 'columns in the train set.')\n",
        "print('There are', len(ftest), 'rows and',ftest.shape[1], 'columns in the test set.')"
      ],
      "execution_count": null,
      "outputs": [
        {
          "output_type": "stream",
          "text": [
            "There are 15819 rows and 3 columns in the train set.\n",
            "There are 10546 rows and 2 columns in the test set.\n"
          ],
          "name": "stdout"
        }
      ]
    },
    {
      "cell_type": "markdown",
      "metadata": {
        "id": "snmbeBfaqCcs"
      },
      "source": [
        "Checking for null values in the data"
      ]
    },
    {
      "cell_type": "code",
      "metadata": {
        "id": "ELQvSUfTLh4b",
        "colab": {
          "base_uri": "https://localhost:8080/"
        },
        "outputId": "875a2886-63de-4770-999c-6cce221f0393"
      },
      "source": [
        "#test data\n",
        "ftest.isnull().sum()"
      ],
      "execution_count": null,
      "outputs": [
        {
          "output_type": "execute_result",
          "data": {
            "text/plain": [
              "message    0\n",
              "tweetid    0\n",
              "dtype: int64"
            ]
          },
          "metadata": {
            "tags": []
          },
          "execution_count": 11
        }
      ]
    },
    {
      "cell_type": "code",
      "metadata": {
        "id": "EzpaK0qKLiBi",
        "colab": {
          "base_uri": "https://localhost:8080/"
        },
        "outputId": "6c417271-a46d-4348-f181-9e0e07819406"
      },
      "source": [
        "#train data\n",
        "ftrain.isnull().sum()"
      ],
      "execution_count": null,
      "outputs": [
        {
          "output_type": "execute_result",
          "data": {
            "text/plain": [
              "sentiment    0\n",
              "message      0\n",
              "tweetid      0\n",
              "dtype: int64"
            ]
          },
          "metadata": {
            "tags": []
          },
          "execution_count": 12
        }
      ]
    },
    {
      "cell_type": "markdown",
      "metadata": {
        "id": "crjjJ0wtL5IK"
      },
      "source": [
        "## 2.1 The distribution of climate change sentiments \n",
        "\n",
        "\n",
        "\n",
        "\n",
        "Understanding the distribution of sentiments surrounding climate change on Twitter communicates that there are different views on climate change hence the different classes associated with these views/sentiments."
      ]
    },
    {
      "cell_type": "code",
      "metadata": {
        "id": "lFSLQk59L0sW",
        "colab": {
          "base_uri": "https://localhost:8080/",
          "height": 173
        },
        "outputId": "47cc7b50-f19f-4fb0-d32f-bd66f3726f43"
      },
      "source": [
        "a = ftrain.sentiment.value_counts()\n",
        "b = 100*ftrain.sentiment.value_counts()/len(ftrain.sentiment)\n",
        "b = round(b,2)\n",
        "data = pd.concat([a,b],axis =1,)\n",
        "data.columns = ['Value Count', 'Percentage']\n",
        "data"
      ],
      "execution_count": null,
      "outputs": [
        {
          "output_type": "execute_result",
          "data": {
            "text/html": [
              "<div>\n",
              "<style scoped>\n",
              "    .dataframe tbody tr th:only-of-type {\n",
              "        vertical-align: middle;\n",
              "    }\n",
              "\n",
              "    .dataframe tbody tr th {\n",
              "        vertical-align: top;\n",
              "    }\n",
              "\n",
              "    .dataframe thead th {\n",
              "        text-align: right;\n",
              "    }\n",
              "</style>\n",
              "<table border=\"1\" class=\"dataframe\">\n",
              "  <thead>\n",
              "    <tr style=\"text-align: right;\">\n",
              "      <th></th>\n",
              "      <th>Value Count</th>\n",
              "      <th>Percentage</th>\n",
              "    </tr>\n",
              "  </thead>\n",
              "  <tbody>\n",
              "    <tr>\n",
              "      <th>1</th>\n",
              "      <td>8530</td>\n",
              "      <td>53.92</td>\n",
              "    </tr>\n",
              "    <tr>\n",
              "      <th>2</th>\n",
              "      <td>3640</td>\n",
              "      <td>23.01</td>\n",
              "    </tr>\n",
              "    <tr>\n",
              "      <th>0</th>\n",
              "      <td>2353</td>\n",
              "      <td>14.87</td>\n",
              "    </tr>\n",
              "    <tr>\n",
              "      <th>-1</th>\n",
              "      <td>1296</td>\n",
              "      <td>8.19</td>\n",
              "    </tr>\n",
              "  </tbody>\n",
              "</table>\n",
              "</div>"
            ],
            "text/plain": [
              "    Value Count  Percentage\n",
              " 1         8530       53.92\n",
              " 2         3640       23.01\n",
              " 0         2353       14.87\n",
              "-1         1296        8.19"
            ]
          },
          "metadata": {
            "tags": []
          },
          "execution_count": 14
        }
      ]
    },
    {
      "cell_type": "code",
      "metadata": {
        "id": "tJFOcVY4L0n6",
        "colab": {
          "base_uri": "https://localhost:8080/",
          "height": 296
        },
        "outputId": "f78485f7-a242-445d-b8ad-403bf7a0b61d"
      },
      "source": [
        "sns.countplot(x='sentiment',data=ftrain,palette='rainbow')"
      ],
      "execution_count": null,
      "outputs": [
        {
          "output_type": "execute_result",
          "data": {
            "text/plain": [
              "<matplotlib.axes._subplots.AxesSubplot at 0x7f3112fb10f0>"
            ]
          },
          "metadata": {
            "tags": []
          },
          "execution_count": 15
        },
        {
          "output_type": "display_data",
          "data": {
            "image/png": "[encoded data removed]",
            "text/plain": [
              "<Figure size 432x288 with 1 Axes>"
            ]
          },
          "metadata": {
            "tags": []
          }
        }
      ]
    },
    {
      "cell_type": "markdown",
      "metadata": {
        "id": "0v0Qz9JiMRXO"
      },
      "source": [
        "As seen in the bar graph, sentiment class 1 has the highest number of tweets in the train data accounting for 8530 tweets(53.92%).The lowest sentiment class is class -1 which accounts for 1296 tweets (8.19%).The distribution of sentiments classes are imbalanced because the classes do not have the same ammount of tweets in their class as seen in dataframe which compares the value counts and percentage of each sentiment class.\n",
        "\n",
        "The class imbalance of the training data has an impact on the classification made on the unseen data (testing data) in the modeling phase.A class imbalance could result in the model classifying most of the tweets into sentiment class 1 since the model gets better a classifying class 1 tweets as the model has more evidence  of class 1 tweets.This will be taken into consideration in the preprocessing and modeling section of the notebook."
      ]
    },
    {
      "cell_type": "markdown",
      "metadata": {
        "id": "hcfSNOWRMVsp"
      },
      "source": [
        "##2.2 An analysis of tweets statistics"
      ]
    },
    {
      "cell_type": "code",
      "metadata": {
        "id": "EkC5Lb5cL0jr",
        "colab": {
          "base_uri": "https://localhost:8080/"
        },
        "outputId": "fdba8234-b87f-459b-8320-25c1a85a7c03"
      },
      "source": [
        "ftrain.message.describe()"
      ],
      "execution_count": null,
      "outputs": [
        {
          "output_type": "execute_result",
          "data": {
            "text/plain": [
              "count                                                 15819\n",
              "unique                                                14229\n",
              "top       RT @StephenSchlegel: she's thinking about how ...\n",
              "freq                                                    307\n",
              "Name: message, dtype: object"
            ]
          },
          "metadata": {
            "tags": []
          },
          "execution_count": 16
        }
      ]
    },
    {
      "cell_type": "code",
      "metadata": {
        "id": "Oat7-XyUL0gE",
        "colab": {
          "base_uri": "https://localhost:8080/"
        },
        "outputId": "939e8d4f-ff8a-40b4-b65c-71fa2d929dc9"
      },
      "source": [
        "ftest.message.describe()"
      ],
      "execution_count": null,
      "outputs": [
        {
          "output_type": "execute_result",
          "data": {
            "text/plain": [
              "count                                                 10546\n",
              "unique                                                 9575\n",
              "top       RT @StephenSchlegel: she's thinking about how ...\n",
              "freq                                                    199\n",
              "Name: message, dtype: object"
            ]
          },
          "metadata": {
            "tags": []
          },
          "execution_count": 17
        }
      ]
    },
    {
      "cell_type": "code",
      "metadata": {
        "id": "LaEmiR48L0cF",
        "colab": {
          "base_uri": "https://localhost:8080/",
          "height": 235
        },
        "outputId": "9d2a001e-1804-4310-be5a-a64eb4af72b0"
      },
      "source": [
        "ftrain[['sentiment','message']].groupby('sentiment').describe()"
      ],
      "execution_count": null,
      "outputs": [
        {
          "output_type": "execute_result",
          "data": {
            "text/html": [
              "<div>\n",
              "<style scoped>\n",
              "    .dataframe tbody tr th:only-of-type {\n",
              "        vertical-align: middle;\n",
              "    }\n",
              "\n",
              "    .dataframe tbody tr th {\n",
              "        vertical-align: top;\n",
              "    }\n",
              "\n",
              "    .dataframe thead tr th {\n",
              "        text-align: left;\n",
              "    }\n",
              "\n",
              "    .dataframe thead tr:last-of-type th {\n",
              "        text-align: right;\n",
              "    }\n",
              "</style>\n",
              "<table border=\"1\" class=\"dataframe\">\n",
              "  <thead>\n",
              "    <tr>\n",
              "      <th></th>\n",
              "      <th colspan=\"4\" halign=\"left\">message</th>\n",
              "    </tr>\n",
              "    <tr>\n",
              "      <th></th>\n",
              "      <th>count</th>\n",
              "      <th>unique</th>\n",
              "      <th>top</th>\n",
              "      <th>freq</th>\n",
              "    </tr>\n",
              "    <tr>\n",
              "      <th>sentiment</th>\n",
              "      <th></th>\n",
              "      <th></th>\n",
              "      <th></th>\n",
              "      <th></th>\n",
              "    </tr>\n",
              "  </thead>\n",
              "  <tbody>\n",
              "    <tr>\n",
              "      <th>-1</th>\n",
              "      <td>1296</td>\n",
              "      <td>1222</td>\n",
              "      <td>RT @realDonaldTrump: The concept of global war...</td>\n",
              "      <td>22</td>\n",
              "    </tr>\n",
              "    <tr>\n",
              "      <th>0</th>\n",
              "      <td>2353</td>\n",
              "      <td>2245</td>\n",
              "      <td>RT @CivilJustUs: How do they expect us to care...</td>\n",
              "      <td>20</td>\n",
              "    </tr>\n",
              "    <tr>\n",
              "      <th>1</th>\n",
              "      <td>8530</td>\n",
              "      <td>7224</td>\n",
              "      <td>RT @StephenSchlegel: she's thinking about how ...</td>\n",
              "      <td>307</td>\n",
              "    </tr>\n",
              "    <tr>\n",
              "      <th>2</th>\n",
              "      <td>3640</td>\n",
              "      <td>3542</td>\n",
              "      <td>RT @business: China tells Trump climate change...</td>\n",
              "      <td>12</td>\n",
              "    </tr>\n",
              "  </tbody>\n",
              "</table>\n",
              "</div>"
            ],
            "text/plain": [
              "          message  ...     \n",
              "            count  ... freq\n",
              "sentiment          ...     \n",
              "-1           1296  ...   22\n",
              " 0           2353  ...   20\n",
              " 1           8530  ...  307\n",
              " 2           3640  ...   12\n",
              "\n",
              "[4 rows x 4 columns]"
            ]
          },
          "metadata": {
            "tags": []
          },
          "execution_count": 18
        }
      ]
    },
    {
      "cell_type": "markdown",
      "metadata": {
        "id": "2x0zq3NOrGrU"
      },
      "source": [
        "Adding a column of the tweets length/word count to the data"
      ]
    },
    {
      "cell_type": "code",
      "metadata": {
        "id": "s5-obFETL0Zw",
        "colab": {
          "base_uri": "https://localhost:8080/",
          "height": 204
        },
        "outputId": "a7764b11-1a1f-478a-c836-c96903f8fff5"
      },
      "source": [
        "ftrain['length'] = ftrain['message'].apply(len)\n",
        "ftrain.head()"
      ],
      "execution_count": null,
      "outputs": [
        {
          "output_type": "execute_result",
          "data": {
            "text/html": [
              "<div>\n",
              "<style scoped>\n",
              "    .dataframe tbody tr th:only-of-type {\n",
              "        vertical-align: middle;\n",
              "    }\n",
              "\n",
              "    .dataframe tbody tr th {\n",
              "        vertical-align: top;\n",
              "    }\n",
              "\n",
              "    .dataframe thead th {\n",
              "        text-align: right;\n",
              "    }\n",
              "</style>\n",
              "<table border=\"1\" class=\"dataframe\">\n",
              "  <thead>\n",
              "    <tr style=\"text-align: right;\">\n",
              "      <th></th>\n",
              "      <th>sentiment</th>\n",
              "      <th>message</th>\n",
              "      <th>tweetid</th>\n",
              "      <th>length</th>\n",
              "    </tr>\n",
              "  </thead>\n",
              "  <tbody>\n",
              "    <tr>\n",
              "      <th>0</th>\n",
              "      <td>1</td>\n",
              "      <td>PolySciMajor EPA chief doesn't think carbon di...</td>\n",
              "      <td>625221</td>\n",
              "      <td>140</td>\n",
              "    </tr>\n",
              "    <tr>\n",
              "      <th>1</th>\n",
              "      <td>1</td>\n",
              "      <td>It's not like we lack evidence of anthropogeni...</td>\n",
              "      <td>126103</td>\n",
              "      <td>62</td>\n",
              "    </tr>\n",
              "    <tr>\n",
              "      <th>2</th>\n",
              "      <td>2</td>\n",
              "      <td>RT @RawStory: Researchers say we have three ye...</td>\n",
              "      <td>698562</td>\n",
              "      <td>140</td>\n",
              "    </tr>\n",
              "    <tr>\n",
              "      <th>3</th>\n",
              "      <td>1</td>\n",
              "      <td>#TodayinMaker# WIRED : 2016 was a pivotal year...</td>\n",
              "      <td>573736</td>\n",
              "      <td>99</td>\n",
              "    </tr>\n",
              "    <tr>\n",
              "      <th>4</th>\n",
              "      <td>1</td>\n",
              "      <td>RT @SoyNovioDeTodas: It's 2016, and a racist, ...</td>\n",
              "      <td>466954</td>\n",
              "      <td>122</td>\n",
              "    </tr>\n",
              "  </tbody>\n",
              "</table>\n",
              "</div>"
            ],
            "text/plain": [
              "   sentiment  ... length\n",
              "0          1  ...    140\n",
              "1          1  ...     62\n",
              "2          2  ...    140\n",
              "3          1  ...     99\n",
              "4          1  ...    122\n",
              "\n",
              "[5 rows x 4 columns]"
            ]
          },
          "metadata": {
            "tags": []
          },
          "execution_count": 16
        }
      ]
    },
    {
      "cell_type": "code",
      "metadata": {
        "id": "1sn58d8ZMj22",
        "colab": {
          "base_uri": "https://localhost:8080/",
          "height": 204
        },
        "outputId": "1cb1165e-829d-447f-d805-7201e29fc7af"
      },
      "source": [
        "ftest['length'] = ftest['message'].apply(len)\n",
        "ftest.head()"
      ],
      "execution_count": null,
      "outputs": [
        {
          "output_type": "execute_result",
          "data": {
            "text/html": [
              "<div>\n",
              "<style scoped>\n",
              "    .dataframe tbody tr th:only-of-type {\n",
              "        vertical-align: middle;\n",
              "    }\n",
              "\n",
              "    .dataframe tbody tr th {\n",
              "        vertical-align: top;\n",
              "    }\n",
              "\n",
              "    .dataframe thead th {\n",
              "        text-align: right;\n",
              "    }\n",
              "</style>\n",
              "<table border=\"1\" class=\"dataframe\">\n",
              "  <thead>\n",
              "    <tr style=\"text-align: right;\">\n",
              "      <th></th>\n",
              "      <th>message</th>\n",
              "      <th>tweetid</th>\n",
              "      <th>length</th>\n",
              "    </tr>\n",
              "  </thead>\n",
              "  <tbody>\n",
              "    <tr>\n",
              "      <th>0</th>\n",
              "      <td>Europe will now be looking to China to make su...</td>\n",
              "      <td>169760</td>\n",
              "      <td>121</td>\n",
              "    </tr>\n",
              "    <tr>\n",
              "      <th>1</th>\n",
              "      <td>Combine this with the polling of staffers re c...</td>\n",
              "      <td>35326</td>\n",
              "      <td>132</td>\n",
              "    </tr>\n",
              "    <tr>\n",
              "      <th>2</th>\n",
              "      <td>The scary, unimpeachable evidence that climate...</td>\n",
              "      <td>224985</td>\n",
              "      <td>139</td>\n",
              "    </tr>\n",
              "    <tr>\n",
              "      <th>3</th>\n",
              "      <td>@Karoli @morgfair @OsborneInk @dailykos \\nPuti...</td>\n",
              "      <td>476263</td>\n",
              "      <td>136</td>\n",
              "    </tr>\n",
              "    <tr>\n",
              "      <th>4</th>\n",
              "      <td>RT @FakeWillMoore: 'Female orgasms cause globa...</td>\n",
              "      <td>872928</td>\n",
              "      <td>79</td>\n",
              "    </tr>\n",
              "  </tbody>\n",
              "</table>\n",
              "</div>"
            ],
            "text/plain": [
              "                                             message  tweetid  length\n",
              "0  Europe will now be looking to China to make su...   169760     121\n",
              "1  Combine this with the polling of staffers re c...    35326     132\n",
              "2  The scary, unimpeachable evidence that climate...   224985     139\n",
              "3  @Karoli @morgfair @OsborneInk @dailykos \\nPuti...   476263     136\n",
              "4  RT @FakeWillMoore: 'Female orgasms cause globa...   872928      79"
            ]
          },
          "metadata": {
            "tags": []
          },
          "execution_count": 17
        }
      ]
    },
    {
      "cell_type": "markdown",
      "metadata": {
        "id": "UeaCrUK_MuV6"
      },
      "source": [
        "##2.3 The distribution of the tweets length in the data"
      ]
    },
    {
      "cell_type": "code",
      "metadata": {
        "id": "2LckjRtJMkDH",
        "colab": {
          "base_uri": "https://localhost:8080/",
          "height": 350
        },
        "outputId": "dca06700-4c73-4924-af9a-4cbd915c9936"
      },
      "source": [
        "sns.distplot(ftrain['length'],bins=30,kde=False,color='#440154')"
      ],
      "execution_count": null,
      "outputs": [
        {
          "output_type": "stream",
          "text": [
            "/usr/local/lib/python3.6/dist-packages/seaborn/distributions.py:2551: FutureWarning: `distplot` is a deprecated function and will be removed in a future version. Please adapt your code to use either `displot` (a figure-level function with similar flexibility) or `histplot` (an axes-level function for histograms).\n",
            "  warnings.warn(msg, FutureWarning)\n"
          ],
          "name": "stderr"
        },
        {
          "output_type": "execute_result",
          "data": {
            "text/plain": [
              "<matplotlib.axes._subplots.AxesSubplot at 0x7f4d53790828>"
            ]
          },
          "metadata": {
            "tags": []
          },
          "execution_count": 21
        },
        {
          "output_type": "display_data",
          "data": {
            "image/png": "[encoded data removed]",
            "text/plain": [
              "<Figure size 432x288 with 1 Axes>"
            ]
          },
          "metadata": {
            "tags": []
          }
        }
      ]
    },
    {
      "cell_type": "code",
      "metadata": {
        "id": "0H3yWkIeMkda",
        "colab": {
          "base_uri": "https://localhost:8080/"
        },
        "outputId": "72f1ffe1-33c7-4caa-e422-9490e73afff1"
      },
      "source": [
        "ftrain['length'].describe()"
      ],
      "execution_count": null,
      "outputs": [
        {
          "output_type": "execute_result",
          "data": {
            "text/plain": [
              "count    15819.000000\n",
              "mean       123.774132\n",
              "std         23.332433\n",
              "min         14.000000\n",
              "25%        114.000000\n",
              "50%        133.000000\n",
              "75%        140.000000\n",
              "max        208.000000\n",
              "Name: length, dtype: float64"
            ]
          },
          "metadata": {
            "tags": []
          },
          "execution_count": 24
        }
      ]
    },
    {
      "cell_type": "code",
      "metadata": {
        "id": "riCIBhH1MkYR",
        "colab": {
          "base_uri": "https://localhost:8080/",
          "height": 52
        },
        "outputId": "1b0cc697-8b3b-4a02-9e33-e7db1589659f"
      },
      "source": [
        "#print the longest tweet in the train data\n",
        "ftrain[ftrain['length'] == 208]['message'].iloc[0]"
      ],
      "execution_count": null,
      "outputs": [
        {
          "output_type": "execute_result",
          "data": {
            "application/vnd.google.colaboratory.intrinsic+json": {
              "type": "string"
            },
            "text/plain": [
              "\"RT @athakur98: i respect differing opinions but i WILL fight you if you don't believe in climate change bc that's Ã°Å¸â€˜ï†\\x8fÃ°Å¸ï†\\x8fÂ½ not Ã°Å¸â€˜ï†\\x8fÃ°Å¸ï†\\x8fÂ½ an Ã°Å¸â€˜ï†\\x8fÃ°Å¸ï†\\x8fÂ½ opinion Ã°Å¸â€˜ï†\\x8fÃ°Å¸ï†\\x8fÂ½\""
            ]
          },
          "metadata": {
            "tags": []
          },
          "execution_count": 23
        }
      ]
    },
    {
      "cell_type": "markdown",
      "metadata": {
        "id": "1xbQwZBdM5jv"
      },
      "source": [
        "The tweets length in the train data lie between 208 characters and 14 characters.The average length of tweets is 123 characters.The longest tweet on climate change in the train data contrains 208 words.The longest tweet stands out from the average length of tweets on climate change which is 123 words.The cell illustrates that the tweet with the most words is simply made up of only a few actual words this will be taken into consideration in the preprocessing section of the notebook to ensure that any noise in the tweets are removed."
      ]
    },
    {
      "cell_type": "code",
      "metadata": {
        "id": "RHAyaKVmMkUr",
        "colab": {
          "base_uri": "https://localhost:8080/",
          "height": 350
        },
        "outputId": "98c0dfeb-043b-4aed-9b23-8c923b73c899"
      },
      "source": [
        "sns.distplot(ftest['length'],bins=30,kde=False,color='#20A387')"
      ],
      "execution_count": null,
      "outputs": [
        {
          "output_type": "stream",
          "text": [
            "/usr/local/lib/python3.6/dist-packages/seaborn/distributions.py:2551: FutureWarning: `distplot` is a deprecated function and will be removed in a future version. Please adapt your code to use either `displot` (a figure-level function with similar flexibility) or `histplot` (an axes-level function for histograms).\n",
            "  warnings.warn(msg, FutureWarning)\n"
          ],
          "name": "stderr"
        },
        {
          "output_type": "execute_result",
          "data": {
            "text/plain": [
              "<matplotlib.axes._subplots.AxesSubplot at 0x7f4d53c70a90>"
            ]
          },
          "metadata": {
            "tags": []
          },
          "execution_count": 25
        },
        {
          "output_type": "display_data",
          "data": {
            "image/png": "[encoded data removed]",
            "text/plain": [
              "<Figure size 432x288 with 1 Axes>"
            ]
          },
          "metadata": {
            "tags": []
          }
        }
      ]
    },
    {
      "cell_type": "code",
      "metadata": {
        "id": "aILJAfjHMj_1",
        "colab": {
          "base_uri": "https://localhost:8080/"
        },
        "outputId": "4027f5cc-33cb-41db-bf3f-ed24b1b4ea57"
      },
      "source": [
        "ftest['length'].describe()"
      ],
      "execution_count": null,
      "outputs": [
        {
          "output_type": "execute_result",
          "data": {
            "text/plain": [
              "count    10546.000000\n",
              "mean       123.738764\n",
              "std         23.752069\n",
              "min          7.000000\n",
              "25%        114.000000\n",
              "50%        132.000000\n",
              "75%        140.000000\n",
              "max        623.000000\n",
              "Name: length, dtype: float64"
            ]
          },
          "metadata": {
            "tags": []
          },
          "execution_count": 26
        }
      ]
    },
    {
      "cell_type": "code",
      "metadata": {
        "id": "BqnwE_TJMj80",
        "colab": {
          "base_uri": "https://localhost:8080/",
          "height": 154
        },
        "outputId": "7681d184-e428-4b53-bf00-6417197f8d0f"
      },
      "source": [
        "ftest[ftest['length'] == 623]['message'].iloc[0]"
      ],
      "execution_count": null,
      "outputs": [
        {
          "output_type": "execute_result",
          "data": {
            "application/vnd.google.colaboratory.intrinsic+json": {
              "type": "string"
            },
            "text/plain": [
              "'RT @Hopeniverse: Ã\\xa0Â¸Â£Ã\\xa0Â¸ÂµÃ\\xa0Â¸Â§Ã\\xa0Â¸Â´Ã\\xa0Â¸Â§Ã\\xa0Â¸Â£Ã\\xa0Â¸Âª global warming Ã\\xa0Â¸â€žÃ\\xa0Â¹Ë†Ã\\xa0Â¸Â° Ã\\xa0Â¹â€šÃ\\xa0Â¸â€\\x9dÃ\\xa0Â¸â„¢Ã\\xa0Â¸Â«Ã\\xa0Â¸â„¢Ã\\xa0Â¹â€°Ã\\xa0Â¸Â²Ã\\xa0Â¸â€¢Ã\\xa0Â¸Â²Ã\\xa0Â¸â„¢Ã\\xa0Â¹Ë†Ã\\xa0Â¸Â²Ã\\xa0Â¸Â£Ã\\xa0Â¸Â±Ã\\xa0Â¸ï†\\x81Ã\\xa0Â¸Â«Ã\\xa0Â¸Â¥Ã\\xa0Â¸Â\\xadÃ\\xa0Â¸ï†\\x81Ã\\xa0Â¹Æ’Ã\\xa0Â¸Â«Ã\\xa0Â¹â€°Ã\\xa0Â¸â€¹Ã\\xa0Â¸Â·Ã\\xa0Â¹â€°Ã\\xa0Â¸Â\\xadÃ\\xa0Â¸Â¡Ã\\xa0Â¸Â² Ã\\xa0Â¹â‚¬Ã\\xa0Â¸Â«Ã\\xa0Â¸Â¡Ã\\xa0Â¸Â·Ã\\xa0Â¸Â\\xadÃ\\xa0Â¸â„¢Ã\\xa0Â¹â‚¬Ã\\xa0Â¸â€žÃ\\xa0Â¸ÂµÃ\\xa0Â¹â€°Ã\\xa0Â¸Â¢Ã\\xa0Â¸Â§Ã\\xa0Â¹â€šÃ\\xa0Â¸Â\\xadÃ\\xa0Â¸Â£Ã\\xa0Â¸Â´Ã\\xa0Â¹â€šÃ\\xa0Â¸Â\\xadÃ\\xa0Â¹â€°Ã\\xa0Â¹ï†\\x81Ã\\xa0Â¸Â¥Ã\\xa0Â¹â€°Ã\\xa0Â¸Â§Ã\\xa0Â¹ï†\\x81Ã\\xa0Â¸â€ºÃ\\xa0Â¸Â£Ã\\xa0Â¸â€¡Ã\\xa0Â¸Å¸Ã\\xa0Â¸Â±Ã\\xa0Â¸â„¢Ã\\xa0Â¹â€žÃ\\xa0Â¸â€ºÃ\\xa0Â¸â€\\x9dÃ\\xa0Â¹â€°Ã\\xa0Â¸Â§Ã\\xa0Â¸Â¢Ã\\xa0Â¹Æ’Ã\\xa0Â¸â„¢Ã\\xa0Â¹â‚¬Ã\\xa0Â¸Â§Ã\\xa0Â¸Â¥Ã\\xa0Â¸Â²Ã\\xa0Â¹â‚¬Ã\\xa0Â¸â€\\x9dÃ\\xa0Â¸ÂµÃ\\xa0Â¸Â¢Ã\\xa0Â¸Â§Ã\\xa0Â¸ï†\\x81Ã\\xa0Â¸Â±Ã\\xa0Â¸â„¢ https://t.co/XqÃ¢â‚¬Â¦'"
            ]
          },
          "metadata": {
            "tags": []
          },
          "execution_count": 27
        }
      ]
    },
    {
      "cell_type": "markdown",
      "metadata": {
        "id": "q3Vf-XfKNGK4"
      },
      "source": [
        "The tweet in the test data are betweet 7 characters and 623 characters.On average the tweets in the test data are 123 characters.The longest tweets seem to have soe discrepency because twitter's word limit  on tweets in 280 characters however the longest tweet exceeds this limit.The longest tweet in the data is simply made up of only a few actual words this will be taken into consideration in the preprocessing section of the notebook to ensure that any noise in the tweets are removed "
      ]
    },
    {
      "cell_type": "markdown",
      "metadata": {
        "id": "fEIGGxtINKFM"
      },
      "source": [
        "### The length of tweets per sentiment class"
      ]
    },
    {
      "cell_type": "code",
      "metadata": {
        "id": "_JMKAJ82NB9M",
        "colab": {
          "base_uri": "https://localhost:8080/",
          "height": 242
        },
        "outputId": "d474d70d-3736-4b87-fa98-f9d88a5ad492"
      },
      "source": [
        "g = sns.FacetGrid(ftrain,col='sentiment')\n",
        "g.map(plt.hist,'length')"
      ],
      "execution_count": null,
      "outputs": [
        {
          "output_type": "execute_result",
          "data": {
            "text/plain": [
              "<seaborn.axisgrid.FacetGrid at 0x7f4d51c6afd0>"
            ]
          },
          "metadata": {
            "tags": []
          },
          "execution_count": 28
        },
        {
          "output_type": "display_data",
          "data": {
            "image/png": "[encoded data removed]",
            "text/plain": [
              "<Figure size 864x216 with 4 Axes>"
            ]
          },
          "metadata": {
            "tags": []
          }
        }
      ]
    },
    {
      "cell_type": "markdown",
      "metadata": {
        "id": "VeMBX_-KNVRQ"
      },
      "source": [
        "Tweets that are part of sentiment class one have have the highest length frequency as compared to the other classes. "
      ]
    },
    {
      "cell_type": "markdown",
      "metadata": {
        "id": "C3WfZ3csNZvK"
      },
      "source": [
        "\n",
        "##2.4 The main topics surrounding the climate change tweets\n",
        "\n",
        "An understanding of the main topics dicussed in the climate change discussion on twitter is essential as it illustrates the sentiments attatched to climate change. This is done through extracting the most frequently used words and hashtags."
      ]
    },
    {
      "cell_type": "markdown",
      "metadata": {
        "id": "EgKvHOerNfHS"
      },
      "source": [
        "###2.4.1 Top 30 used words in the tweets"
      ]
    },
    {
      "cell_type": "markdown",
      "metadata": {
        "id": "MtcnID8rNjVD"
      },
      "source": [
        " Train data"
      ]
    },
    {
      "cell_type": "code",
      "metadata": {
        "id": "9cM7uTPZNRp3",
        "colab": {
          "base_uri": "https://localhost:8080/"
        },
        "outputId": "ff85d294-2df1-4d38-f0c3-f6bfbeb66222"
      },
      "source": [
        "cv = CountVectorizer(stop_words = 'english')\n",
        "words = cv.fit_transform(ftrain.message)\n",
        "\n",
        "sum_words = words.sum(axis=0)\n",
        "\n",
        "words_freq = [(word, sum_words[0, i]) for word, i in cv.vocabulary_.items()]\n",
        "words_freq = sorted(words_freq, key = lambda x: x[1], reverse = True)\n",
        "\n",
        "frequency = pd.DataFrame(words_freq, columns=['word', 'freq'])\n",
        "\n",
        "frequency.head(30).plot(x='word', y='freq', kind='bar', figsize=(15, 7), color = '#440154')\n",
        "plt.title(\"Train : Most Frequently Occuring Words - Top 30\")"
      ],
      "execution_count": null,
      "outputs": [
        {
          "output_type": "execute_result",
          "data": {
            "text/plain": [
              "Text(0.5, 1.0, 'Train : Most Frequently Occuring Words - Top 30')"
            ]
          },
          "metadata": {
            "tags": []
          },
          "execution_count": 29
        },
        {
          "output_type": "display_data",
          "data": {
            "image/png": "[encoded data removed]",
            "text/plain": [
              "<Figure size 1080x504 with 1 Axes>"
            ]
          },
          "metadata": {
            "tags": []
          }
        }
      ]
    },
    {
      "cell_type": "markdown",
      "metadata": {
        "id": "pm2ZmdXyNn9q"
      },
      "source": [
        "Test data"
      ]
    },
    {
      "cell_type": "code",
      "metadata": {
        "id": "bpTmHs65NRwf",
        "colab": {
          "base_uri": "https://localhost:8080/"
        },
        "outputId": "19bdfc6d-8556-495c-b860-3254814f6dc1"
      },
      "source": [
        "cv = CountVectorizer(stop_words = 'english')\n",
        "words = cv.fit_transform(ftest.message)\n",
        "\n",
        "sum_words = words.sum(axis=0)\n",
        "\n",
        "words_freq = [(word, sum_words[0, i]) for word, i in cv.vocabulary_.items()]\n",
        "words_freq = sorted(words_freq, key = lambda x: x[1], reverse = True)\n",
        "\n",
        "frequency = pd.DataFrame(words_freq, columns=['word', 'freq'])\n",
        "\n",
        "frequency.head(30).plot(x='word', y='freq', kind='bar', figsize=(15, 7), color = '#20A387')\n",
        "plt.title(\"Test : Most Frequently Occuring Words - Top 30\")"
      ],
      "execution_count": null,
      "outputs": [
        {
          "output_type": "execute_result",
          "data": {
            "text/plain": [
              "Text(0.5, 1.0, 'Test : Most Frequently Occuring Words - Top 30')"
            ]
          },
          "metadata": {
            "tags": []
          },
          "execution_count": 30
        },
        {
          "output_type": "display_data",
          "data": {
            "image/png": "[encoded data removed]",
            "text/plain": [
              "<Figure size 1080x504 with 1 Axes>"
            ]
          },
          "metadata": {
            "tags": []
          }
        }
      ]
    },
    {
      "cell_type": "code",
      "metadata": {
        "id": "pLMe0OvLNR6v",
        "colab": {
          "base_uri": "https://localhost:8080/"
        },
        "outputId": "c8c3db43-3ff5-4b6b-93ae-0bc5f5f52c41"
      },
      "source": [
        "wordcloud = WordCloud(background_color = 'white', \n",
        "                      width = 1000, height = 1000)\n",
        "                      .generate_from_frequencies(dict(words_freq))\n",
        "\n",
        "plt.figure(figsize=(8,8))\n",
        "plt.title(\"WordCloud - Vocabulary from tweets\")\n",
        "plt.imshow(wordcloud)"
      ],
      "execution_count": null,
      "outputs": [
        {
          "output_type": "execute_result",
          "data": {
            "text/plain": [
              "<matplotlib.image.AxesImage at 0x7f4d4f0441d0>"
            ]
          },
          "metadata": {
            "tags": []
          },
          "execution_count": 31
        },
        {
          "output_type": "display_data",
          "data": {
            "image/png": "[encoded data removed]",
            "text/plain": [
              "<Figure size 576x576 with 1 Axes>"
            ]
          },
          "metadata": {
            "tags": []
          }
        }
      ]
    },
    {
      "cell_type": "markdown",
      "metadata": {
        "id": "8VFzvzQ6eQuA"
      },
      "source": [
        "### 2.4.2 The top 10 influencial Twitter accounts in the climate change debate\n",
        "\n",
        "The accounts that recieved the most mentions are Twitter accounts that have engaged with the climate change topic.Twitter users mention these accounts when reposting(retweeting) the twitter accounts sentiment on climate change or responding to the twitter accounts comment on climate change.Within the data these Twitter accounts have played a vital role in fueling the climate change debate on Twitter."
      ]
    },
    {
      "cell_type": "code",
      "metadata": {
        "id": "x5tVScc5ebvG",
        "colab": {
          "base_uri": "https://localhost:8080/",
          "height": 313
        },
        "outputId": "e2f51f45-5929-4be2-fe5d-f1608b60de7e"
      },
      "source": [
        "#function used to extract the mentions from the tweets\n",
        "def mentions(text):\n",
        "    line=re.findall(r'(?<=@)\\w+',text)\n",
        "    return \" \".join(line)\n",
        "#train data mentions\n",
        "ftrain['mentions']=ftrain['message'].apply(lambda x:mentions(x))\n",
        "temp= ftrain['mentions'].value_counts()[:][1:11]\n",
        "temp =temp.to_frame().reset_index().rename(columns={'index':'Mentions','mentions':'count'})\n",
        "plt.figure(figsize=(16,5))\n",
        "x= temp['Mentions']\n",
        "y= temp['count']\n",
        "sns.barplot(x=y,y=x,color='#440154')"
      ],
      "execution_count": null,
      "outputs": [
        {
          "output_type": "execute_result",
          "data": {
            "text/plain": [
              "<matplotlib.axes._subplots.AxesSubplot at 0x7f3112fb1e10>"
            ]
          },
          "metadata": {
            "tags": []
          },
          "execution_count": 18
        },
        {
          "output_type": "display_data",
          "data": {
            "image/png": "[encoded data removed]",
            "text/plain": [
              "<Figure size 1152x360 with 1 Axes>"
            ]
          },
          "metadata": {
            "tags": []
          }
        }
      ]
    },
    {
      "cell_type": "code",
      "metadata": {
        "id": "Up4YnqoRemDy",
        "colab": {
          "base_uri": "https://localhost:8080/",
          "height": 313
        },
        "outputId": "3c0d057b-4489-46fd-dd2a-46024324f70a"
      },
      "source": [
        "#test data mentions\n",
        "ftest['mentions']=ftest['message'].apply(lambda x:mentions(x))\n",
        "\n",
        "temp1= ftest['mentions'].value_counts()[:][1:11]\n",
        "temp1 =temp1.to_frame().reset_index().rename(columns={'index':'Mentions','mentions':'count'})\n",
        "plt.figure(figsize=(16,5))\n",
        "x= temp1['Mentions']\n",
        "y= temp1['count']\n",
        "sns.barplot(x=y,y=x,color='#20A387')"
      ],
      "execution_count": null,
      "outputs": [
        {
          "output_type": "execute_result",
          "data": {
            "text/plain": [
              "<matplotlib.axes._subplots.AxesSubplot at 0x7f3110fbdd68>"
            ]
          },
          "metadata": {
            "tags": []
          },
          "execution_count": 19
        },
        {
          "output_type": "display_data",
          "data": {
            "image/png": "[encoded data removed]",
            "text/plain": [
              "<Figure size 1152x360 with 1 Axes>"
            ]
          },
          "metadata": {
            "tags": []
          }
        }
      ]
    },
    {
      "cell_type": "markdown",
      "metadata": {
        "id": "D442La6xN1di"
      },
      "source": [
        "\n",
        "\n",
        "###2.4.3 An analysis of the Hashtags used  per sentiment class\n",
        "\n",
        "A hashtags is written using the '#' symbol.Its main function is to categorize tweets based on a keyword or a topic associated with the hashtag used. According to the 'Twitter Help Center' website people use hashtags before a relevant phrase or keyword. \n",
        "\n",
        "The hashtags used in the climate change tweets highlight the people's interest in the climate change topic.The hashtags that were used communicate that people have divided opinions on climate change.This is relfected in the hashtags used within each sentiment class.  "
      ]
    },
    {
      "cell_type": "code",
      "metadata": {
        "id": "bhXGOu6BNR3g"
      },
      "source": [
        "# collecting the hashtags\n",
        "\n",
        "def hashtag_extract(x):\n",
        "    hashtags = []\n",
        "    \n",
        "    for i in x:\n",
        "        ht = re.findall(r\"#(\\w+)\", i)\n",
        "        hashtags.append(ht)\n",
        "\n",
        "    return hashtags"
      ],
      "execution_count": null,
      "outputs": []
    },
    {
      "cell_type": "code",
      "metadata": {
        "id": "vHFRwe3zNCD7"
      },
      "source": [
        "# extracting hashtags from train tweets\n",
        "HT_train_neg = hashtag_extract(ftrain['message'][ftrain['sentiment'] == -1])\n",
        "HT_train0 = hashtag_extract(ftrain['message'][ftrain['sentiment'] == 0])\n",
        "HT_train1 = hashtag_extract(ftrain['message'][ftrain['sentiment'] == 1])\n",
        "HT_train2 = hashtag_extract(ftrain['message'][ftrain['sentiment'] == 2])\n",
        "\n",
        "\n",
        "# unnesting list\n",
        "HT_train_neg = sum(HT_train_neg,[])\n",
        "HT_train0 = sum(HT_train0,[])\n",
        "HT_train1 = sum(HT_train1,[])\n",
        "HT_train2 = sum(HT_train2,[])"
      ],
      "execution_count": null,
      "outputs": []
    },
    {
      "cell_type": "markdown",
      "metadata": {
        "id": "hnbiXm8lOAiT"
      },
      "source": [
        "####2.4.3.1 Top 10 hashtags used in Sentiment class  -1 tweets"
      ]
    },
    {
      "cell_type": "code",
      "metadata": {
        "id": "l56NKddoN8Yd",
        "colab": {
          "base_uri": "https://localhost:8080/"
        },
        "outputId": "32cdbc7d-efc9-45ef-b3e0-ae630d0dda2e"
      },
      "source": [
        "a = nltk.FreqDist(HT_train_neg)\n",
        "d = pd.DataFrame({'Hashtag': list(a.keys()),\n",
        "                  'Count': list(a.values())})\n",
        "\n",
        "# selecting top 10 most frequent hashtags     \n",
        "d = d.nlargest(columns=\"Count\", n = 10) \n",
        "plt.figure(figsize=(16,5))\n",
        "ax = sns.barplot(data=d, x= \"Hashtag\", y = \"Count\")\n",
        "ax.set(ylabel = 'Count')\n",
        "plt.show()"
      ],
      "execution_count": null,
      "outputs": [
        {
          "output_type": "display_data",
          "data": {
            "image/png": "[encoded data removed]",
            "text/plain": [
              "<Figure size 1152x360 with 1 Axes>"
            ]
          },
          "metadata": {
            "tags": []
          }
        }
      ]
    },
    {
      "cell_type": "code",
      "metadata": {
        "id": "Rc6J9os4N8iM",
        "colab": {
          "base_uri": "https://localhost:8080/"
        },
        "outputId": "fada48ed-288b-4c66-c0f1-c830a24fe17a"
      },
      "source": [
        "#An example of a sentiment found within class -1 tweets\n",
        "ftrain[ftrain['sentiment'] == -1]['message'].iloc[67]"
      ],
      "execution_count": null,
      "outputs": [
        {
          "output_type": "execute_result",
          "data": {
            "application/vnd.google.colaboratory.intrinsic+json": {
              "type": "string"
            },
            "text/plain": [
              "\"RT @Cernovich: Same 'experts' who said Hillary would win claim 'climate change' is real. LOL! Go away, morons, you know nothing and you losÃ¢â‚¬Â¦\""
            ]
          },
          "metadata": {
            "tags": []
          },
          "execution_count": 35
        }
      ]
    },
    {
      "cell_type": "markdown",
      "metadata": {
        "id": "N_zhTlkdOHtp"
      },
      "source": [
        "In class -1 the hashtag that was used the most is #MAGA and the second highest being #climate.These keywords were the most used when people were discussing their sentiments concerning climate change.Other interesting hashtags that form part of the top ten hashtags used in class one are #fakenews and #ClimateScam which insinuate that some of the people who were tweeting about climate change believe that is is simply fake news or a scam. The third highest hashtag used is #Trump when discussing climate change. The class focuses more on discussing climate change as being linked to politics hence the hashtag that has been used the most is #MAGA as well as the example of one of the tweets provided in the cell above."
      ]
    },
    {
      "cell_type": "markdown",
      "metadata": {
        "id": "uLBnzveuONDh"
      },
      "source": [
        "####2.4.3.2 Top 10 hashtags used in Sentiment class 0 tweets"
      ]
    },
    {
      "cell_type": "code",
      "metadata": {
        "id": "RMQQ6R1qPhmy",
        "colab": {
          "base_uri": "https://localhost:8080/"
        },
        "outputId": "0a1ce622-deb7-4704-cd79-d9e282056b03"
      },
      "source": [
        "a = nltk.FreqDist(HT_train0)\n",
        "c = pd.DataFrame({'Hashtag': list(a.keys()),\n",
        "                  'Count': list(a.values())})\n",
        "\n",
        "# selecting top 20 most frequent hashtags \n",
        "c = c.nlargest(columns=\"Count\", n = 10) \n",
        "plt.figure(figsize=(16,5))\n",
        "ax = sns.barplot(data=c, x= \"Hashtag\", y = \"Count\")\n",
        "ax.set(ylabel = 'Count')\n",
        "plt.show()"
      ],
      "execution_count": null,
      "outputs": [
        {
          "output_type": "display_data",
          "data": {
            "image/png": "[encoded data removed]",
            "text/plain": [
              "<Figure size 1152x360 with 1 Axes>"
            ]
          },
          "metadata": {
            "tags": []
          }
        }
      ]
    },
    {
      "cell_type": "code",
      "metadata": {
        "id": "3rmEdGQwN8fP",
        "colab": {
          "base_uri": "https://localhost:8080/"
        },
        "outputId": "05867a8c-2ba8-417f-93a7-66264f5a7511"
      },
      "source": [
        "#An example of a sentiment found within class 0 tweets\n",
        "ftrain[ftrain['sentiment'] == 0]['message'].iloc[184]"
      ],
      "execution_count": null,
      "outputs": [
        {
          "output_type": "execute_result",
          "data": {
            "application/vnd.google.colaboratory.intrinsic+json": {
              "type": "string"
            },
            "text/plain": [
              "'RT @CivilJustUs: How do they expect us to care about global warming with all this penguin on penguin crime?? https://t.co/HypysWHvVV'"
            ]
          },
          "metadata": {
            "tags": []
          },
          "execution_count": 37
        }
      ]
    },
    {
      "cell_type": "code",
      "metadata": {
        "id": "0tq8gAx2NB5x",
        "colab": {
          "base_uri": "https://localhost:8080/"
        },
        "outputId": "5e251f9f-39d4-45d4-f088-b457f7a07044"
      },
      "source": [
        "#An example of a sentiment found within class 0 tweets\n",
        "ftrain[ftrain['sentiment'] == 0]['message'].iloc[197]"
      ],
      "execution_count": null,
      "outputs": [
        {
          "output_type": "execute_result",
          "data": {
            "application/vnd.google.colaboratory.intrinsic+json": {
              "type": "string"
            },
            "text/plain": [
              "\"RT @kalistazickert_: 'do you believe in global warming jade?'\\nJade: yah bc every day the weather changes @j_sommerhalder\""
            ]
          },
          "metadata": {
            "tags": []
          },
          "execution_count": 38
        }
      ]
    },
    {
      "cell_type": "markdown",
      "metadata": {
        "id": "24IyPggpOZei"
      },
      "source": [
        "The keyword that is used the most when discussing climate change is #climate followed by #climatechange.#Trump is a prominent hashtag in class 0 as well.Donald Trump's views on climate change is discussed in the class.An interesting hashtag used by people is #BeforeTheFlood which is a movie that depicts the impacts of climate change on the Earth,as well as #amreading people use this hashtage to tell mention what they a book or article they are currently reading. The sentiments within class 0 are open conversations surrounding climate change including people asking questions about climate change as well as sarcasm."
      ]
    },
    {
      "cell_type": "markdown",
      "metadata": {
        "id": "iGhpQ2IhOdTL"
      },
      "source": [
        "####2.4.3.3 Top 10 hashtags used in Sentiment class 1 tweets"
      ]
    },
    {
      "cell_type": "code",
      "metadata": {
        "id": "vDRPW38aOWUo",
        "colab": {
          "base_uri": "https://localhost:8080/"
        },
        "outputId": "bd936966-91f6-4f54-f42e-5b7c49b56fd8"
      },
      "source": [
        "a = nltk.FreqDist(HT_train1)\n",
        "d = pd.DataFrame({'Hashtag': list(a.keys()),\n",
        "                  'Count': list(a.values())})\n",
        "\n",
        "# selecting top 20 most frequent hashtags     \n",
        "d = d.nlargest(columns=\"Count\", n = 10) \n",
        "plt.figure(figsize=(16,5))\n",
        "ax = sns.barplot(data=d, x= \"Hashtag\", y = \"Count\")\n",
        "ax.set(ylabel = 'Count')\n",
        "plt.show()"
      ],
      "execution_count": null,
      "outputs": [
        {
          "output_type": "display_data",
          "data": {
            "image/png": "[encoded data removed]",
            "text/plain": [
              "<Figure size 1152x360 with 1 Axes>"
            ]
          },
          "metadata": {
            "tags": []
          }
        }
      ]
    },
    {
      "cell_type": "code",
      "metadata": {
        "id": "41IDGXabOWRu",
        "colab": {
          "base_uri": "https://localhost:8080/"
        },
        "outputId": "535a0355-dd33-49e7-e93f-2c1e541761f3"
      },
      "source": [
        "#An example of a sentiment found within class 1 tweets\n",
        "ftrain[ftrain['sentiment'] == 1]['message'].iloc[89]"
      ],
      "execution_count": null,
      "outputs": [
        {
          "output_type": "execute_result",
          "data": {
            "application/vnd.google.colaboratory.intrinsic+json": {
              "type": "string"
            },
            "text/plain": [
              "'RT @AstroKatie: Governments of several world powers are failing us on climate change. We need to act without them if we want any hope for tÃ¢â‚¬Â¦'"
            ]
          },
          "metadata": {
            "tags": []
          },
          "execution_count": 40
        }
      ]
    },
    {
      "cell_type": "markdown",
      "metadata": {
        "id": "FBTaTbjNOw7l"
      },
      "source": [
        "The opinions on climate change in class 1 shift towards climate change does exist as the conversations in this class discuss a movie called Before the flood.The movie highlights the impact of climate change on the Earth.As well as using the hashtag  #ActOnClimate, the tweets associated with the hastag on Twitter mainly discuss ways to combat climate change (http://www.tweepy.net/hashtag/ActOnClimate). "
      ]
    },
    {
      "cell_type": "markdown",
      "metadata": {
        "id": "VB0Q2kAeO6fz"
      },
      "source": [
        "####2.4.3.4 Top 10 hashtags used in Sentiment class 2 tweets"
      ]
    },
    {
      "cell_type": "code",
      "metadata": {
        "id": "934Ic_fyLh-0",
        "colab": {
          "base_uri": "https://localhost:8080/"
        },
        "outputId": "c5935d7c-855d-44b1-a3c2-244f031e38c9"
      },
      "source": [
        "a = nltk.FreqDist(HT_train2)\n",
        "d = pd.DataFrame({'Hashtag': list(a.keys()),\n",
        "                  'Count': list(a.values())})\n",
        "\n",
        "# selecting top 20 most frequent hashtags     \n",
        "d = d.nlargest(columns=\"Count\", n = 10) \n",
        "plt.figure(figsize=(16,5))\n",
        "ax = sns.barplot(data=d, x= \"Hashtag\", y = \"Count\")\n",
        "ax.set(ylabel = 'Count')\n",
        "plt.show()"
      ],
      "execution_count": null,
      "outputs": [
        {
          "output_type": "display_data",
          "data": {
            "image/png": "[encoded data removed]",
            "text/plain": [
              "<Figure size 1152x360 with 1 Axes>"
            ]
          },
          "metadata": {
            "tags": []
          }
        }
      ]
    },
    {
      "cell_type": "code",
      "metadata": {
        "id": "DvxmuM3YO9qm",
        "colab": {
          "base_uri": "https://localhost:8080/"
        },
        "outputId": "68cd8b67-e2b3-40ef-d390-6f72b7bb91a5"
      },
      "source": [
        "#An example of a sentiment found within class 2 tweets\n",
        "ftrain[ftrain['sentiment'] == 2]['message'].iloc[1]"
      ],
      "execution_count": null,
      "outputs": [
        {
          "output_type": "execute_result",
          "data": {
            "application/vnd.google.colaboratory.intrinsic+json": {
              "type": "string"
            },
            "text/plain": [
              "'RT @tveitdal: We only have a 5 percent chance of avoiding ‘dangerous’ global warming, a study finds https://t.co/xUBTqNxhkK https://t.co/of…'"
            ]
          },
          "metadata": {
            "tags": []
          },
          "execution_count": 42
        }
      ]
    },
    {
      "cell_type": "markdown",
      "metadata": {
        "id": "EFmbsYdQPIzq"
      },
      "source": [
        "The opinions in class one mainly focus on the climate this is evident in the high hashtag count of the word #climate, the second highest is #enviroment .The class is mainly focused on informing people about climate change and its effect on the enviroment."
      ]
    },
    {
      "cell_type": "markdown",
      "metadata": {
        "id": "DUhf-Ot_PS41"
      },
      "source": [
        "#2.5 The key findings from the EDA\n",
        "\n",
        "* There are polarised views on climate change on twitter\n",
        "\n",
        "* Within the data there exists a class imbalance,this will be considered in the preprocessing and model training section\n",
        "\n",
        "* An analysis of the hashtags has shown that the tweets in class 1 believe in climate change,class 2 believe and inform people about climate change,class 0 are more neutral and tend to downplay the existence of climate change and class -1 do not believe that climate change exists.\n",
        "\n"
      ]
    },
    {
      "cell_type": "code",
      "metadata": {
        "id": "0Bqz5LRB4veN"
      },
      "source": [
        "#class_1 the PRO class\n",
        "#class 2 the NEWS class\n",
        "#class 0 NUETRAL class\n",
        "#class -1 the ANTI class"
      ],
      "execution_count": null,
      "outputs": []
    },
    {
      "cell_type": "markdown",
      "metadata": {
        "id": "xerdHT_VvHdd"
      },
      "source": [
        "# 3. Data Preprocessing"
      ]
    },
    {
      "cell_type": "markdown",
      "metadata": {
        "id": "8Jnqarig2sF1"
      },
      "source": [
        "Preprocessing involves the elimination of trivial or less informative data, which does not contribute to the sentiment classification. To understand the process of eliminating less informed data, it is important to understand what matters in sentiment analysis. Words are the most important part, however, when it comes to things like punctuation, you cannot get the sentiment from punctuation. Therefore, punctuation does not matter in sentiment analysis. In addition, tweet elements such as images, videos, URLs, usernames, emojis do not contribute to the polarity of the tweet (whether positive or negative). However, this is only true for machine learning models.\n",
        "\n",
        "**Techniques that we are going to use to clean our data**\n",
        "\n",
        "- Removing Noise\n",
        "- Stop Words\n",
        "- Tokenisation\n",
        "- Lemmatisation Normalization\n"
      ]
    },
    {
      "cell_type": "markdown",
      "metadata": {
        "id": "Eq16ZyIBzwUK"
      },
      "source": [
        "###3.1 Dealing with Class Imbalance - Resampling"
      ]
    },
    {
      "cell_type": "markdown",
      "metadata": {
        "id": "SBsButXczz2K"
      },
      "source": [
        "The EDA highlighted that there is a class imbalance within the data.In training classification model, it is preferable for all classes to have a relatively even split of observations. However, in the wild, classification datasets often come with unevenly distributed observations with one class or set of classes having way more observations than others.This will negatively affecting the accuracy score of the model. Therefore resampling is necessary before training a model with this data.\n",
        "\n",
        "Resampling methods aim at modifying the dataset in order to reduce the discrepancy among the sizes of the classes. In this regard, two scenarios are proposed: one that eliminates instances from the majority class - called undersampling, and one that generates instances for the minority class - called over-sampling. They both have there pros and cons.In other words, Both oversampling and undersampling involve introducing a bias to select more samples from one class than from another, to compensate for an imbalance that is either already present in the data, or likely to develop if a purely random sample were taken. Pykes mentined that \"the random oversampling may increase the likelihood of overfitting occurring since it makes exact copies of the minority class examples. In this way, a symbolic classifier, for instance, might construct rules that are apparently accurate, but actually cove one replicated example\" and “In random under-sampling (potentially), vast quantities of data are discarded. This can be highly problematic, as the loss of such data can make the decision boundary between the minority and majority instances harder to learn, resulting in a loss in classification performance.”"
      ]
    },
    {
      "cell_type": "code",
      "metadata": {
        "id": "eOfsLFt-1XI4",
        "colab": {
          "base_uri": "https://localhost:8080/"
        },
        "outputId": "4fe6107b-1b82-4123-9b0f-381af829e607"
      },
      "source": [
        "from IPython.display import Image\n",
        "Image('resampling.png', width=\"800\" ,height=\"400\")"
      ],
      "execution_count": null,
      "outputs": [
        {
          "output_type": "execute_result",
          "data": {
            "image/png": "[encoded data removed]",
            "text/plain": [
              "<IPython.core.display.Image object>"
            ]
          },
          "metadata": {
            "tags": [],
            "image/png": {
              "height": "400",
              "width": "800"
            }
          },
          "execution_count": 44
        }
      ]
    },
    {
      "cell_type": "markdown",
      "metadata": {
        "id": "7Xt62eZ5zan2"
      },
      "source": [
        "#### Combining Both Random Sampling Techniques\n",
        "\n",
        "Combining both random sampling methods can occasionally result in overall improved performance in comparison to the methods being performed in isolation. In this predict we will balance our data by using both methods oversampling and undersampling method. The class size is determined by the average of data points. If a class is less than the average the class will be upsampled and if the class is greater than the average, then the class will be downsampled."
      ]
    },
    {
      "cell_type": "code",
      "metadata": {
        "id": "ZYcv4I4F1-JK"
      },
      "source": [
        "def resambling(df):\n",
        "    \"\"\"\n",
        "        The functions takes in dataframe and resample the classses base on class size.\n",
        "        The class size is a average of the datasets among the classes.\n",
        "        This function resamples by downsampling classes with observations greater than the class size and\n",
        "        upsampling the classes with observations smaller than the class size.\n",
        "    \"\"\"\n",
        "    df = df.copy()\n",
        "    class_2 = df[df['sentiment'] == 2]  \n",
        "    class_1 = df[df['sentiment'] == 1]  \n",
        "    class_0 = df[df['sentiment'] == 0]  \n",
        "    class_n1 = df[df['sentiment'] == -1] \n",
        "    class_size = int((len(class_1)+len(class_2)+len(class_0)+len(class_n1))/4)\n",
        "    # Downsampling class_1 the PRO class\n",
        "    rclass_1 = resample(class_1, replace=True, n_samples=class_size, random_state=42)\n",
        "    #upsampling class 2 the NEWS class\n",
        "    rclass_2 = resample(class_2, replace=True, n_samples=class_size, random_state=42)\n",
        "    #upsampling class 0 NUETRAL class\n",
        "    rclass_0 = resample(class_0, replace=True, n_samples=class_size, random_state=42)\n",
        "    #upsampling class -1 the ANTI class\n",
        "    rclass_n1 = resample(class_n1, replace=True, n_samples=class_size, random_state=42)\n",
        "    sampled_df = pd.concat([rclass_2, rclass_1, rclass_0, rclass_n1])\n",
        "    \n",
        "    return sampled_df"
      ],
      "execution_count": null,
      "outputs": []
    },
    {
      "cell_type": "code",
      "metadata": {
        "id": "DAVI62kV2Cwb"
      },
      "source": [
        "Resampled_train_df = resambling(ftrain)"
      ],
      "execution_count": null,
      "outputs": []
    },
    {
      "cell_type": "code",
      "metadata": {
        "id": "H3NWdLVk2UPO",
        "colab": {
          "base_uri": "https://localhost:8080/"
        },
        "outputId": "4480eeec-234e-4509-88b2-3b4c65a03be9"
      },
      "source": [
        "news=Resampled_train_df[Resampled_train_df.sentiment == 2].shape[0]\n",
        "pro =Resampled_train_df[Resampled_train_df.sentiment == 1].shape[0]\n",
        "neutral=Resampled_train_df[Resampled_train_df.sentiment == 0].shape[0]\n",
        "anti =Resampled_train_df[Resampled_train_df.sentiment == -1].shape[0]\n",
        "#visualising\n",
        "plt.figure(1,figsize=(14,8))\n",
        "plt.bar([\"News\", \"Pro\", \"Neutral\" , \"Anti\"],[news, pro, neutral , anti])\n",
        "plt.xlabel('Tweet_class')\n",
        "plt.ylabel('Sentiment counts')\n",
        "plt.title('Class Distributions')\n",
        "plt.show()"
      ],
      "execution_count": null,
      "outputs": [
        {
          "output_type": "display_data",
          "data": {
            "image/png": "[encoded data removed]",
            "text/plain": [
              "<Figure size 1008x576 with 1 Axes>"
            ]
          },
          "metadata": {
            "tags": []
          }
        }
      ]
    },
    {
      "cell_type": "markdown",
      "metadata": {
        "id": "AKjsH0rT2egv"
      },
      "source": [
        "## 3.2 Text Cleaning"
      ]
    },
    {
      "cell_type": "markdown",
      "metadata": {
        "id": "rg-g1_Sl3Bh4"
      },
      "source": [
        "Before we begin with data cleaning we created copies of the dataframe which allows us to make some changes without changing the original dataframe"
      ]
    },
    {
      "cell_type": "code",
      "metadata": {
        "id": "ruYPcQf73JBl"
      },
      "source": [
        "# Creating copies of dataframes\n",
        "train_copy = Resampled_train_df.copy()\n",
        "test_copy = ftest.copy()"
      ],
      "execution_count": null,
      "outputs": []
    },
    {
      "cell_type": "markdown",
      "metadata": {
        "id": "bEoxaWkX3N6Z"
      },
      "source": [
        "### 3.2.1 Removing Noise"
      ]
    },
    {
      "cell_type": "markdown",
      "metadata": {
        "id": "HlMOeIN03TeB"
      },
      "source": [
        "In text analysis, eliminating noise  is the most important part of getting the data into usable format. \n",
        "\n",
        "We will remove noise with the foolllowing steps.\n",
        "- Convert letters to lowercases\n",
        "- Remove URL links \n",
        "- Remove hashtag/numbers\n",
        "- Remove punctuation"
      ]
    },
    {
      "cell_type": "code",
      "metadata": {
        "id": "PRvQUpWO3bCV"
      },
      "source": [
        "def cleaner(tweet):\n",
        "    \"\"\"\n",
        "    this function takes in a dataframe and perform the following:\n",
        "    -Convert letters to lowercases\n",
        "    -remove URL links\n",
        "    -remove # from hashtags\n",
        "    -remove numbers\n",
        "    -remove punctuation\n",
        "    from the text field then return a clean dataframe \n",
        "    \"\"\"\n",
        "    tweet = tweet.lower()\n",
        "    to_del = [\n",
        "        r\"@[\\w]*\",  # strip account mentions\n",
        "        r\"http(s?):\\/\\/.*\\/\\w*\",  # strip URLs\n",
        "        r\"#\\w*\",  # strip hashtags\n",
        "        r\"\\d+\",  # delete numeric values\n",
        "        r\"U+FFFD\",  # remove the \"character note present\" diamond\n",
        "    ]\n",
        "    for key in to_del:\n",
        "        tweet = re.sub(key, \"\", tweet)\n",
        "    \n",
        "    # strip punctuation and special characters\n",
        "    tweet = re.sub(r\"[,.;':@#?!\\&/$]+\\ *\", \" \", tweet)\n",
        "    # strip excess white-space\n",
        "    tweet = re.sub(r\"\\s\\s+\", \" \", tweet)\n",
        "    \n",
        "    return tweet.lstrip(\" \")"
      ],
      "execution_count": null,
      "outputs": []
    },
    {
      "cell_type": "code",
      "metadata": {
        "id": "egceRwED3goZ"
      },
      "source": [
        "train_copy['message'] = train_copy['message'].apply(cleaner)"
      ],
      "execution_count": null,
      "outputs": []
    },
    {
      "cell_type": "code",
      "metadata": {
        "id": "0_hcAAD23lzt",
        "colab": {
          "base_uri": "https://localhost:8080/",
          "height": 204
        },
        "outputId": "b26f1e66-0a68-45a9-8e26-422197a0fbe3"
      },
      "source": [
        "train_copy.tail(5)"
      ],
      "execution_count": null,
      "outputs": [
        {
          "output_type": "execute_result",
          "data": {
            "text/html": [
              "<div>\n",
              "<style scoped>\n",
              "    .dataframe tbody tr th:only-of-type {\n",
              "        vertical-align: middle;\n",
              "    }\n",
              "\n",
              "    .dataframe tbody tr th {\n",
              "        vertical-align: top;\n",
              "    }\n",
              "\n",
              "    .dataframe thead th {\n",
              "        text-align: right;\n",
              "    }\n",
              "</style>\n",
              "<table border=\"1\" class=\"dataframe\">\n",
              "  <thead>\n",
              "    <tr style=\"text-align: right;\">\n",
              "      <th></th>\n",
              "      <th>sentiment</th>\n",
              "      <th>message</th>\n",
              "      <th>tweetid</th>\n",
              "      <th>length</th>\n",
              "    </tr>\n",
              "  </thead>\n",
              "  <tbody>\n",
              "    <tr>\n",
              "      <th>8465</th>\n",
              "      <td>-1</td>\n",
              "      <td>rt the trump administration just disbanded a u...</td>\n",
              "      <td>186714</td>\n",
              "      <td>140</td>\n",
              "    </tr>\n",
              "    <tr>\n",
              "      <th>5083</th>\n",
              "      <td>-1</td>\n",
              "      <td>rt why would a political scientist noam chomsk...</td>\n",
              "      <td>95774</td>\n",
              "      <td>145</td>\n",
              "    </tr>\n",
              "    <tr>\n",
              "      <th>15460</th>\n",
              "      <td>-1</td>\n",
              "      <td>science-fiction personality preaches a fearful...</td>\n",
              "      <td>726028</td>\n",
              "      <td>132</td>\n",
              "    </tr>\n",
              "    <tr>\n",
              "      <th>1182</th>\n",
              "      <td>-1</td>\n",
              "      <td>rt a bunch of oxford elitists want to tax the ...</td>\n",
              "      <td>19105</td>\n",
              "      <td>146</td>\n",
              "    </tr>\n",
              "    <tr>\n",
              "      <th>815</th>\n",
              "      <td>-1</td>\n",
              "      <td>freezing -c tonight whens global warming comin...</td>\n",
              "      <td>477360</td>\n",
              "      <td>56</td>\n",
              "    </tr>\n",
              "  </tbody>\n",
              "</table>\n",
              "</div>"
            ],
            "text/plain": [
              "       sentiment  ... length\n",
              "8465          -1  ...    140\n",
              "5083          -1  ...    145\n",
              "15460         -1  ...    132\n",
              "1182          -1  ...    146\n",
              "815           -1  ...     56\n",
              "\n",
              "[5 rows x 4 columns]"
            ]
          },
          "metadata": {
            "tags": []
          },
          "execution_count": 51
        }
      ]
    },
    {
      "cell_type": "markdown",
      "metadata": {
        "id": "apVDSCWY3tLP"
      },
      "source": [
        "### 3.2.2 Removing Stop Words"
      ]
    },
    {
      "cell_type": "markdown",
      "metadata": {
        "id": "KgKzoRKg30pv"
      },
      "source": [
        "The stop words are the most common words like \"if\", \"but\", \"we\", \"he\", \"she\" and \"she\". We can usually remove these words without changing the semantics of any text, and doing so often (but not always) improves the performance of a model. Removing these stop words becomes much more useful when we use longer sequences of words as model features."
      ]
    },
    {
      "cell_type": "code",
      "metadata": {
        "id": "Njd_PaB535b3"
      },
      "source": [
        "stop_word = stopwords.words('english')\n",
        "train_copy['message'] = train_copy['message'].apply(lambda x: ' '.join([word for word in x.split() if word not in (stop_word)]))"
      ],
      "execution_count": null,
      "outputs": []
    },
    {
      "cell_type": "code",
      "metadata": {
        "id": "VyAgeBRn4RAj",
        "colab": {
          "base_uri": "https://localhost:8080/",
          "height": 204
        },
        "outputId": "66b6f518-7c62-4274-8158-80d63288826e"
      },
      "source": [
        "train_copy.head(5)"
      ],
      "execution_count": null,
      "outputs": [
        {
          "output_type": "execute_result",
          "data": {
            "text/html": [
              "<div>\n",
              "<style scoped>\n",
              "    .dataframe tbody tr th:only-of-type {\n",
              "        vertical-align: middle;\n",
              "    }\n",
              "\n",
              "    .dataframe tbody tr th {\n",
              "        vertical-align: top;\n",
              "    }\n",
              "\n",
              "    .dataframe thead th {\n",
              "        text-align: right;\n",
              "    }\n",
              "</style>\n",
              "<table border=\"1\" class=\"dataframe\">\n",
              "  <thead>\n",
              "    <tr style=\"text-align: right;\">\n",
              "      <th></th>\n",
              "      <th>sentiment</th>\n",
              "      <th>message</th>\n",
              "      <th>tweetid</th>\n",
              "      <th>length</th>\n",
              "    </tr>\n",
              "  </thead>\n",
              "  <tbody>\n",
              "    <tr>\n",
              "      <th>13776</th>\n",
              "      <td>2</td>\n",
              "      <td>rt europe faces droughts floods storms change ...</td>\n",
              "      <td>849649</td>\n",
              "      <td>124</td>\n",
              "    </tr>\n",
              "    <tr>\n",
              "      <th>15247</th>\n",
              "      <td>2</td>\n",
              "      <td>el nino warming planet may sparked zika epidem...</td>\n",
              "      <td>610545</td>\n",
              "      <td>127</td>\n",
              "    </tr>\n",
              "    <tr>\n",
              "      <th>3533</th>\n",
              "      <td>2</td>\n",
              "      <td>rt trump says keeping open mind climate change...</td>\n",
              "      <td>625516</td>\n",
              "      <td>140</td>\n",
              "    </tr>\n",
              "    <tr>\n",
              "      <th>5570</th>\n",
              "      <td>2</td>\n",
              "      <td>rt sierra club calls investigation epa head cl...</td>\n",
              "      <td>86301</td>\n",
              "      <td>137</td>\n",
              "    </tr>\n",
              "    <tr>\n",
              "      <th>4824</th>\n",
              "      <td>2</td>\n",
              "      <td>tackling climate change boost economic growth ...</td>\n",
              "      <td>291460</td>\n",
              "      <td>85</td>\n",
              "    </tr>\n",
              "  </tbody>\n",
              "</table>\n",
              "</div>"
            ],
            "text/plain": [
              "       sentiment  ... length\n",
              "13776          2  ...    124\n",
              "15247          2  ...    127\n",
              "3533           2  ...    140\n",
              "5570           2  ...    137\n",
              "4824           2  ...     85\n",
              "\n",
              "[5 rows x 4 columns]"
            ]
          },
          "metadata": {
            "tags": []
          },
          "execution_count": 53
        }
      ]
    },
    {
      "cell_type": "markdown",
      "metadata": {
        "id": "VQ3GtjbA4Vqg"
      },
      "source": [
        "### 3.2.3 Tokenisation"
      ]
    },
    {
      "cell_type": "markdown",
      "metadata": {
        "id": "Vcb6caTV4ioO"
      },
      "source": [
        "Tokenization is a process of breaking the raw text into small chunks. Tokenization breaks the raw text into words, sentences called tokens. A token is a piece of a whole, so a word is a token in a sentence, and a sentence is a token in a paragraph. Tokenization is the process of splitting a string into a list of tokens. These tokens help in understanding the context or developing the model for the NLP. The tokenization helps in interpreting the meaning of the text by analyzing the sequence of the words. For example, the text “It is raining” can be tokenized into ‘It’, ‘is’, ‘raining’"
      ]
    },
    {
      "cell_type": "code",
      "metadata": {
        "id": "SS4OmdeG4jEG"
      },
      "source": [
        "tokeniser = TreebankWordTokenizer()\n",
        "train_copy['tokens'] = train_copy['message'].apply(tokeniser.tokenize)"
      ],
      "execution_count": null,
      "outputs": []
    },
    {
      "cell_type": "code",
      "metadata": {
        "id": "Niqnn0xL5Hvr",
        "colab": {
          "base_uri": "https://localhost:8080/",
          "height": 204
        },
        "outputId": "27604db1-b3ac-40d3-ad91-6f7dda163b20"
      },
      "source": [
        "train_copy.head(5)"
      ],
      "execution_count": null,
      "outputs": [
        {
          "output_type": "execute_result",
          "data": {
            "text/html": [
              "<div>\n",
              "<style scoped>\n",
              "    .dataframe tbody tr th:only-of-type {\n",
              "        vertical-align: middle;\n",
              "    }\n",
              "\n",
              "    .dataframe tbody tr th {\n",
              "        vertical-align: top;\n",
              "    }\n",
              "\n",
              "    .dataframe thead th {\n",
              "        text-align: right;\n",
              "    }\n",
              "</style>\n",
              "<table border=\"1\" class=\"dataframe\">\n",
              "  <thead>\n",
              "    <tr style=\"text-align: right;\">\n",
              "      <th></th>\n",
              "      <th>sentiment</th>\n",
              "      <th>message</th>\n",
              "      <th>tweetid</th>\n",
              "      <th>length</th>\n",
              "      <th>tokens</th>\n",
              "    </tr>\n",
              "  </thead>\n",
              "  <tbody>\n",
              "    <tr>\n",
              "      <th>13776</th>\n",
              "      <td>2</td>\n",
              "      <td>rt europe faces droughts floods storms change ...</td>\n",
              "      <td>849649</td>\n",
              "      <td>124</td>\n",
              "      <td>[rt, europe, faces, droughts, floods, storms, ...</td>\n",
              "    </tr>\n",
              "    <tr>\n",
              "      <th>15247</th>\n",
              "      <td>2</td>\n",
              "      <td>el nino warming planet may sparked zika epidem...</td>\n",
              "      <td>610545</td>\n",
              "      <td>127</td>\n",
              "      <td>[el, nino, warming, planet, may, sparked, zika...</td>\n",
              "    </tr>\n",
              "    <tr>\n",
              "      <th>3533</th>\n",
              "      <td>2</td>\n",
              "      <td>rt trump says keeping open mind climate change...</td>\n",
              "      <td>625516</td>\n",
              "      <td>140</td>\n",
              "      <td>[rt, trump, says, keeping, open, mind, climate...</td>\n",
              "    </tr>\n",
              "    <tr>\n",
              "      <th>5570</th>\n",
              "      <td>2</td>\n",
              "      <td>rt sierra club calls investigation epa head cl...</td>\n",
              "      <td>86301</td>\n",
              "      <td>137</td>\n",
              "      <td>[rt, sierra, club, calls, investigation, epa, ...</td>\n",
              "    </tr>\n",
              "    <tr>\n",
              "      <th>4824</th>\n",
              "      <td>2</td>\n",
              "      <td>tackling climate change boost economic growth ...</td>\n",
              "      <td>291460</td>\n",
              "      <td>85</td>\n",
              "      <td>[tackling, climate, change, boost, economic, g...</td>\n",
              "    </tr>\n",
              "  </tbody>\n",
              "</table>\n",
              "</div>"
            ],
            "text/plain": [
              "       sentiment  ...                                             tokens\n",
              "13776          2  ...  [rt, europe, faces, droughts, floods, storms, ...\n",
              "15247          2  ...  [el, nino, warming, planet, may, sparked, zika...\n",
              "3533           2  ...  [rt, trump, says, keeping, open, mind, climate...\n",
              "5570           2  ...  [rt, sierra, club, calls, investigation, epa, ...\n",
              "4824           2  ...  [tackling, climate, change, boost, economic, g...\n",
              "\n",
              "[5 rows x 5 columns]"
            ]
          },
          "metadata": {
            "tags": []
          },
          "execution_count": 55
        }
      ]
    },
    {
      "cell_type": "markdown",
      "metadata": {
        "id": "BFeagrYM5NJi"
      },
      "source": [
        "### 3.2.4 Lemmatisation"
      ]
    },
    {
      "cell_type": "markdown",
      "metadata": {
        "id": "3jSaznU-5Uje"
      },
      "source": [
        ""
      ]
    },
    {
      "cell_type": "code",
      "metadata": {
        "id": "DcERO-P65VHJ"
      },
      "source": [
        "def lemmas(words, lemmatizer):\n",
        "    return [lemmatizer.lemmatize(word) for word in words]"
      ],
      "execution_count": null,
      "outputs": []
    },
    {
      "cell_type": "code",
      "metadata": {
        "id": "QHvWOuaC5Z7C"
      },
      "source": [
        "lemmatizer = WordNetLemmatizer()\n",
        "train_copy['lemma'] = train_copy['tokens'].apply(lemmas, args=(lemmatizer, ))"
      ],
      "execution_count": null,
      "outputs": []
    },
    {
      "cell_type": "code",
      "metadata": {
        "id": "Vdcs3ifI5j9-",
        "colab": {
          "base_uri": "https://localhost:8080/",
          "height": 289
        },
        "outputId": "d1eb1fe4-3103-46bf-f771-6fe8c7bf917e"
      },
      "source": [
        "train_copy.head(5)"
      ],
      "execution_count": null,
      "outputs": [
        {
          "output_type": "execute_result",
          "data": {
            "text/html": [
              "<div>\n",
              "<style scoped>\n",
              "    .dataframe tbody tr th:only-of-type {\n",
              "        vertical-align: middle;\n",
              "    }\n",
              "\n",
              "    .dataframe tbody tr th {\n",
              "        vertical-align: top;\n",
              "    }\n",
              "\n",
              "    .dataframe thead th {\n",
              "        text-align: right;\n",
              "    }\n",
              "</style>\n",
              "<table border=\"1\" class=\"dataframe\">\n",
              "  <thead>\n",
              "    <tr style=\"text-align: right;\">\n",
              "      <th></th>\n",
              "      <th>sentiment</th>\n",
              "      <th>message</th>\n",
              "      <th>tweetid</th>\n",
              "      <th>length</th>\n",
              "      <th>tokens</th>\n",
              "      <th>lemma</th>\n",
              "    </tr>\n",
              "  </thead>\n",
              "  <tbody>\n",
              "    <tr>\n",
              "      <th>13776</th>\n",
              "      <td>2</td>\n",
              "      <td>rt europe faces droughts floods storms change ...</td>\n",
              "      <td>849649</td>\n",
              "      <td>124</td>\n",
              "      <td>[rt, europe, faces, droughts, floods, storms, ...</td>\n",
              "      <td>[rt, europe, face, drought, flood, storm, chan...</td>\n",
              "    </tr>\n",
              "    <tr>\n",
              "      <th>15247</th>\n",
              "      <td>2</td>\n",
              "      <td>el nino warming planet may sparked zika epidem...</td>\n",
              "      <td>610545</td>\n",
              "      <td>127</td>\n",
              "      <td>[el, nino, warming, planet, may, sparked, zika...</td>\n",
              "      <td>[el, nino, warming, planet, may, sparked, zika...</td>\n",
              "    </tr>\n",
              "    <tr>\n",
              "      <th>3533</th>\n",
              "      <td>2</td>\n",
              "      <td>rt trump says keeping open mind climate change...</td>\n",
              "      <td>625516</td>\n",
              "      <td>140</td>\n",
              "      <td>[rt, trump, says, keeping, open, mind, climate...</td>\n",
              "      <td>[rt, trump, say, keeping, open, mind, climate,...</td>\n",
              "    </tr>\n",
              "    <tr>\n",
              "      <th>5570</th>\n",
              "      <td>2</td>\n",
              "      <td>rt sierra club calls investigation epa head cl...</td>\n",
              "      <td>86301</td>\n",
              "      <td>137</td>\n",
              "      <td>[rt, sierra, club, calls, investigation, epa, ...</td>\n",
              "      <td>[rt, sierra, club, call, investigation, epa, h...</td>\n",
              "    </tr>\n",
              "    <tr>\n",
              "      <th>4824</th>\n",
              "      <td>2</td>\n",
              "      <td>tackling climate change boost economic growth ...</td>\n",
              "      <td>291460</td>\n",
              "      <td>85</td>\n",
              "      <td>[tackling, climate, change, boost, economic, g...</td>\n",
              "      <td>[tackling, climate, change, boost, economic, g...</td>\n",
              "    </tr>\n",
              "  </tbody>\n",
              "</table>\n",
              "</div>"
            ],
            "text/plain": [
              "       sentiment  ...                                              lemma\n",
              "13776          2  ...  [rt, europe, face, drought, flood, storm, chan...\n",
              "15247          2  ...  [el, nino, warming, planet, may, sparked, zika...\n",
              "3533           2  ...  [rt, trump, say, keeping, open, mind, climate,...\n",
              "5570           2  ...  [rt, sierra, club, call, investigation, epa, h...\n",
              "4824           2  ...  [tackling, climate, change, boost, economic, g...\n",
              "\n",
              "[5 rows x 6 columns]"
            ]
          },
          "metadata": {
            "tags": []
          },
          "execution_count": 58
        }
      ]
    },
    {
      "cell_type": "markdown",
      "metadata": {
        "id": "ycqTHfIE54-B"
      },
      "source": [
        "# 4. Text Feature Extraction"
      ]
    },
    {
      "cell_type": "markdown",
      "metadata": {
        "id": "L0BYFdwO6GjV"
      },
      "source": [
        "## 4.1 Bag of words"
      ]
    },
    {
      "cell_type": "markdown",
      "metadata": {
        "id": "f-yl_Wli6KyP"
      },
      "source": [
        "The simplest way to transform text documents into numerical data, known as Bag of Words, is to consider a number of features equal to the number of words in the corpus. Then, for each document, the value of each feature is given by the number of occurrences of that word within the current document."
      ]
    },
    {
      "cell_type": "markdown",
      "metadata": {
        "id": "sUrv387h5JqQ"
      },
      "source": [
        "## 4.2 Count Vector / TfidfVectorizer"
      ]
    },
    {
      "cell_type": "markdown",
      "metadata": {
        "id": "GgEhJNjzvHe0"
      },
      "source": [
        "# 5. Model Building"
      ]
    },
    {
      "cell_type": "markdown",
      "metadata": {
        "id": "AnvzoMhUvHeI"
      },
      "source": [
        "## 5.1 Splitting out the X variable from the target"
      ]
    },
    {
      "cell_type": "code",
      "metadata": {
        "id": "01FTpYY2vHeK",
        "colab": {
          "base_uri": "https://localhost:8080/"
        },
        "outputId": "85be3a6a-4983-42a2-f5f9-640994c95066"
      },
      "source": [
        "train_copy.sentiment.value_counts()"
      ],
      "execution_count": null,
      "outputs": [
        {
          "output_type": "execute_result",
          "data": {
            "text/plain": [
              "-1    3954\n",
              " 2    3954\n",
              " 1    3954\n",
              " 0    3954\n",
              "Name: sentiment, dtype: int64"
            ]
          },
          "metadata": {
            "tags": []
          },
          "execution_count": 77
        }
      ]
    },
    {
      "cell_type": "code",
      "metadata": {
        "id": "roGRykj4vHed"
      },
      "source": [
        "y = train_copy['sentiment']\n",
        "X = train_copy['message']"
      ],
      "execution_count": null,
      "outputs": []
    },
    {
      "cell_type": "markdown",
      "metadata": {
        "id": "hG6vPmy7vHe1"
      },
      "source": [
        "## 5.2 Data tranformation with TfidfVectorizer"
      ]
    },
    {
      "cell_type": "code",
      "metadata": {
        "id": "2ZPfrW4lvHe3"
      },
      "source": [
        "vectorizer = TfidfVectorizer(ngram_range=(1,2), min_df=2, stop_words=\"english\")\n",
        "X_vectorized = vectorizer.fit_transform(X)"
      ],
      "execution_count": null,
      "outputs": []
    },
    {
      "cell_type": "markdown",
      "metadata": {
        "id": "ttE8B7H8vHe9"
      },
      "source": [
        "### 4.2 Splitting the training data into a training and validation set"
      ]
    },
    {
      "cell_type": "code",
      "metadata": {
        "id": "HJ80p_UhvHe-"
      },
      "source": [
        "X_train,X_val,y_train,y_val = train_test_split(X_vectorized,y,test_size=.3,shuffle=True, stratify=y, random_state=11)"
      ],
      "execution_count": null,
      "outputs": []
    },
    {
      "cell_type": "markdown",
      "metadata": {
        "id": "2Nq3QeodvHfF"
      },
      "source": [
        "### 4.3 Model Fitting"
      ]
    },
    {
      "cell_type": "markdown",
      "metadata": {
        "id": "XqEMw16GvHfG"
      },
      "source": [
        "### 4.3.1 Random Forest Classifier"
      ]
    },
    {
      "cell_type": "code",
      "metadata": {
        "id": "FccD-MQ7vHfH"
      },
      "source": [
        "rfc = RandomForestClassifier(n_estimators=100,random_state=42)\n",
        "rfc.fit(X_train, y_train)"
      ],
      "execution_count": null,
      "outputs": []
    },
    {
      "cell_type": "markdown",
      "metadata": {
        "id": "B61VremgvHfR"
      },
      "source": [
        "### 4.3.2 Logistic Classifier"
      ]
    },
    {
      "cell_type": "code",
      "metadata": {
        "id": "FDmzkmUbvHfT"
      },
      "source": [
        "lmc = LogisticRegression(solver = 'lbfgs')\n",
        "lmc.fit(X_train, y_train)"
      ],
      "execution_count": null,
      "outputs": []
    },
    {
      "cell_type": "markdown",
      "metadata": {
        "id": "KEDpHO4EvHfb"
      },
      "source": [
        "### 4.3.3 Decision Tree Classifier"
      ]
    },
    {
      "cell_type": "code",
      "metadata": {
        "id": "zb2iv6ekvHfc"
      },
      "source": [
        "dtc = DecisionTreeClassifier(random_state=42)"
      ],
      "execution_count": null,
      "outputs": []
    },
    {
      "cell_type": "code",
      "metadata": {
        "id": "DrZdal8wvHfh"
      },
      "source": [
        "dtc.fit(X_train, y_train)"
      ],
      "execution_count": null,
      "outputs": []
    },
    {
      "cell_type": "markdown",
      "metadata": {
        "id": "6hASkYZ9vHfs"
      },
      "source": [
        "### 4.3.4 Support vector machine Classifier"
      ]
    },
    {
      "cell_type": "code",
      "metadata": {
        "id": "ouXPKZtavHfu"
      },
      "source": [
        "svc = SVC(kernel='linear')\n",
        "svc.fit(X_train, y_train)"
      ],
      "execution_count": null,
      "outputs": []
    },
    {
      "cell_type": "markdown",
      "metadata": {
        "id": "ceQYTuVKvHf1"
      },
      "source": [
        "# 5. Model Evaluation"
      ]
    },
    {
      "cell_type": "markdown",
      "metadata": {
        "id": "nqYlpsrUvHf3"
      },
      "source": [
        "## 5.1 Model evaluation using validation data"
      ]
    },
    {
      "cell_type": "markdown",
      "metadata": {
        "id": "iRUKwer1vHf4"
      },
      "source": [
        "### 5.1.1 Random Forest Classifier"
      ]
    },
    {
      "cell_type": "code",
      "metadata": {
        "id": "sjrDdctPvHf5"
      },
      "source": [
        "rfc_pred = rfc.predict(X_val)"
      ],
      "execution_count": null,
      "outputs": []
    },
    {
      "cell_type": "markdown",
      "metadata": {
        "id": "UdD8_ToUvHf9"
      },
      "source": [
        "### 5.1.2 Logistic Classifier"
      ]
    },
    {
      "cell_type": "code",
      "metadata": {
        "id": "2mYQnpD7vHf-",
        "colab": {
          "background_save": true
        }
      },
      "source": [
        "lmc_pred = lmc.predict(X_val)"
      ],
      "execution_count": null,
      "outputs": []
    },
    {
      "cell_type": "markdown",
      "metadata": {
        "id": "loUn8UWSvHgD"
      },
      "source": [
        "### 5.1.3 Decision Tree Classifier"
      ]
    },
    {
      "cell_type": "code",
      "metadata": {
        "id": "97v1lwexvHgG",
        "colab": {
          "background_save": true
        }
      },
      "source": [
        "dtc_pred = dtc.predict(X_val)"
      ],
      "execution_count": null,
      "outputs": []
    },
    {
      "cell_type": "markdown",
      "metadata": {
        "id": "rfxK90-xvHgN"
      },
      "source": [
        "### 5.1.4 Support vector machine Classifier"
      ]
    },
    {
      "cell_type": "code",
      "metadata": {
        "id": "tHKViV5PvHgP",
        "colab": {
          "background_save": true
        }
      },
      "source": [
        "svc_pred = svc.predict(X_val)"
      ],
      "execution_count": null,
      "outputs": []
    },
    {
      "cell_type": "markdown",
      "metadata": {
        "id": "Re7Ki9-1vHgW"
      },
      "source": [
        "## 5.2 Model evaluation using test data"
      ]
    },
    {
      "cell_type": "markdown",
      "metadata": {
        "id": "-I9bNlljvHgY"
      },
      "source": [
        "## 5.2.1 Data tranformation with Vectorizer"
      ]
    },
    {
      "cell_type": "code",
      "metadata": {
        "id": "xMYnQS1BvHgZ",
        "colab": {
          "background_save": true
        }
      },
      "source": [
        "testx = test_copy['message']\n",
        "test_vect = vectorizer.transform(testx)"
      ],
      "execution_count": null,
      "outputs": []
    },
    {
      "cell_type": "markdown",
      "metadata": {
        "id": "zdbWecTxvHge"
      },
      "source": [
        "## 5.2.2 Making predictions on the test set "
      ]
    },
    {
      "cell_type": "markdown",
      "metadata": {
        "id": "GsGQAqVbvHgg"
      },
      "source": [
        "### 5.2.1 Random Forest Classifier"
      ]
    },
    {
      "cell_type": "code",
      "metadata": {
        "id": "Lx6SVzDSvHgh",
        "colab": {
          "background_save": true
        }
      },
      "source": [
        "rfc_pred_t = rfc.predict(test_vect)"
      ],
      "execution_count": null,
      "outputs": []
    },
    {
      "cell_type": "markdown",
      "metadata": {
        "id": "5BF09nfkvHgn"
      },
      "source": [
        "### 5.2.2 Logistic Classifier"
      ]
    },
    {
      "cell_type": "code",
      "metadata": {
        "id": "W3VQxr8avHgp",
        "colab": {
          "background_save": true
        }
      },
      "source": [
        "lmc_pred_t = lmc.predict(test_vect)"
      ],
      "execution_count": null,
      "outputs": []
    },
    {
      "cell_type": "markdown",
      "metadata": {
        "id": "5-SxUovZvHgu"
      },
      "source": [
        "### 5.2.3 Decision Tree Classifier"
      ]
    },
    {
      "cell_type": "code",
      "metadata": {
        "id": "pzHM_XTsvHgw",
        "colab": {
          "background_save": true
        }
      },
      "source": [
        "dtc_pred_t = dtc.predict(test_vect)"
      ],
      "execution_count": null,
      "outputs": []
    },
    {
      "cell_type": "markdown",
      "metadata": {
        "id": "9zhYv63LvHg2"
      },
      "source": [
        "### 5.2.4 Support vector machine Classifier"
      ]
    },
    {
      "cell_type": "code",
      "metadata": {
        "id": "ivYdQBstvHg6",
        "colab": {
          "background_save": true
        }
      },
      "source": [
        "svc_pred_t = svc.predict(test_vect)"
      ],
      "execution_count": null,
      "outputs": []
    },
    {
      "cell_type": "markdown",
      "metadata": {
        "id": "8FDg47VjvHhB"
      },
      "source": [
        "# 6. Model Analysis"
      ]
    },
    {
      "cell_type": "markdown",
      "metadata": {
        "id": "Chfh9kfQvHhC"
      },
      "source": [
        "## 6.1 Confusion Matrix"
      ]
    },
    {
      "cell_type": "markdown",
      "metadata": {
        "id": "74ti6yggvHhD"
      },
      "source": [
        "### 6.1.1 Random Forest Classifier"
      ]
    },
    {
      "cell_type": "code",
      "metadata": {
        "id": "UNRu224zvHhE"
      },
      "source": [
        "labels = [-1, 0,1,2]\n",
        "\n",
        "pd.DataFrame(data=confusion_matrix(y_val, rfc_pred), index=labels, columns=labels)"
      ],
      "execution_count": null,
      "outputs": []
    },
    {
      "cell_type": "markdown",
      "metadata": {
        "id": "kJFygv9avHhM"
      },
      "source": [
        "### 6.1.2 Logistic Classifier"
      ]
    },
    {
      "cell_type": "code",
      "metadata": {
        "id": "qzycMsDsvHhO"
      },
      "source": [
        "labels = [-1, 0,1,2]\n",
        "\n",
        "pd.DataFrame(data=confusion_matrix(y_val, lmc_pred), index=labels, columns=labels)"
      ],
      "execution_count": null,
      "outputs": []
    },
    {
      "cell_type": "markdown",
      "metadata": {
        "id": "3MvNAQG8vHhV"
      },
      "source": [
        "### 6.1.3 Decision Tree Classifier"
      ]
    },
    {
      "cell_type": "code",
      "metadata": {
        "id": "TaEf9LuEvHhV"
      },
      "source": [
        "labels = [-1, 0,1,2]\n",
        "\n",
        "pd.DataFrame(data=confusion_matrix(y_val, dtc_pred), index=labels, columns=labels)"
      ],
      "execution_count": null,
      "outputs": []
    },
    {
      "cell_type": "markdown",
      "metadata": {
        "id": "L34s06k7vHhb"
      },
      "source": [
        "### 6.1.4 Support vector machine Classifier"
      ]
    },
    {
      "cell_type": "code",
      "metadata": {
        "id": "Vps5V6q4vHhc"
      },
      "source": [
        "labels = [-1, 0,1,2]\n",
        "\n",
        "pd.DataFrame(data=confusion_matrix(y_val, svc_pred), index=labels, columns=labels)"
      ],
      "execution_count": null,
      "outputs": []
    },
    {
      "cell_type": "markdown",
      "metadata": {
        "id": "Z_NgE8TvvHhk"
      },
      "source": [
        "## 6.2 Classification Report"
      ]
    },
    {
      "cell_type": "markdown",
      "metadata": {
        "id": "h3HSRmkUvHhl"
      },
      "source": [
        "### 6.2.1 Random Forest Classifier"
      ]
    },
    {
      "cell_type": "code",
      "metadata": {
        "id": "hhHppCmZvHhn",
        "scrolled": true
      },
      "source": [
        "print(classification_report(y_val, rfc_pred, target_names=['Anti', 'Nuetral','Pro','News']))"
      ],
      "execution_count": null,
      "outputs": []
    },
    {
      "cell_type": "markdown",
      "metadata": {
        "id": "vJyDcxZVvHhv"
      },
      "source": [
        "### 6.2.2 Logistic Classifier"
      ]
    },
    {
      "cell_type": "code",
      "metadata": {
        "id": "2y1KjFJgvHhv"
      },
      "source": [
        "print(classification_report(y_val, lmc_pred))"
      ],
      "execution_count": null,
      "outputs": []
    },
    {
      "cell_type": "markdown",
      "metadata": {
        "id": "H_wPgE2DvHhy"
      },
      "source": [
        "### 6.2.3 Decision Tree Classifier"
      ]
    },
    {
      "cell_type": "code",
      "metadata": {
        "id": "WPbv99hnvHhz"
      },
      "source": [
        "print(classification_report(y_val, dtc_pred))"
      ],
      "execution_count": null,
      "outputs": []
    },
    {
      "cell_type": "markdown",
      "metadata": {
        "id": "Nq06nLGlvHh2"
      },
      "source": [
        "### 6.2.4 Support vector machine Classifier"
      ]
    },
    {
      "cell_type": "code",
      "metadata": {
        "id": "bUv1FN-wvHh3"
      },
      "source": [
        "print(classification_report(y_val, svc_pred))"
      ],
      "execution_count": null,
      "outputs": []
    },
    {
      "cell_type": "markdown",
      "metadata": {
        "id": "ofGMoz-5vHh-"
      },
      "source": [
        "## 6.3 Overall f1-score"
      ]
    },
    {
      "cell_type": "markdown",
      "metadata": {
        "id": "MOBYJBU7vHh-"
      },
      "source": [
        "### 6.3.1 Random Forest Classifier"
      ]
    },
    {
      "cell_type": "code",
      "metadata": {
        "id": "j5DriMJEvHh_"
      },
      "source": [
        "rfc_f1=f1_score(y_val, rfc_pred, average=\"macro\")"
      ],
      "execution_count": null,
      "outputs": []
    },
    {
      "cell_type": "markdown",
      "metadata": {
        "id": "9lDmXCv1vHiD"
      },
      "source": [
        "### 6.3.2 Logistic Classifier"
      ]
    },
    {
      "cell_type": "code",
      "metadata": {
        "id": "AjN30K0CvHiE"
      },
      "source": [
        "lmc_f1=f1_score(y_val, lmc_pred, average=\"macro\")"
      ],
      "execution_count": null,
      "outputs": []
    },
    {
      "cell_type": "markdown",
      "metadata": {
        "id": "D0ReBWMevHiH"
      },
      "source": [
        "### 6.3.3 Decision Tree Classifier"
      ]
    },
    {
      "cell_type": "code",
      "metadata": {
        "id": "CdRYyR4FvHiI"
      },
      "source": [
        "dtc_f1=f1_score(y_val, dtc_pred, average=\"macro\")"
      ],
      "execution_count": null,
      "outputs": []
    },
    {
      "cell_type": "markdown",
      "metadata": {
        "id": "BkLAniVXvHiP"
      },
      "source": [
        "### 6.3.4 Support vector machine Classifier"
      ]
    },
    {
      "cell_type": "code",
      "metadata": {
        "id": "0wG9jFNSvHiQ"
      },
      "source": [
        "svc_f1=f1_score(y_val, svc_pred, average=\"macro\")"
      ],
      "execution_count": null,
      "outputs": []
    },
    {
      "cell_type": "markdown",
      "metadata": {
        "id": "xCOBmMN7vHiX"
      },
      "source": [
        "# 7. Submitions"
      ]
    },
    {
      "cell_type": "markdown",
      "metadata": {
        "id": "-X5dGTwKvHiX"
      },
      "source": [
        "adding a sentiment column to our original test df"
      ]
    },
    {
      "cell_type": "code",
      "metadata": {
        "id": "5ZR3flO_vHiY"
      },
      "source": [
        "test['sentiment'] = svc_pred_t"
      ],
      "execution_count": null,
      "outputs": []
    },
    {
      "cell_type": "code",
      "metadata": {
        "id": "A-lGwlKvvHib"
      },
      "source": [
        "test.head()"
      ],
      "execution_count": null,
      "outputs": []
    },
    {
      "cell_type": "markdown",
      "metadata": {
        "id": "2TaSjnWIvHie"
      },
      "source": [
        "Creating an output csv for submission"
      ]
    },
    {
      "cell_type": "code",
      "metadata": {
        "id": "ioB67GZfvHif"
      },
      "source": [
        "test[['tweetid','sentiment']].to_csv('testsubmission.csv', index=False)"
      ],
      "execution_count": null,
      "outputs": []
    },
    {
      "cell_type": "markdown",
      "metadata": {
        "id": "DNij1MZMvHij"
      },
      "source": [
        "# Comet"
      ]
    },
    {
      "cell_type": "code",
      "metadata": {
        "id": "uxQcptrtvHij"
      },
      "source": [
        "#Create dictionaries for the data we want to log\n",
        "params={'random_state':7,\n",
        "        'model_type':'lmc',\n",
        "        'stratify':True\n",
        "}\n",
        "metrics = {'RFC_F': rfc_f1,\n",
        "           'LMC_F1': lmc_f1,\n",
        "           'DTC_F1':dtc_f1,\n",
        "           'SVC_F1':svc_f1\n",
        "           #'recalls':recall_score,\n",
        "           #'precision':precision_score\n",
        "}"
      ],
      "execution_count": null,
      "outputs": []
    },
    {
      "cell_type": "code",
      "metadata": {
        "id": "gE8mQPVcvHio"
      },
      "source": [
        "experiment.log_parameters(params)\n",
        "experiment.log_metrics(metrics)\n",
        "log_metric()"
      ],
      "execution_count": null,
      "outputs": []
    },
    {
      "cell_type": "code",
      "metadata": {
        "id": "mt8VpmOLvHiv"
      },
      "source": [
        "experiment.end()"
      ],
      "execution_count": null,
      "outputs": []
    },
    {
      "cell_type": "markdown",
      "metadata": {
        "id": "HyP6WIOfB7do"
      },
      "source": [
        "# 8. Tuned and Improved Model"
      ]
    },
    {
      "cell_type": "markdown",
      "metadata": {
        "id": "IGQSZo_lZDKd"
      },
      "source": [
        ""
      ]
    },
    {
      "cell_type": "markdown",
      "metadata": {
        "id": "2qkdIitoDxgb"
      },
      "source": [
        "# i. Data Cleaning"
      ]
    },
    {
      "cell_type": "code",
      "metadata": {
        "id": "PfPLvs4FD2o3"
      },
      "source": [
        "train_data = pd.read_csv('train.csv')\n",
        "test_data = pd.read_csv('test.csv')\n",
        "df_train = train_data.copy() #For EDA on raw data\n",
        "df_test = test_data.copy()"
      ],
      "execution_count": null,
      "outputs": []
    },
    {
      "cell_type": "code",
      "metadata": {
        "id": "SAuvtu3tEAtF"
      },
      "source": [
        "train_data.head()"
      ],
      "execution_count": null,
      "outputs": []
    },
    {
      "cell_type": "code",
      "metadata": {
        "id": "VyGemlKVEDmx"
      },
      "source": [
        "test_data.head()"
      ],
      "execution_count": null,
      "outputs": []
    },
    {
      "cell_type": "code",
      "metadata": {
        "id": "c96zi1fxdfh5"
      },
      "source": [
        "# Final Cleaning\n",
        "def sentiment_changer(df):\n",
        "    \"\"\"\n",
        "    Change key words to reflect the general sentiment associated with it.\n",
        "    \"\"\"\n",
        "    df['message'] = df['message'].apply(lambda x: x.replace('global', 'negative'))\n",
        "    df['message'] = df['message'].apply(lambda x: x.replace('climate', 'positive'))\n",
        "    df['message'] = df['message'].apply(lambda x: x.replace('MAGA', 'negative'))\n",
        "    return df['message']\n",
        "\n",
        "train_data['message'] = sentiment_changer(train_data)\n",
        "test_data['message'] = sentiment_changer(test_data)\n",
        "\n",
        "def clean(df):\n",
        "    \"\"\"\n",
        "    Apply data cleaning steps to raw data.\n",
        "    \"\"\"\n",
        "    df['token'] = df['message'].apply(TweetTokenizer().tokenize) ## first we tokenize\n",
        "    df['punc'] = df['token'].apply(lambda x : [i for i in x if i not in string.punctuation])## remove punctuations\n",
        "    df['dig'] = df['punc'].apply(lambda x: [i for i in x if i not in list(string.digits)]) ## remove digits\n",
        "    df['final'] = df['dig'].apply(lambda x: [i for i in x if len(i) > 1]) ## remove all words with only 1 character\n",
        "    return df['final']\n",
        "\n",
        "train_data['final'] = clean(train_data)\n",
        "test_data['final'] = clean(test_data)"
      ],
      "execution_count": null,
      "outputs": []
    },
    {
      "cell_type": "markdown",
      "metadata": {
        "id": "b-CZftK9ol5L"
      },
      "source": [
        "### Resampling\n",
        "We addressed the problem of imbalanced training data by resampling the data before building our models. A class size was determined based on the second largest sentiment class and other classes were either upsampled or downsampled according to the class size. However, resampling the data did not improve the performance of the models and we therefore excluded it."
      ]
    },
    {
      "cell_type": "markdown",
      "metadata": {
        "id": "TDzXmd6gdrox"
      },
      "source": [
        "## Lemmatisation"
      ]
    },
    {
      "cell_type": "markdown",
      "metadata": {
        "id": "9z1HRG6Ld1ne"
      },
      "source": [
        "Lemmatisation aims to remove inflectional word endings to return the base or dictionary form of a word, also known as \"lemma\". We used the WordNetLemmatizer() from nltk, as well as by way of applying part of speech."
      ]
    },
    {
      "cell_type": "code",
      "metadata": {
        "id": "AhUBMLt5d5m8"
      },
      "source": [
        "def get_part_of_speech(word):\n",
        "    \"\"\"\n",
        "    Find part of speech of word if part of speech is either noun, verb, adjective etc and add it to a list.\n",
        "    \"\"\"\n",
        "    probable_part_of_speech = wordnet.synsets(word) ## finding word that is most similar (synonyms) for semantic reasoning\n",
        "    pos_counts = Counter() ## instantiating our counter class\n",
        "    pos_counts[\"n\"] = len([i for i in probable_part_of_speech if i.pos()==\"n\"])\n",
        "    pos_counts[\"v\"] = len([i for i in probable_part_of_speech if i.pos()==\"v\"])\n",
        "    pos_counts[\"a\"] = len([i for i in probable_part_of_speech if i.pos()==\"a\"])\n",
        "    pos_counts[\"r\"] = len([i for i in probable_part_of_speech if i.pos()==\"r\"])\n",
        "    most_likely_part_of_speech = pos_counts.most_common(1)[0][0] ## will extract the most likely part of speech from the list\n",
        "    return most_likely_part_of_speech\n",
        "\n",
        "normalizer = WordNetLemmatizer()\n",
        "\n",
        "train_data['final'] = train_data['final'].apply(lambda x: [normalizer.lemmatize(token, get_part_of_speech(token)) for token in x])\n",
        "test_data['final'] = test_data['final'].apply(lambda x: [normalizer.lemmatize(token, get_part_of_speech(token)) for token in x])"
      ],
      "execution_count": null,
      "outputs": []
    },
    {
      "cell_type": "markdown",
      "metadata": {
        "id": "IkdnFNw8eC3J"
      },
      "source": [
        "## Split Training and Validation Sets"
      ]
    },
    {
      "cell_type": "markdown",
      "metadata": {
        "id": "4NL2fv6ueade"
      },
      "source": [
        "Training data: Data that contains a known label. The model is trained on this data to be able to generalize unlabeled data.\n",
        "Validation data: A subset of the training data that is used to assess how well the algorithm was trained on the training data.\n",
        "Test data: Data that is used to provide an unbiased evaluation of the final model fit on the training dataset."
      ]
    },
    {
      "cell_type": "code",
      "metadata": {
        "id": "TIuqb_1qegI-"
      },
      "source": [
        "X = train_data['final']\n",
        "y = train_data['sentiment']\n",
        "X_test = test_data['final']\n",
        "X_train, X_val, y_train, y_val = train_test_split(X, y, test_size=0.1, random_state = 42)"
      ],
      "execution_count": null,
      "outputs": []
    },
    {
      "cell_type": "markdown",
      "metadata": {
        "id": "V2usUbQ6eogs"
      },
      "source": [
        "## Feature Extraction"
      ]
    },
    {
      "cell_type": "markdown",
      "metadata": {
        "id": "I_Xd_wD4euEO"
      },
      "source": [
        "The TfidfVectorizer transforms text to feature vectors that can be used as input to a classification model."
      ]
    },
    {
      "cell_type": "code",
      "metadata": {
        "id": "Ff5RX9HGevi2"
      },
      "source": [
        "X_train = list(X_train.apply(' '.join))\n",
        "X_val = list(X_val.apply(' '.join))\n",
        "\n",
        "vectorizer = TfidfVectorizer(sublinear_tf=True, smooth_idf = True, max_df = 0.3, min_df = 5, ngram_range = (1, 2))\n",
        "vectorizer.fit(X_train)\n",
        "\n",
        "# vect_save_path = \"TfidfVectorizer.pkl\"\n",
        "# with open(vect_save_path,'wb') as file:\n",
        "#     pickle.dump(vectorizer,file)\n",
        "\n",
        "X_train = vectorizer.transform(X_train)\n",
        "X_val = vectorizer.transform(X_val)"
      ],
      "execution_count": null,
      "outputs": []
    },
    {
      "cell_type": "markdown",
      "metadata": {
        "id": "hplRCEiWfGDs"
      },
      "source": [
        "# ii. Modelling"
      ]
    },
    {
      "cell_type": "markdown",
      "metadata": {
        "id": "2teDtt2nfQza"
      },
      "source": [
        "## logistic regression"
      ]
    },
    {
      "cell_type": "markdown",
      "metadata": {
        "id": "UoRooQwbfX5f"
      },
      "source": [
        "Logistic regression is a statistical model that makes use of a logistic function to model a binary dependent variable, however, multiclass classification with logistic regression can be done through the one-vs-rest scheme in which a separate model is trained for each class to predict whether an observation is that class or not (thus making it a binary classification problem)."
      ]
    },
    {
      "cell_type": "code",
      "metadata": {
        "id": "vwymi68TfZ3X"
      },
      "source": [
        "modelstart = time.time()\n",
        "logreg = LogisticRegression(C=1000, multi_class='ovr', solver='saga', random_state=42, max_iter=10)\n",
        "logreg.fit(X_train, y_train)\n",
        "y_pred = logreg.predict(X_val)\n",
        "logreg_f1 = round(f1_score(y_val, y_pred, average='weighted'),2)\n",
        "print('Accuracy %s' % accuracy_score(y_pred, y_val))\n",
        "print(\"Model Runtime: %0.2f seconds\"%((time.time() - modelstart)))\n",
        "report = classification_report(y_val, y_pred, output_dict=True)\n",
        "results = pd.DataFrame(report).transpose()\n",
        "results"
      ],
      "execution_count": null,
      "outputs": []
    },
    {
      "cell_type": "code",
      "metadata": {
        "id": "SsTTYLwRqVW9"
      },
      "source": [
        "plot_confusion_matrix(y_val, y_pred, normalize=True,figsize=(8,8),cmap='winter_r')\n",
        "plt.show()"
      ],
      "execution_count": null,
      "outputs": []
    },
    {
      "cell_type": "markdown",
      "metadata": {
        "id": "dSi6Jnw5fuoI"
      },
      "source": [
        "## Multinomial Naive Bayes"
      ]
    },
    {
      "cell_type": "markdown",
      "metadata": {
        "id": "3lBUU_G0fw6H"
      },
      "source": [
        "The Multinomial Naive Bayes model estimates the conditional probability of a particular feature given a class and uses a multinomial distribution for each of the features. The model assumes that each feature makes an independent and equal contribution to the outcome."
      ]
    },
    {
      "cell_type": "code",
      "metadata": {
        "id": "KMOsu_LBf2Um"
      },
      "source": [
        "modelstart= time.time()\n",
        "multinb = MultinomialNB()\n",
        "multinb.fit(X_train, y_train)\n",
        "y_pred = multinb.predict(X_val)\n",
        "multinb_f1 = round(f1_score(y_val, y_pred, average='weighted'),2)\n",
        "print('Accuracy %s' % accuracy_score(y_pred, y_val))\n",
        "print(\"Model Runtime: %0.2f seconds\"%((time.time() - modelstart)))\n",
        "report = classification_report(y_val, y_pred, output_dict=True)\n",
        "results = pd.DataFrame(report).transpose()\n",
        "# results.to_csv(\"multinb_report.csv\")\n",
        "results"
      ],
      "execution_count": null,
      "outputs": []
    },
    {
      "cell_type": "code",
      "metadata": {
        "id": "Ja3R1DN_qZnb"
      },
      "source": [
        "plot_confusion_matrix(y_val, y_pred, normalize=True,figsize=(8,8),cmap='winter_r')\n",
        "plt.show()"
      ],
      "execution_count": null,
      "outputs": []
    },
    {
      "cell_type": "markdown",
      "metadata": {
        "id": "6RN8A-uVf9eP"
      },
      "source": [
        "## Random Forest Classifier"
      ]
    },
    {
      "cell_type": "markdown",
      "metadata": {
        "id": "p9aNsiHLgCWn"
      },
      "source": [
        "Random forest models are an example of an ensemble method that is built on decision trees (i.e. it relies on aggregating the results of an ensemble of decision trees). Decision tree machine learning models represent data by partitioning it into different sections based on questions asked of independent variables in the data. Training data is placed at the root node and is then partitioned into smaller subsets which form the 'branches' of the tree. In random forest models, the trees are randomized and the model returns the mean prediction of all the individual trees."
      ]
    },
    {
      "cell_type": "code",
      "metadata": {
        "id": "4b8VTwA8gFpZ"
      },
      "source": [
        "modelstart = time.time()\n",
        "rf = RandomForestClassifier(max_features=4, random_state=42)\n",
        "rf.fit(X_train, y_train)\n",
        "y_pred = rf.predict(X_val)\n",
        "rf_f1 = round(f1_score(y_val, y_pred, average='weighted'),2)\n",
        "print('Accuracy %s' % accuracy_score(y_pred, y_val))\n",
        "print(\"Model Runtime: %0.2f seconds\"%((time.time() - modelstart)))\n",
        "report = classification_report(y_val, y_pred, output_dict=True)\n",
        "pd.DataFrame(report).transpose()"
      ],
      "execution_count": null,
      "outputs": []
    },
    {
      "cell_type": "code",
      "metadata": {
        "id": "TUJJeGrnqbig"
      },
      "source": [
        "plot_confusion_matrix(y_val, y_pred, normalize=True,figsize=(8,8),cmap='winter_r')\n",
        "plt.show()"
      ],
      "execution_count": null,
      "outputs": []
    },
    {
      "cell_type": "markdown",
      "metadata": {
        "id": "DYYmLiSGgKt0"
      },
      "source": [
        "## Support Vector Classifier"
      ]
    },
    {
      "cell_type": "markdown",
      "metadata": {
        "id": "ZBCxJekVgMiK"
      },
      "source": [
        "A Support Vector Classifier is a discriminative classifier formally defined by a separating hyperplane. When labelled training data is passed to the model, also known as supervised learning, the algorithm outputs an optimal hyperplane which categorizes new data."
      ]
    },
    {
      "cell_type": "code",
      "metadata": {
        "id": "3LAv7hi8gSAG"
      },
      "source": [
        "modelstart = time.time()\n",
        "svc = SVC(gamma = 0.8, C = 10, random_state=42)\n",
        "svc.fit(X_train, y_train)\n",
        "y_pred = svc.predict(X_val)\n",
        "svc_f1 = round(f1_score(y_val, y_pred, average='weighted'),2)\n",
        "print('Accuracy %s' % accuracy_score(y_pred, y_val))\n",
        "print(\"Model Runtime: %0.2f seconds\"%((time.time() - modelstart)))\n",
        "report = classification_report(y_val, y_pred, output_dict=True)\n",
        "results = pd.DataFrame(report).transpose()\n",
        "results"
      ],
      "execution_count": null,
      "outputs": []
    },
    {
      "cell_type": "code",
      "metadata": {
        "id": "C_Z2-6W7qgeP"
      },
      "source": [
        "plot_confusion_matrix(y_val, y_pred, normalize=True,figsize=(8,8),cmap='winter_r')\n",
        "plt.show()"
      ],
      "execution_count": null,
      "outputs": []
    },
    {
      "cell_type": "markdown",
      "metadata": {
        "id": "IMr9VW8LgYRU"
      },
      "source": [
        "## Linear SVC"
      ]
    },
    {
      "cell_type": "markdown",
      "metadata": {
        "id": "XF3fzv14gZ6J"
      },
      "source": [
        "The objective of a Linear Support Vector Classifier is to return a \"best fit\" hyperplane that categorises the data. It is similar to SVC with the kernel parameter set to ’linear’, but it is implemented in terms of liblinear rather than libsvm, so it has more flexibility in the choice of penalties and loss functions and can scale better to large numbers of samples."
      ]
    },
    {
      "cell_type": "code",
      "metadata": {
        "id": "8rU2kpp0gfCu"
      },
      "source": [
        "modelstart = time.time() \n",
        "linsvc = LinearSVC()\n",
        "linsvc.fit(X_train, y_train)\n",
        "y_pred = linsvc.predict(X_val)\n",
        "linsvc_f1 = round(f1_score(y_val, y_pred, average='weighted'),2)\n",
        "print('Accuracy %s' % accuracy_score(y_pred, y_val))\n",
        "print(\"Model Runtime: %0.2f seconds\"%((time.time() - modelstart)))\n",
        "report = classification_report(y_val, y_pred, output_dict=True)\n",
        "results = pd.DataFrame(report).transpose()\n",
        "results"
      ],
      "execution_count": null,
      "outputs": []
    },
    {
      "cell_type": "code",
      "metadata": {
        "id": "2iYFR3syqkqh"
      },
      "source": [
        "plot_confusion_matrix(y_val, y_pred, normalize=True,figsize=(8,8),cmap='winter_r')\n",
        "plt.show()"
      ],
      "execution_count": null,
      "outputs": []
    },
    {
      "cell_type": "markdown",
      "metadata": {
        "id": "rAaqzjLUgn2M"
      },
      "source": [
        "## K Neighbours Classifier"
      ]
    },
    {
      "cell_type": "markdown",
      "metadata": {
        "id": "iFhd_3q-grf4"
      },
      "source": [
        "The K Neighbours Classifier is a classifier that implements the k-nearest neighbours vote. In classification, the output is a class membership. An object is classified by a plurality vote of its neighbours, with the object being assigned to the class most common among its k-nearest neighbours."
      ]
    },
    {
      "cell_type": "code",
      "metadata": {
        "id": "TaVKMEkOgukn"
      },
      "source": [
        "modelstart = time.time()\n",
        "kn = KNeighborsClassifier(n_neighbors=1)\n",
        "kn.fit(X_train, y_train)\n",
        "y_pred = kn.predict(X_val)\n",
        "kn_f1 = round(f1_score(y_val, y_pred, average='weighted'),2)\n",
        "print('accuracy %s' % accuracy_score(y_pred, y_val))\n",
        "print(\"Model Runtime: %0.2f seconds\"%((time.time() - modelstart)))\n",
        "report = classification_report(y_val, y_pred, output_dict=True)\n",
        "results = pd.DataFrame(report).transpose()\n",
        "results"
      ],
      "execution_count": null,
      "outputs": []
    },
    {
      "cell_type": "code",
      "metadata": {
        "id": "VtFRptTfqoaC"
      },
      "source": [
        "plot_confusion_matrix(y_val, y_pred, normalize=True,figsize=(8,8),cmap='winter_r')\n",
        "plt.show()"
      ],
      "execution_count": null,
      "outputs": []
    },
    {
      "cell_type": "markdown",
      "metadata": {
        "id": "GjCY_NmFg2L-"
      },
      "source": [
        "## Decision Tree Classifier"
      ]
    },
    {
      "cell_type": "markdown",
      "metadata": {
        "id": "0u7Qd59Gg4dG"
      },
      "source": [
        "Decision tree machine learning models represent data by partitioning it into different sections based on questions asked of independent variables in the data. Training data is placed at the root node and is then partitioned into smaller subsets which form the 'branches' of the tree."
      ]
    },
    {
      "cell_type": "code",
      "metadata": {
        "id": "7cC6nkRTg9Gf"
      },
      "source": [
        "modelstart = time.time()\n",
        "dt = DecisionTreeClassifier(random_state=42)    \n",
        "dt.fit(X_train, y_train)\n",
        "y_pred = dt.predict(X_val)\n",
        "dt_f1 = round(f1_score(y_val, y_pred, average='weighted'),2)\n",
        "print('accuracy %s' % accuracy_score(y_pred, y_val))\n",
        "print(\"Model Runtime: %0.2f seconds\"%((time.time() - modelstart)))\n",
        "report = classification_report(y_val, y_pred, output_dict=True)\n",
        "pd.DataFrame(report).transpose()"
      ],
      "execution_count": null,
      "outputs": []
    },
    {
      "cell_type": "code",
      "metadata": {
        "id": "-_BrD3UaqtTh"
      },
      "source": [
        "plot_confusion_matrix(y_val, y_pred, normalize=True,figsize=(8,8),cmap='winter_r')\n",
        "plt.show()"
      ],
      "execution_count": null,
      "outputs": []
    },
    {
      "cell_type": "markdown",
      "metadata": {
        "id": "K9fQUv4ahDrO"
      },
      "source": [
        "## AdaBoost Classifier"
      ]
    },
    {
      "cell_type": "markdown",
      "metadata": {
        "id": "SZBBJWOFhH9P"
      },
      "source": [
        "The AdaBoost classifier is an iterative ensemble method that begins by fitting a classifier on the original dataset and then fits additional copies of the classifier on the same dataset. In the second step, the weights of incorrectly classified instances are adjusted such that subsequent classifiers focus more on difficult cases."
      ]
    },
    {
      "cell_type": "code",
      "metadata": {
        "id": "cJNqVnvRhNV-"
      },
      "source": [
        "modelstart = time.time()\n",
        "ad = AdaBoostClassifier(random_state=42)\n",
        "ad.fit(X_train, y_train)\n",
        "y_pred = ad.predict(X_val)\n",
        "ad_f1 = round(f1_score(y_val, y_pred, average='weighted'),2)\n",
        "print('accuracy %s' % accuracy_score(y_pred, y_val))\n",
        "print(\"Model Runtime: %0.2f seconds\"%((time.time() - modelstart)))\n",
        "report = classification_report(y_val, y_pred, output_dict=True)\n",
        "pd.DataFrame(report).transpose()"
      ],
      "execution_count": null,
      "outputs": []
    },
    {
      "cell_type": "code",
      "metadata": {
        "id": "pYHT4w4Hqx5L"
      },
      "source": [
        "plot_confusion_matrix(y_val, y_pred, normalize=True,figsize=(8,8),cmap='winter_r')\n",
        "plt.show()"
      ],
      "execution_count": null,
      "outputs": []
    },
    {
      "cell_type": "markdown",
      "metadata": {
        "id": "e5eyGSOvhOEC"
      },
      "source": [
        "## iii. Model Performance"
      ]
    },
    {
      "cell_type": "markdown",
      "metadata": {
        "id": "tFTq5GV1hXDN"
      },
      "source": [
        "### Performance Metrics of Best Models\n",
        "\n",
        "We built and tested eight different classification models and compared their performance using a statistical measure known as the weighted F1 score, which takes into account the proportions of each class fed into the model. This is a weighted average of the precision and recall of the model and is the measure that will be used to test the accuracy of our Kaggle output. \n",
        "\n",
        "#### Precision\n",
        "\n",
        "When it predicts \"True\", how often is it correct? \n",
        "\n",
        "$$ Precision = \\frac{TP}{TP \\space + FP} = \\frac{TP}{Total \\space Predicted \\space Positive} $$\n",
        "\n",
        "#### Recall\n",
        "\n",
        "When the outcome is actually \"True\", how often do we predict it as such?\n",
        "\n",
        "$$ Recall = \\frac{TP}{TP \\space + FN} = \\frac{TP}{Total \\space Actual \\space Positive}$$\n",
        "\n",
        "#### F1 Score\n",
        "\n",
        "Weighted average of precision and recall. \n",
        "\n",
        "$$F_1 = 2 \\times \\frac {Precision \\space \\times \\space Recall }{Precision \\space + \\space Recall }$$"
      ]
    },
    {
      "cell_type": "code",
      "metadata": {
        "id": "iwEVbWATht8-"
      },
      "source": [
        "# Compare Weighted F1-Scores Between Models\n",
        "fig,axis = plt.subplots(figsize=(10, 5))\n",
        "rmse_x = ['Multinomial Naive Bayes','Logistic Regression','Random Forest Classifier','Support Vector Classifier','Linear SVC','K Neighbours Classifier','Decision Tree Classifier','AdaBoost Classifier']\n",
        "rmse_y = [multinb_f1,logreg_f1,rf_f1,svc_f1,linsvc_f1,kn_f1,dt_f1,ad_f1]\n",
        "ax = sns.barplot(x=rmse_x, y=rmse_y,palette='winter')\n",
        "plt.title('Weighted F1-Score Per Classification Model',fontsize=14)\n",
        "plt.xticks(rotation=90)\n",
        "plt.ylabel('Weighted F1-Score')\n",
        "for p in ax.patches:\n",
        "    ax.text(p.get_x() + p.get_width()/2, p.get_y() + p.get_height(), round(p.get_height(),2), fontsize=12, ha=\"center\", va='bottom')\n",
        "    \n",
        "plt.show()"
      ],
      "execution_count": null,
      "outputs": []
    },
    {
      "cell_type": "markdown",
      "metadata": {
        "id": "aG0xJj6Fh1j-"
      },
      "source": [
        "From the performance metrics, we see that the **Support Vector Classifier** performed the best on our validation set, closely followed by the **Linear SVC** and **Logistic Regression** models. The K Neighbours Classifier significantly performed the worst, which may be due to the k value that was selected for the model. To ensure that we get a robust measure of classifier performance, we will apply cross validation and hyperparameter tuning on the top three performing models."
      ]
    },
    {
      "cell_type": "markdown",
      "metadata": {
        "id": "ixePSAaHh6Bj"
      },
      "source": [
        "### Hyperparameter Tuning of Best Models\n",
        "**Cross validation** is a technique used to test the accuracy of a model's prediction on unseen data (validation sets). This is important because it can assist in picking up issues such as over/underfitting and selection bias. We used the K-fold technique to perform cross validation. \n",
        "\n",
        "**Hyperparameter tuning** is the process by which a set of ideal hyperparameters are chosen for a model. A hyperparameter is a parameter for which the value is set manually and tuned to control the algorithm's learning process."
      ]
    },
    {
      "cell_type": "markdown",
      "metadata": {
        "id": "nBx_T472h8Xx"
      },
      "source": [
        "**Logistic Regression**"
      ]
    },
    {
      "cell_type": "code",
      "metadata": {
        "id": "FxcEahbaiCLi"
      },
      "source": [
        "LogisticRegression().get_params()"
      ],
      "execution_count": null,
      "outputs": []
    },
    {
      "cell_type": "code",
      "metadata": {
        "id": "9Cw3SLAhjrxY"
      },
      "source": [
        "param_grid = {'C': [1000], #[100,1000]\n",
        "              'max_iter': [10], #[10,100]\n",
        "              'multi_class': ['ovr'], #['ovr', 'multinomial']\n",
        "              'random_state': [42],\n",
        "              'solver': ['saga']} #['saga','lbfgs']\n",
        "grid_LR = GridSearchCV(LogisticRegression(), param_grid, scoring='f1_weighted', cv=5, n_jobs=-1)\n",
        "grid_LR.fit(X_train, y_train)\n",
        "y_pred = grid_LR.predict(X_val)\n",
        "print(\"Best parameters:\")\n",
        "print(grid_LR.best_params_)\n",
        "print('accuracy %s' % accuracy_score(y_pred, y_val))\n",
        "print(classification_report(y_val, y_pred))"
      ],
      "execution_count": null,
      "outputs": []
    },
    {
      "cell_type": "markdown",
      "metadata": {
        "id": "5owM-Yz1jtLZ"
      },
      "source": [
        "#### Linear SVC"
      ]
    },
    {
      "cell_type": "code",
      "metadata": {
        "id": "VmvL9eKFjyi7"
      },
      "source": [
        "LinearSVC().get_params()"
      ],
      "execution_count": null,
      "outputs": []
    },
    {
      "cell_type": "code",
      "metadata": {
        "id": "6lWLl6qJkLQV"
      },
      "source": [
        "param_grid = {'C': [100],#[0.1,1,10,100,1000]\n",
        "              'max_iter': [10], #[10,100]\n",
        "              'multi_class' : ['ovr'], #['crammer_singer', 'ovr']\n",
        "              'random_state': [42]} \n",
        "grid_LSVC = GridSearchCV(LinearSVC(), param_grid, scoring='f1_weighted', cv=5, n_jobs=-1)\n",
        "grid_LSVC.fit(X_train, y_train)\n",
        "y_pred = grid_LSVC.predict(X_val)\n",
        "print(grid_LSVC.best_params_)\n",
        "print('accuracy %s' % accuracy_score(y_pred, y_val))\n",
        "print(classification_report(y_val, y_pred))"
      ],
      "execution_count": null,
      "outputs": []
    },
    {
      "cell_type": "markdown",
      "metadata": {
        "id": "EnedMaGHkQvm"
      },
      "source": [
        "#### Support Vector Classifier"
      ]
    },
    {
      "cell_type": "code",
      "metadata": {
        "id": "Oz5QSZRlkWMx"
      },
      "source": [
        "SVC().get_params()"
      ],
      "execution_count": null,
      "outputs": []
    },
    {
      "cell_type": "code",
      "metadata": {
        "id": "rlQsQ-T8kYyp"
      },
      "source": [
        "param_grid = {'C': [10],#[0.1,1,10,100,1000]\n",
        "              'gamma': [0.8], #[0.8,1]\n",
        "              'kernel': ['rbf'], #['linear','rbf']\n",
        "              'random_state': [42]} \n",
        "grid_SVC = GridSearchCV(SVC(), param_grid, scoring='f1_weighted', cv=5, n_jobs=-1)\n",
        "grid_SVC.fit(X_train, y_train)\n",
        "y_pred = grid_SVC.predict(X_val)\n",
        "print(grid_SVC.best_params_)\n",
        "print('accuracy %s' % accuracy_score(y_pred, y_val))\n",
        "print(classification_report(y_val, y_pred))"
      ],
      "execution_count": null,
      "outputs": []
    },
    {
      "cell_type": "markdown",
      "metadata": {
        "id": "2kXSq6IAkiBb"
      },
      "source": [
        "# iv. Model Analysis"
      ]
    },
    {
      "cell_type": "markdown",
      "metadata": {
        "id": "X0sbtAzNks7L"
      },
      "source": [
        "We used a TF-IDF vectorizer to compute a weight for each word token by its level of importance and vectorize it and we used a radial basis function support vector classifier (SVC) to train our model. After a bit of hyperparameter tuning, we found the following parameters to work well: {'C': 10, 'gamma': 0.8, 'kernel': 'rbf', 'random_state': 42}. A token pattern of alphanumeric words performed best and since the average tweet has around 17 words, an n-gram of 1 to 2 performs best in capturing semantic meaning. The SVC parameters were chosen because the radial basis function performs better than a Linear SVC at splitting up the areas in which the different semantic lies. This is possibly due to the fact that the classification is not binary."
      ]
    },
    {
      "cell_type": "markdown",
      "metadata": {
        "id": "aUxCBCT2kz5G"
      },
      "source": [
        "#### Performance Metrics"
      ]
    },
    {
      "cell_type": "code",
      "metadata": {
        "id": "dN9OyIBdk9Gq"
      },
      "source": [
        "y_pred = svc.predict(X_val)\n",
        "print('accuracy %s' % accuracy_score(y_pred, y_val))\n",
        "print(classification_report(y_val, y_pred))"
      ],
      "execution_count": null,
      "outputs": []
    },
    {
      "cell_type": "markdown",
      "metadata": {
        "id": "BjyXGx1Zotn8"
      },
      "source": [
        "### ROC Curves and AUC\n",
        "ROC curves show the trade-off between sensitivity and specificity of a classification model. Classifiers that produce curves closer to the top-left corner indicate a better performance. The area under the ROC curve (AUC), is equivalent to the probability that a randomly chosen positive instance is ranked higher than a randomly chosen negative instance. High AUC values are a general measure of good predictive accuracy."
      ]
    },
    {
      "cell_type": "code",
      "metadata": {
        "id": "FbroXO7Zo331"
      },
      "source": [
        "# If model doesn't take \"probability=True\" as an argument (e.g. LinearSVC)\n",
        "ovr =  OneVsRestClassifier(SVC(random_state=42,class_weight='balanced'))\n",
        "\n",
        "y_train_binarized = label_binarize(y_train, classes=[-1, 0, 1, 2])\n",
        "y_val_binarized = label_binarize(y_val, classes=[-1, 0, 1, 2])\n",
        "n_classes = 4\n",
        "\n",
        "ovr.fit(X_train, y_train_binarized)\n",
        "\n",
        "# decision_function predicts a “soft” score for each sample in relation to each class, \n",
        "# rather than the “hard” categorical prediction produced by predict. Its input is \n",
        "# usually only some observed data, X.\n",
        "y_probas = ovr.decision_function(X_val)\n",
        "\n",
        "plot_roc(y_val, y_probas,figsize=(8,8),cmap='winter_r')\n",
        "plt.show()"
      ],
      "execution_count": null,
      "outputs": []
    },
    {
      "cell_type": "markdown",
      "metadata": {
        "id": "uHkJ_URUpCl9"
      },
      "source": [
        "### Results"
      ]
    },
    {
      "cell_type": "code",
      "metadata": {
        "id": "3qcW_jxspFer"
      },
      "source": [
        "# Make prediction on test data\n",
        "X = train_data['final']\n",
        "y = train_data['sentiment']\n",
        "X_test = test_data['final']\n",
        "\n",
        "X = list(X.apply(' '.join))\n",
        "X_test = list(X_test.apply(' '.join))\n",
        "\n",
        "vectorizer = TfidfVectorizer(sublinear_tf=True, smooth_idf = True, max_df = 0.3, min_df = 5, ngram_range = (1, 2))\n",
        "vectorizer.fit(X)\n",
        "\n",
        "X = vectorizer.transform(X)\n",
        "X_test = vectorizer.transform(X_test)\n",
        "\n",
        "svc = SVC(gamma=0.8, C=10, random_state=42)\n",
        "svc.fit(X, y)\n",
        "y_test = svc.predict(X_test)"
      ],
      "execution_count": null,
      "outputs": []
    },
    {
      "cell_type": "code",
      "metadata": {
        "id": "WKZwfSHyq7OY"
      },
      "source": [
        "# Number of Tweets Per Sentiment Class\n",
        "fig, axis = plt.subplots(ncols=2, figsize=(15, 5))\n",
        "\n",
        "ax = sns.countplot(y_test,palette='winter',ax=axis[0])\n",
        "axis[0].set_title('Number of Tweets Per Sentiment Class',fontsize=14)\n",
        "axis[0].set_xlabel('Sentiment Class')\n",
        "axis[0].set_ylabel('Tweets')\n",
        "for p in ax.patches:\n",
        "    ax.text(p.get_x() + p.get_width()/2., p.get_height(), '%d' % int(p.get_height()), fontsize=11, ha='center', va='bottom')\n",
        "\n",
        "results = pd.DataFrame({\"tweetid\":test_data['tweetid'],\"sentiment\": y_test})\n",
        "results['sentiment'].value_counts().plot.pie(autopct='%1.1f%%',colormap='winter_r',ax=axis[1])\n",
        "axis[1].set_title('Proportion of Tweets Per Sentiment Class',fontsize=14)\n",
        "axis[1].set_ylabel('Sentiment Class')\n",
        "    \n",
        "plt.show()"
      ],
      "execution_count": null,
      "outputs": []
    },
    {
      "cell_type": "markdown",
      "metadata": {
        "id": "QXzoixLCrBah"
      },
      "source": [
        "# v. Save Output"
      ]
    },
    {
      "cell_type": "code",
      "metadata": {
        "id": "vGvY_ZS9rJVg"
      },
      "source": [
        "# Create Kaggle Submission File\n",
        "results = pd.DataFrame({\"tweetid\":test_data['tweetid'],\"sentiment\": y_test})\n",
        "results.to_csv(\"Team2_final_submission.csv\", index=False)"
      ],
      "execution_count": null,
      "outputs": []
    },
    {
      "cell_type": "markdown",
      "metadata": {
        "id": "KHMx0JznvHi2"
      },
      "source": [
        "# 8. Conclusion"
      ]
    },
    {
      "cell_type": "markdown",
      "metadata": {
        "id": "6bqC6a6LqpMV"
      },
      "source": [
        "In this project, we succeeded in building a supervised machine learning model that is able to classify whether or not a person believes in climate change, based on their novel tweet data. Our top performing model has a weighted F1 score of 0.78, based on our validation set, and the results from our testing set are in line with what was observed in the training set. We think that it is possible that the number of Pro tweets is related to the fact that \"97% or more of actively publishing climate scientists agree: climate-warming trends over the past century are extremely likely due to human activities.\" ([Nasa](https://climate.nasa.gov/scientific-consensus/#*))\n",
        "\n",
        "**Impact investing** is an emerging field that refers to investments made into companies and organisations with the intention to generate measurable social or environmental impact alongside financial return. Many companies are built around lessening one’s environmental impact or carbon footprint and they offer products and services that are environmentally friendly and sustainable, in line with their values and ideals. These companies would like to determine how people perceive climate change and whether or not they believe it is a real threat. Our model provides a valuable solution to this problem and can add to their market research efforts in gauging how their product or service may be received. It gives companies access to a broad base of consumer sentiment, spanning multiple demographic and geographic categories, thus increasing their insights and informing future marketing strategies.\n",
        "\n",
        "From our exploratory data analysis, we can draw some marketing-related insights. For maximum reach in marketing campaigns that target a specific group of people that have a certain stance with regard to climate change, a marketing team can consider the following:\n",
        "\n",
        "\n",
        "\n",
        "\n",
        "  \n",
        "The rise of impact investment has caused companies to focus on generating a positive social and environmental impact in addition to financial returns. It would assist companies to ally their brand and products with the Pro climate change movement. Pro climate change tweets tend to have a wider reach than other classes. Not only is it an ethical stance but it has potential to increase exposure of the brand on Twitter. Their tweets could be used to add their voice to the fight against global warming and thus be expressed as a negative sentiment or possibly nuetral. This could maximize their reach even further and also introduces other considerations, such as financial rewards due to carbon taxes."
      ]
    },
    {
      "cell_type": "markdown",
      "metadata": {
        "id": "087PcbFXvHi3"
      },
      "source": [
        "# 8. References"
      ]
    },
    {
      "cell_type": "markdown",
      "metadata": {
        "id": "_sNGYJb0CfnW"
      },
      "source": [
        "1. https://towardsdatascience.com/tokenization-for-natural-language-processing-a179a891bad4\n",
        "2. https://towardsdatascience.com/machine-learning-text-processing-1d5a2d638958\n",
        "3. "
      ]
    }
  ]
}